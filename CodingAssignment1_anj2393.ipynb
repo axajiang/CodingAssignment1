{
  "nbformat": 4,
  "nbformat_minor": 0,
  "metadata": {
    "colab": {
      "provenance": []
    },
    "kernelspec": {
      "name": "python3",
      "display_name": "Python 3"
    },
    "language_info": {
      "name": "python"
    }
  },
  "cells": [
    {
      "cell_type": "markdown",
      "source": [
        "To begin, we need to install and import BeautifulSoup and Pandas libraries if not already available. Try to import the libraries and if successful, print a success confirmation message. If not successful, install both libraries, import them, and print a success message for installation and importing."
      ],
      "metadata": {
        "id": "1ZL7z974UjbY"
      }
    },
    {
      "cell_type": "code",
      "execution_count": null,
      "metadata": {
        "colab": {
          "base_uri": "https://localhost:8080/"
        },
        "id": "3MQ-cR6APtOV",
        "outputId": "e17623da-25e0-453d-85c3-dcd080537f09"
      },
      "outputs": [
        {
          "output_type": "stream",
          "name": "stdout",
          "text": [
            "BeautifulSoup and Pandas are already installed and imported\n"
          ]
        }
      ],
      "source": [
        "try:\n",
        "    from bs4 import BeautifulSoup\n",
        "    import pandas as pd\n",
        "    print (\"BeautifulSoup and Pandas are already installed and imported\")\n",
        "except:\n",
        "    import sys\n",
        "    !conda install --yes --prefix {sys.prefix} bs4\n",
        "    !conda install --yes --prefix {sys.prefix} pandas\n",
        "    from bs4 import BeautifulSoup\n",
        "    import pandas\n",
        "    print (\"BeautifulSoup and Pandas were not found. Installed them and imported\")\n",
        "\n",
        "import requests"
      ]
    },
    {
      "cell_type": "markdown",
      "source": [
        "Find the webpage that you'd like to scrape data from.\n",
        "\n",
        "*   Initialize a BeautifulSoup object to read and parse the webpage of your choice\n",
        "*   Print a success message when successfully loaded and parsed."
      ],
      "metadata": {
        "id": "80oDXGhXYR3a"
      }
    },
    {
      "cell_type": "code",
      "source": [
        "opened_webpage = requests.get(\"https://en.wikipedia.org/wiki/List_of_United_States_cities_by_population\")\n",
        "print (\"Webpage opened successfully...\")\n",
        "\n",
        "bs = BeautifulSoup(opened_webpage.content, \"html.parser\")\n",
        "print (\"Webpage loaded and parsed successfully...\")"
      ],
      "metadata": {
        "colab": {
          "base_uri": "https://localhost:8080/"
        },
        "id": "PFE2_CUo7m5P",
        "outputId": "87ede11c-ea75-4242-f291-5b7d834fc6a8"
      },
      "execution_count": null,
      "outputs": [
        {
          "output_type": "stream",
          "name": "stdout",
          "text": [
            "Webpage opened successfully...\n",
            "Webpage loaded and parsed successfully...\n"
          ]
        }
      ]
    },
    {
      "cell_type": "markdown",
      "source": [
        "Scrape the raw data from the webpage.\n",
        "\n",
        "*   Define a list where the raw data will be kept.\n",
        "*   Create a table and find the table on the webpage, use the index if there are more than one table on the page to scrape from the appropriate one.\n",
        "*   Read the table line by line using a for loop and append each row's data to the raw_data list.\n",
        "*   Print the raw_data list\n",
        "\n",
        "\n"
      ],
      "metadata": {
        "id": "ok6A7juIY8n8"
      }
    },
    {
      "cell_type": "code",
      "source": [
        "# Define an empty list where the data will be kept\n",
        "raw_data = []\n",
        "\n",
        "# Find all the tables in the webpage page that we have just parsed\n",
        "table = bs.find_all(\"table\")[4]\n",
        "\n",
        "for row in table:\n",
        "    line = row.text\n",
        "    raw_data.append(line)\n",
        "\n",
        "print(raw_data)"
      ],
      "metadata": {
        "colab": {
          "base_uri": "https://localhost:8080/"
        },
        "id": "9gevey4h52AX",
        "outputId": "2982fca2-4df0-4004-f392-6d51f2e6e6da"
      },
      "execution_count": null,
      "outputs": [
        {
          "output_type": "stream",
          "name": "stdout",
          "text": [
            "['\\n', \"\\n2022rank\\n\\nCity\\n\\nState[c]\\n\\n2022estimate\\n\\n2020census\\n\\nChange\\n\\n2020 land area\\n\\n2020 population density\\n\\nLocation\\n\\n\\n1\\n\\nNew York[d]\\n\\nNew York\\n\\n8,335,897\\n\\n8,804,190\\n\\n−5.32%\\n\\n300.5\\xa0sq\\xa0mi\\n\\n778.3\\xa0km2\\n\\n29,298/sq\\xa0mi\\n\\n11,312/km2\\n\\n40°40′N 73°56′W\\ufeff / \\ufeff40.66°N 73.94°W\\ufeff / 40.66; -73.94\\ufeff (New York City)\\n\\n\\n2\\n\\nLos Angeles\\n\\nCalifornia\\n\\n3,822,238\\n\\n3,898,747\\n\\n−1.96%\\n\\n469.5\\xa0sq\\xa0mi\\n\\n1,216.0\\xa0km2\\n\\n8,304/sq\\xa0mi\\n\\n3,206/km2\\n\\n34°01′N 118°25′W\\ufeff / \\ufeff34.02°N 118.41°W\\ufeff / 34.02; -118.41\\ufeff (Los Angeles)\\n\\n\\n3\\n\\nChicago\\n\\nIllinois\\n\\n2,665,039\\n\\n2,746,388\\n\\n−2.96%\\n\\n227.7\\xa0sq\\xa0mi\\n\\n589.7\\xa0km2\\n\\n12,061/sq\\xa0mi\\n\\n4,657/km2\\n\\n41°50′N 87°41′W\\ufeff / \\ufeff41.84°N 87.68°W\\ufeff / 41.84; -87.68\\ufeff (Chicago)\\n\\n\\n4\\n\\nHouston\\n\\nTexas\\n\\n2,302,878\\n\\n2,304,580\\n\\n−0.07%\\n\\n640.4\\xa0sq\\xa0mi\\n\\n1,658.6\\xa0km2\\n\\n3,599/sq\\xa0mi\\n\\n1,390/km2\\n\\n29°47′N 95°23′W\\ufeff / \\ufeff29.79°N 95.39°W\\ufeff / 29.79; -95.39\\ufeff (Houston)\\n\\n\\n5\\n\\nPhoenix\\n\\nArizona\\n\\n1,644,409\\n\\n1,608,139\\n\\n+2.26%\\n\\n518.0\\xa0sq\\xa0mi\\n\\n1,341.6\\xa0km2\\n\\n3,105/sq\\xa0mi\\n\\n1,199/km2\\n\\n33°34′N 112°05′W\\ufeff / \\ufeff33.57°N 112.09°W\\ufeff / 33.57; -112.09\\ufeff (Phoenix)\\n\\n\\n6\\n\\nPhiladelphia[e]\\n\\nPennsylvania\\n\\n1,567,258\\n\\n1,603,797\\n\\n−2.28%\\n\\n134.4\\xa0sq\\xa0mi\\n\\n348.1\\xa0km2\\n\\n11,933/sq\\xa0mi\\n\\n4,607/km2\\n\\n40°01′N 75°08′W\\ufeff / \\ufeff40.01°N 75.13°W\\ufeff / 40.01; -75.13\\ufeff (Philadelphia)\\n\\n\\n7\\n\\nSan Antonio\\n\\nTexas\\n\\n1,472,909\\n\\n1,434,625\\n\\n+2.67%\\n\\n498.8\\xa0sq\\xa0mi\\n\\n1,291.9\\xa0km2\\n\\n2,876/sq\\xa0mi\\n\\n1,110/km2\\n\\n29°28′N 98°31′W\\ufeff / \\ufeff29.46°N 98.52°W\\ufeff / 29.46; -98.52\\ufeff (San Antonio)\\n\\n\\n8\\n\\nSan Diego\\n\\nCalifornia\\n\\n1,381,162\\n\\n1,386,932\\n\\n−0.42%\\n\\n325.9\\xa0sq\\xa0mi\\n\\n844.1\\xa0km2\\n\\n4,256/sq\\xa0mi\\n\\n1,643/km2\\n\\n32°49′N 117°08′W\\ufeff / \\ufeff32.81°N 117.14°W\\ufeff / 32.81; -117.14\\ufeff (San Diego)\\n\\n\\n9\\n\\nDallas\\n\\nTexas\\n\\n1,299,544\\n\\n1,304,379\\n\\n−0.37%\\n\\n339.6\\xa0sq\\xa0mi\\n\\n879.6\\xa0km2\\n\\n3,841/sq\\xa0mi\\n\\n1,483/km2\\n\\n32°47′N 96°46′W\\ufeff / \\ufeff32.79°N 96.77°W\\ufeff / 32.79; -96.77\\ufeff (Dallas)\\n\\n\\n10\\n\\nAustin\\n\\nTexas\\n\\n974,447\\n\\n961,855\\n\\n+1.31%\\n\\n319.9\\xa0sq\\xa0mi\\n\\n828.5\\xa0km2\\n\\n3,007/sq\\xa0mi\\n\\n1,161/km2\\n\\n30°18′N 97°45′W\\ufeff / \\ufeff30.30°N 97.75°W\\ufeff / 30.30; -97.75\\ufeff (Austin)\\n\\n\\n11\\n\\nJacksonville[f]\\n\\nFlorida\\n\\n971,319\\n\\n949,611\\n\\n+2.29%\\n\\n747.3\\xa0sq\\xa0mi\\n\\n1,935.5\\xa0km2\\n\\n1,271/sq\\xa0mi\\n\\n491/km2\\n\\n30°20′N 81°40′W\\ufeff / \\ufeff30.34°N 81.66°W\\ufeff / 30.34; -81.66\\ufeff (Jacksonville)\\n\\n\\n12\\n\\nSan Jose\\n\\nCalifornia\\n\\n971,233\\n\\n1,013,240\\n\\n−4.15%\\n\\n178.3\\xa0sq\\xa0mi\\n\\n461.8\\xa0km2\\n\\n5,683/sq\\xa0mi\\n\\n2,194/km2\\n\\n37°18′N 121°49′W\\ufeff / \\ufeff37.30°N 121.81°W\\ufeff / 37.30; -121.81\\ufeff (San Jose)\\n\\n\\n13\\n\\nFort Worth\\n\\nTexas\\n\\n956,709\\n\\n918,915\\n\\n+4.11%\\n\\n347.3\\xa0sq\\xa0mi\\n\\n899.5\\xa0km2\\n\\n2,646/sq\\xa0mi\\n\\n1,022/km2\\n\\n32°47′N 97°21′W\\ufeff / \\ufeff32.78°N 97.35°W\\ufeff / 32.78; -97.35\\ufeff (Fort Worth)\\n\\n\\n14\\n\\nColumbus\\n\\nOhio\\n\\n907,971\\n\\n905,748\\n\\n+0.25%\\n\\n220.0\\xa0sq\\xa0mi\\n\\n569.8\\xa0km2\\n\\n4,117/sq\\xa0mi\\n\\n1,590/km2\\n\\n39°59′N 82°59′W\\ufeff / \\ufeff39.99°N 82.99°W\\ufeff / 39.99; -82.99\\ufeff (Columbus)\\n\\n\\n15\\n\\nCharlotte\\n\\nNorth Carolina\\n\\n897,720\\n\\n874,579\\n\\n+2.65%\\n\\n308.3\\xa0sq\\xa0mi\\n\\n798.5\\xa0km2\\n\\n2,837/sq\\xa0mi\\n\\n1,095/km2\\n\\n35°13′N 80°50′W\\ufeff / \\ufeff35.21°N 80.83°W\\ufeff / 35.21; -80.83\\ufeff (Charlotte)\\n\\n\\n16\\n\\nIndianapolis[g]\\n\\nIndiana\\n\\n880,621\\n\\n887,642\\n\\n−0.79%\\n\\n361.6\\xa0sq\\xa0mi\\n\\n936.5\\xa0km2\\n\\n2,455/sq\\xa0mi\\n\\n948/km2\\n\\n39°47′N 86°09′W\\ufeff / \\ufeff39.78°N 86.15°W\\ufeff / 39.78; -86.15\\ufeff (Indianapolis)\\n\\n\\n17\\n\\nSan Francisco[h]\\n\\nCalifornia\\n\\n808,437\\n\\n873,965\\n\\n−7.50%\\n\\n46.9\\xa0sq\\xa0mi\\n\\n121.5\\xa0km2\\n\\n18,635/sq\\xa0mi\\n\\n7,195/km2\\n\\n37°44′N 123°02′W\\ufeff / \\ufeff37.73°N 123.03°W\\ufeff / 37.73; -123.03\\ufeff (San Francisco)\\n\\n\\n18\\n\\nSeattle\\n\\nWashington\\n\\n749,256\\n\\n737,015\\n\\n+1.66%\\n\\n83.8\\xa0sq\\xa0mi\\n\\n217.0\\xa0km2\\n\\n8,795/sq\\xa0mi\\n\\n3,396/km2\\n\\n47°37′N 122°21′W\\ufeff / \\ufeff47.62°N 122.35°W\\ufeff / 47.62; -122.35\\ufeff (Seattle)\\n\\n\\n19\\n\\nDenver[i]\\n\\nColorado\\n\\n713,252\\n\\n715,522\\n\\n−0.32%\\n\\n153.1\\xa0sq\\xa0mi\\n\\n396.5\\xa0km2\\n\\n4,674/sq\\xa0mi\\n\\n1,805/km2\\n\\n39°46′N 104°53′W\\ufeff / \\ufeff39.76°N 104.88°W\\ufeff / 39.76; -104.88\\ufeff (Denver)\\n\\n\\n20\\n\\nOklahoma City\\n\\nOklahoma\\n\\n694,800\\n\\n681,054\\n\\n+2.02%\\n\\n606.2\\xa0sq\\xa0mi\\n\\n1,570.1\\xa0km2\\n\\n1,123/sq\\xa0mi\\n\\n434/km2\\n\\n35°28′N 97°31′W\\ufeff / \\ufeff35.47°N 97.51°W\\ufeff / 35.47; -97.51\\ufeff (Oklahoma City)\\n\\n\\n21\\n\\nNashville[j]\\n\\nTennessee\\n\\n683,622\\n\\n689,447\\n\\n−0.84%\\n\\n475.8\\xa0sq\\xa0mi\\n\\n1,232.3\\xa0km2\\n\\n1,449/sq\\xa0mi\\n\\n559/km2\\n\\n36°10′N 86°47′W\\ufeff / \\ufeff36.17°N 86.79°W\\ufeff / 36.17; -86.79\\ufeff (Nashville)\\n\\n\\n22\\n\\nEl Paso\\n\\nTexas\\n\\n677,456\\n\\n678,815\\n\\n−0.20%\\n\\n258.4\\xa0sq\\xa0mi\\n\\n669.3\\xa0km2\\n\\n2,627/sq\\xa0mi\\n\\n1,014/km2\\n\\n31°51′N 106°26′W\\ufeff / \\ufeff31.85°N 106.43°W\\ufeff / 31.85; -106.43\\ufeff (El Paso)\\n\\n\\n23\\n\\nWashington[k]\\n\\nDistrict of Columbia\\n\\n671,803\\n\\n689,545\\n\\n−2.57%\\n\\n61.1\\xa0sq\\xa0mi\\n\\n158.2\\xa0km2\\n\\n11,286/sq\\xa0mi\\n\\n4,358/km2\\n\\n38°54′N 77°01′W\\ufeff / \\ufeff38.90°N 77.02°W\\ufeff / 38.90; -77.02\\ufeff (Washington, D.C.)\\n\\n\\n24\\n\\nLas Vegas\\n\\nNevada\\n\\n656,274\\n\\n641,903\\n\\n+2.24%\\n\\n141.8\\xa0sq\\xa0mi\\n\\n367.3\\xa0km2\\n\\n4,527/sq\\xa0mi\\n\\n1,748/km2\\n\\n36°14′N 115°16′W\\ufeff / \\ufeff36.23°N 115.26°W\\ufeff / 36.23; -115.26\\ufeff (Las Vegas)\\n\\n\\n25\\n\\nBoston\\n\\nMassachusetts\\n\\n650,706\\n\\n675,647\\n\\n−3.69%\\n\\n48.3\\xa0sq\\xa0mi\\n\\n125.1\\xa0km2\\n\\n13,989/sq\\xa0mi\\n\\n5,401/km2\\n\\n42°20′N 71°01′W\\ufeff / \\ufeff42.34°N 71.02°W\\ufeff / 42.34; -71.02\\ufeff (Boston)\\n\\n\\n26\\n\\nPortland\\n\\nOregon\\n\\n635,067\\n\\n652,503\\n\\n−2.67%\\n\\n133.5\\xa0sq\\xa0mi\\n\\n345.8\\xa0km2\\n\\n4,888/sq\\xa0mi\\n\\n1,887/km2\\n\\n45°32′N 122°39′W\\ufeff / \\ufeff45.54°N 122.65°W\\ufeff / 45.54; -122.65\\ufeff (Portland)\\n\\n\\n27\\n\\nLouisville[l]\\n\\nKentucky\\n\\n624,444\\n\\n633,045\\n\\n−1.36%\\n\\n324.9\\xa0sq\\xa0mi\\n\\n841.5\\xa0km2\\n\\n1,948/sq\\xa0mi\\n\\n752/km2\\n\\n38°10′N 85°39′W\\ufeff / \\ufeff38.17°N 85.65°W\\ufeff / 38.17; -85.65\\ufeff (Louisville)\\n\\n\\n28\\n\\nMemphis\\n\\nTennessee\\n\\n621,056\\n\\n633,104\\n\\n−1.90%\\n\\n297.0\\xa0sq\\xa0mi\\n\\n769.2\\xa0km2\\n\\n2,132/sq\\xa0mi\\n\\n823/km2\\n\\n35°07′N 89°58′W\\ufeff / \\ufeff35.11°N 89.97°W\\ufeff / 35.11; -89.97\\ufeff (Memphis)\\n\\n\\n29\\n\\nDetroit\\n\\nMichigan\\n\\n620,376\\n\\n639,111\\n\\n−2.93%\\n\\n138.7\\xa0sq\\xa0mi\\n\\n359.2\\xa0km2\\n\\n4,608/sq\\xa0mi\\n\\n1,779/km2\\n\\n42°23′N 83°06′W\\ufeff / \\ufeff42.38°N 83.10°W\\ufeff / 42.38; -83.10\\ufeff (Detroit)\\n\\n\\n30\\n\\nBaltimore[m]\\n\\nMaryland\\n\\n569,931\\n\\n585,708\\n\\n−2.69%\\n\\n80.9\\xa0sq\\xa0mi\\n\\n209.5\\xa0km2\\n\\n7,240/sq\\xa0mi\\n\\n2,800/km2\\n\\n39°18′N 76°37′W\\ufeff / \\ufeff39.30°N 76.61°W\\ufeff / 39.30; -76.61\\ufeff (Baltimore)\\n\\n\\n31\\n\\nMilwaukee\\n\\nWisconsin\\n\\n563,305\\n\\n577,222\\n\\n−2.41%\\n\\n96.2\\xa0sq\\xa0mi\\n\\n249.2\\xa0km2\\n\\n6,000/sq\\xa0mi\\n\\n2,300/km2\\n\\n43°04′N 87°58′W\\ufeff / \\ufeff43.06°N 87.97°W\\ufeff / 43.06; -87.97\\ufeff (Milwaukee)\\n\\n\\n32\\n\\nAlbuquerque\\n\\nNew Mexico\\n\\n561,008\\n\\n564,559\\n\\n−0.63%\\n\\n187.3\\xa0sq\\xa0mi\\n\\n485.1\\xa0km2\\n\\n3,014/sq\\xa0mi\\n\\n1,164/km2\\n\\n35°06′N 106°39′W\\ufeff / \\ufeff35.10°N 106.65°W\\ufeff / 35.10; -106.65\\ufeff (Albuquerque)\\n\\n\\n33\\n\\nTucson\\n\\nArizona\\n\\n546,574\\n\\n542,629\\n\\n+0.73%\\n\\n241.0\\xa0sq\\xa0mi\\n\\n624.2\\xa0km2\\n\\n2,252/sq\\xa0mi\\n\\n870/km2\\n\\n32°09′N 110°52′W\\ufeff / \\ufeff32.15°N 110.87°W\\ufeff / 32.15; -110.87\\ufeff (Tucson)\\n\\n\\n34\\n\\nFresno\\n\\nCalifornia\\n\\n545,567\\n\\n542,107\\n\\n+0.64%\\n\\n115.2\\xa0sq\\xa0mi\\n\\n298.4\\xa0km2\\n\\n4,706/sq\\xa0mi\\n\\n1,817/km2\\n\\n36°47′N 119°47′W\\ufeff / \\ufeff36.78°N 119.79°W\\ufeff / 36.78; -119.79\\ufeff (Fresno)\\n\\n\\n35\\n\\nSacramento\\n\\nCalifornia\\n\\n528,001\\n\\n524,943\\n\\n+0.58%\\n\\n98.6\\xa0sq\\xa0mi\\n\\n255.4\\xa0km2\\n\\n5,324/sq\\xa0mi\\n\\n2,056/km2\\n\\n38°34′N 121°28′W\\ufeff / \\ufeff38.57°N 121.47°W\\ufeff / 38.57; -121.47\\ufeff (Sacramento)\\n\\n\\n36\\n\\nMesa\\n\\nArizona\\n\\n512,498\\n\\n504,258\\n\\n+1.63%\\n\\n138.7\\xa0sq\\xa0mi\\n\\n359.2\\xa0km2\\n\\n3,636/sq\\xa0mi\\n\\n1,404/km2\\n\\n33°24′N 111°43′W\\ufeff / \\ufeff33.40°N 111.72°W\\ufeff / 33.40; -111.72\\ufeff (Mesa)\\n\\n\\n37\\n\\nKansas City\\n\\nMissouri\\n\\n509,297\\n\\n508,090\\n\\n+0.24%\\n\\n314.7\\xa0sq\\xa0mi\\n\\n815.1\\xa0km2\\n\\n1,615/sq\\xa0mi\\n\\n624/km2\\n\\n39°07′N 94°34′W\\ufeff / \\ufeff39.12°N 94.56°W\\ufeff / 39.12; -94.56\\ufeff (Kansas City, MO)\\n\\n\\n38\\n\\nAtlanta\\n\\nGeorgia\\n\\n499,127\\n\\n498,715\\n\\n+0.08%\\n\\n135.3\\xa0sq\\xa0mi\\n\\n350.4\\xa0km2\\n\\n3,686/sq\\xa0mi\\n\\n1,423/km2\\n\\n33°46′N 84°25′W\\ufeff / \\ufeff33.76°N 84.42°W\\ufeff / 33.76; -84.42\\ufeff (Atlanta)\\n\\n\\n39\\n\\nColorado Springs\\n\\nColorado\\n\\n486,248\\n\\n478,961\\n\\n+1.52%\\n\\n195.4\\xa0sq\\xa0mi\\n\\n506.1\\xa0km2\\n\\n2,451/sq\\xa0mi\\n\\n946/km2\\n\\n38°52′N 104°46′W\\ufeff / \\ufeff38.87°N 104.76°W\\ufeff / 38.87; -104.76\\ufeff (Colorado Springs)\\n\\n\\n40\\n\\nOmaha\\n\\nNebraska\\n\\n485,153\\n\\n486,051\\n\\n−0.18%\\n\\n141.6\\xa0sq\\xa0mi\\n\\n366.7\\xa0km2\\n\\n3,433/sq\\xa0mi\\n\\n1,325/km2\\n\\n41°16′N 96°03′W\\ufeff / \\ufeff41.26°N 96.05°W\\ufeff / 41.26; -96.05\\ufeff (Omaha)\\n\\n\\n41\\n\\nRaleigh\\n\\nNorth Carolina\\n\\n476,587\\n\\n467,665\\n\\n+1.91%\\n\\n147.1\\xa0sq\\xa0mi\\n\\n381.0\\xa0km2\\n\\n3,179/sq\\xa0mi\\n\\n1,227/km2\\n\\n35°50′N 78°38′W\\ufeff / \\ufeff35.83°N 78.64°W\\ufeff / 35.83; -78.64\\ufeff (Raleigh)\\n\\n\\n42\\n\\nVirginia Beach[m]\\n\\nVirginia\\n\\n455,618\\n\\n459,470\\n\\n−0.84%\\n\\n244.7\\xa0sq\\xa0mi\\n\\n633.8\\xa0km2\\n\\n1,878/sq\\xa0mi\\n\\n725/km2\\n\\n36°47′N 76°02′W\\ufeff / \\ufeff36.78°N 76.03°W\\ufeff / 36.78; -76.03\\ufeff (Virginia Beach)\\n\\n\\n43\\n\\nLong Beach\\n\\nCalifornia\\n\\n451,307\\n\\n466,742\\n\\n−3.31%\\n\\n50.7\\xa0sq\\xa0mi\\n\\n131.3\\xa0km2\\n\\n9,206/sq\\xa0mi\\n\\n3,554/km2\\n\\n33°47′N 118°10′W\\ufeff / \\ufeff33.78°N 118.17°W\\ufeff / 33.78; -118.17\\ufeff (Long Beach)\\n\\n\\n44\\n\\nMiami\\n\\nFlorida\\n\\n449,514\\n\\n442,241\\n\\n+1.64%\\n\\n36.0\\xa0sq\\xa0mi\\n\\n93.2\\xa0km2\\n\\n12,284/sq\\xa0mi\\n\\n4,743/km2\\n\\n25°47′N 80°13′W\\ufeff / \\ufeff25.78°N 80.21°W\\ufeff / 25.78; -80.21\\ufeff (Miami)\\n\\n\\n45\\n\\nOakland\\n\\nCalifornia\\n\\n430,553\\n\\n440,646\\n\\n−2.29%\\n\\n55.9\\xa0sq\\xa0mi\\n\\n144.8\\xa0km2\\n\\n7,883/sq\\xa0mi\\n\\n3,044/km2\\n\\n37°46′N 122°14′W\\ufeff / \\ufeff37.77°N 122.23°W\\ufeff / 37.77; -122.23\\ufeff (Oakland)\\n\\n\\n46\\n\\nMinneapolis\\n\\nMinnesota\\n\\n425,096\\n\\n429,954\\n\\n−1.13%\\n\\n54.0\\xa0sq\\xa0mi\\n\\n139.9\\xa0km2\\n\\n7,962/sq\\xa0mi\\n\\n3,074/km2\\n\\n44°58′N 93°16′W\\ufeff / \\ufeff44.96°N 93.27°W\\ufeff / 44.96; -93.27\\ufeff (Minneapolis)\\n\\n\\n47\\n\\nTulsa\\n\\nOklahoma\\n\\n411,867\\n\\n413,066\\n\\n−0.29%\\n\\n197.5\\xa0sq\\xa0mi\\n\\n511.5\\xa0km2\\n\\n2,091/sq\\xa0mi\\n\\n807/km2\\n\\n36°08′N 95°54′W\\ufeff / \\ufeff36.13°N 95.90°W\\ufeff / 36.13; -95.90\\ufeff (Tulsa)\\n\\n\\n48\\n\\nBakersfield\\n\\nCalifornia\\n\\n410,647\\n\\n403,455\\n\\n+1.78%\\n\\n149.8\\xa0sq\\xa0mi\\n\\n388.0\\xa0km2\\n\\n2,693/sq\\xa0mi\\n\\n1,040/km2\\n\\n35°21′N 119°02′W\\ufeff / \\ufeff35.35°N 119.04°W\\ufeff / 35.35; -119.04\\ufeff (Bakersfield)\\n\\n\\n49\\n\\nTampa\\n\\nFlorida\\n\\n398,173\\n\\n384,959\\n\\n+3.43%\\n\\n114.0\\xa0sq\\xa0mi\\n\\n295.3\\xa0km2\\n\\n3,377/sq\\xa0mi\\n\\n1,304/km2\\n\\n27°58′N 82°28′W\\ufeff / \\ufeff27.97°N 82.47°W\\ufeff / 27.97; -82.47\\ufeff (Tampa)\\n\\n\\n50\\n\\nWichita\\n\\nKansas\\n\\n396,192\\n\\n397,532\\n\\n−0.34%\\n\\n162.0\\xa0sq\\xa0mi\\n\\n419.6\\xa0km2\\n\\n2,454/sq\\xa0mi\\n\\n947/km2\\n\\n37°41′N 97°21′W\\ufeff / \\ufeff37.69°N 97.35°W\\ufeff / 37.69; -97.35\\ufeff (Wichita)\\n\\n\\n51\\n\\nArlington\\n\\nTexas\\n\\n394,602\\n\\n394,266\\n\\n+0.09%\\n\\n95.9\\xa0sq\\xa0mi\\n\\n248.4\\xa0km2\\n\\n4,111/sq\\xa0mi\\n\\n1,587/km2\\n\\n32°42′N 97°07′W\\ufeff / \\ufeff32.70°N 97.12°W\\ufeff / 32.70; -97.12\\ufeff (Arlington)\\n\\n\\n52\\n\\nAurora\\n\\nColorado\\n\\n393,537\\n\\n386,261\\n\\n+1.88%\\n\\n160.1\\xa0sq\\xa0mi\\n\\n414.7\\xa0km2\\n\\n2,413/sq\\xa0mi\\n\\n932/km2\\n\\n39°42′N 104°43′W\\ufeff / \\ufeff39.70°N 104.72°W\\ufeff / 39.70; -104.72\\ufeff (Aurora)\\n\\n\\n53\\n\\nNew Orleans[n]\\n\\nLouisiana\\n\\n369,749\\n\\n383,997\\n\\n−3.71%\\n\\n169.5\\xa0sq\\xa0mi\\n\\n439.0\\xa0km2\\n\\n2,265/sq\\xa0mi\\n\\n875/km2\\n\\n30°03′N 89°56′W\\ufeff / \\ufeff30.05°N 89.93°W\\ufeff / 30.05; -89.93\\ufeff (New Orleans)\\n\\n\\n54\\n\\nCleveland\\n\\nOhio\\n\\n361,607\\n\\n372,624\\n\\n−2.96%\\n\\n77.7\\xa0sq\\xa0mi\\n\\n201.2\\xa0km2\\n\\n4,796/sq\\xa0mi\\n\\n1,852/km2\\n\\n41°29′N 81°41′W\\ufeff / \\ufeff41.48°N 81.68°W\\ufeff / 41.48; -81.68\\ufeff (Cleveland)\\n\\n\\n55\\n\\nAnaheim\\n\\nCalifornia\\n\\n344,461\\n\\n346,824\\n\\n−0.68%\\n\\n50.3\\xa0sq\\xa0mi\\n\\n130.3\\xa0km2\\n\\n6,895/sq\\xa0mi\\n\\n2,662/km2\\n\\n33°52′N 117°46′W\\ufeff / \\ufeff33.86°N 117.76°W\\ufeff / 33.86; -117.76\\ufeff (Anaheim)\\n\\n\\n56\\n\\nHonolulu[o]\\n\\nHawaii\\n\\n343,421\\n\\n350,964\\n\\n−2.15%\\n\\n60.5\\xa0sq\\xa0mi\\n\\n156.7\\xa0km2\\n\\n5,801/sq\\xa0mi\\n\\n2,240/km2\\n\\n21°19′N 157°51′W\\ufeff / \\ufeff21.32°N 157.85°W\\ufeff / 21.32; -157.85\\ufeff (Honolulu)\\n\\n\\n57\\n\\nHenderson\\n\\nNevada\\n\\n331,415\\n\\n317,610\\n\\n+4.35%\\n\\n106.2\\xa0sq\\xa0mi\\n\\n275.1\\xa0km2\\n\\n2,991/sq\\xa0mi\\n\\n1,155/km2\\n\\n36°01′N 115°02′W\\ufeff / \\ufeff36.01°N 115.04°W\\ufeff / 36.01; -115.04\\ufeff (Henderson)\\n\\n\\n58\\n\\nStockton\\n\\nCalifornia\\n\\n321,819\\n\\n320,804\\n\\n+0.32%\\n\\n62.2\\xa0sq\\xa0mi\\n\\n161.1\\xa0km2\\n\\n5,158/sq\\xa0mi\\n\\n1,992/km2\\n\\n37°59′N 121°19′W\\ufeff / \\ufeff37.98°N 121.31°W\\ufeff / 37.98; -121.31\\ufeff (Stockton)\\n\\n\\n59\\n\\nRiverside\\n\\nCalifornia\\n\\n320,764\\n\\n314,998\\n\\n+1.83%\\n\\n81.2\\xa0sq\\xa0mi\\n\\n210.3\\xa0km2\\n\\n3,879/sq\\xa0mi\\n\\n1,498/km2\\n\\n33°56′N 117°23′W\\ufeff / \\ufeff33.94°N 117.39°W\\ufeff / 33.94; -117.39\\ufeff (Riverside)\\n\\n\\n60\\n\\nLexington[p]\\n\\nKentucky\\n\\n320,347\\n\\n322,570\\n\\n−0.69%\\n\\n283.6\\xa0sq\\xa0mi\\n\\n734.5\\xa0km2\\n\\n1,137/sq\\xa0mi\\n\\n439/km2\\n\\n38°02′N 84°28′W\\ufeff / \\ufeff38.04°N 84.46°W\\ufeff / 38.04; -84.46\\ufeff (Lexington)\\n\\n\\n61\\n\\nCorpus Christi\\n\\nTexas\\n\\n316,239\\n\\n317,863\\n\\n−0.51%\\n\\n162.2\\xa0sq\\xa0mi\\n\\n420.1\\xa0km2\\n\\n1,960/sq\\xa0mi\\n\\n760/km2\\n\\n27°45′N 97°10′W\\ufeff / \\ufeff27.75°N 97.17°W\\ufeff / 27.75; -97.17\\ufeff (Corpus Christi)\\n\\n\\n62\\n\\nOrlando\\n\\nFlorida\\n\\n316,081\\n\\n307,573\\n\\n+2.77%\\n\\n110.6\\xa0sq\\xa0mi\\n\\n286.5\\xa0km2\\n\\n2,781/sq\\xa0mi\\n\\n1,074/km2\\n\\n28°25′N 81°15′W\\ufeff / \\ufeff28.41°N 81.25°W\\ufeff / 28.41; -81.25\\ufeff (Orlando)\\n\\n\\n63\\n\\nIrvine\\n\\nCalifornia\\n\\n313,685\\n\\n307,670\\n\\n+1.96%\\n\\n65.6\\xa0sq\\xa0mi\\n\\n169.9\\xa0km2\\n\\n4,690/sq\\xa0mi\\n\\n1,810/km2\\n\\n33°41′N 117°46′W\\ufeff / \\ufeff33.68°N 117.77°W\\ufeff / 33.68; -117.77\\ufeff (Irvine)\\n\\n\\n64\\n\\nCincinnati\\n\\nOhio\\n\\n309,513\\n\\n309,317\\n\\n+0.06%\\n\\n77.8\\xa0sq\\xa0mi\\n\\n201.5\\xa0km2\\n\\n3,976/sq\\xa0mi\\n\\n1,535/km2\\n\\n39°08′N 84°31′W\\ufeff / \\ufeff39.14°N 84.51°W\\ufeff / 39.14; -84.51\\ufeff (Cincinnati)\\n\\n\\n65\\n\\nSanta Ana\\n\\nCalifornia\\n\\n308,189\\n\\n310,227\\n\\n−0.66%\\n\\n27.3\\xa0sq\\xa0mi\\n\\n70.7\\xa0km2\\n\\n11,364/sq\\xa0mi\\n\\n4,388/km2\\n\\n33°44′N 117°53′W\\ufeff / \\ufeff33.74°N 117.88°W\\ufeff / 33.74; -117.88\\ufeff (Santa Ana)\\n\\n\\n66\\n\\nNewark\\n\\nNew Jersey\\n\\n305,344\\n\\n311,549\\n\\n−1.99%\\n\\n24.1\\xa0sq\\xa0mi\\n\\n62.4\\xa0km2\\n\\n12,927/sq\\xa0mi\\n\\n4,991/km2\\n\\n40°43′N 74°10′W\\ufeff / \\ufeff40.72°N 74.17°W\\ufeff / 40.72; -74.17\\ufeff (Newark)\\n\\n\\n67\\n\\nSaint Paul\\n\\nMinnesota\\n\\n303,176\\n\\n311,527\\n\\n−2.68%\\n\\n52.0\\xa0sq\\xa0mi\\n\\n134.7\\xa0km2\\n\\n5,991/sq\\xa0mi\\n\\n2,313/km2\\n\\n44°57′N 93°06′W\\ufeff / \\ufeff44.95°N 93.10°W\\ufeff / 44.95; -93.10\\ufeff (Saint Paul)\\n\\n\\n68\\n\\nPittsburgh\\n\\nPennsylvania\\n\\n302,898\\n\\n302,971\\n\\n−0.02%\\n\\n55.4\\xa0sq\\xa0mi\\n\\n143.5\\xa0km2\\n\\n5,469/sq\\xa0mi\\n\\n2,112/km2\\n\\n40°26′N 79°59′W\\ufeff / \\ufeff40.44°N 79.98°W\\ufeff / 40.44; -79.98\\ufeff (Pittsburgh)\\n\\n\\n69\\n\\nGreensboro\\n\\nNorth Carolina\\n\\n301,115\\n\\n299,035\\n\\n+0.70%\\n\\n129.6\\xa0sq\\xa0mi\\n\\n335.7\\xa0km2\\n\\n2,307/sq\\xa0mi\\n\\n891/km2\\n\\n36°06′N 79°50′W\\ufeff / \\ufeff36.10°N 79.83°W\\ufeff / 36.10; -79.83\\ufeff (Greensboro)\\n\\n\\n70\\n\\nLincoln\\n\\nNebraska\\n\\n292,627\\n\\n291,082\\n\\n+0.53%\\n\\n97.7\\xa0sq\\xa0mi\\n\\n253.0\\xa0km2\\n\\n2,979/sq\\xa0mi\\n\\n1,150/km2\\n\\n40°49′N 96°41′W\\ufeff / \\ufeff40.81°N 96.68°W\\ufeff / 40.81; -96.68\\ufeff (Lincoln)\\n\\n\\n71\\n\\nDurham\\n\\nNorth Carolina\\n\\n291,928\\n\\n283,506\\n\\n+2.97%\\n\\n112.8\\xa0sq\\xa0mi\\n\\n292.2\\xa0km2\\n\\n2,513/sq\\xa0mi\\n\\n970/km2\\n\\n35°59′N 78°54′W\\ufeff / \\ufeff35.98°N 78.90°W\\ufeff / 35.98; -78.90\\ufeff (Durham)\\n\\n\\n72\\n\\nPlano\\n\\nTexas\\n\\n289,547\\n\\n285,494\\n\\n+1.42%\\n\\n71.7\\xa0sq\\xa0mi\\n\\n185.7\\xa0km2\\n\\n3,982/sq\\xa0mi\\n\\n1,537/km2\\n\\n33°03′N 96°45′W\\ufeff / \\ufeff33.05°N 96.75°W\\ufeff / 33.05; -96.75\\ufeff (Plano)\\n\\n\\n73\\n\\nAnchorage[q]\\n\\nAlaska\\n\\n287,145\\n\\n291,247\\n\\n−1.41%\\n\\n1,706.8\\xa0sq\\xa0mi\\n\\n4,420.6\\xa0km2\\n\\n171/sq\\xa0mi\\n\\n66/km2\\n\\n61°10′N 149°17′W\\ufeff / \\ufeff61.17°N 149.28°W\\ufeff / 61.17; -149.28\\ufeff (Anchorage)\\n\\n\\n74\\n\\nJersey City\\n\\nNew Jersey\\n\\n286,670\\n\\n292,449\\n\\n−1.98%\\n\\n14.7\\xa0sq\\xa0mi\\n\\n38.1\\xa0km2\\n\\n19,894/sq\\xa0mi\\n\\n7,681/km2\\n\\n40°43′N 74°04′W\\ufeff / \\ufeff40.71°N 74.06°W\\ufeff / 40.71; -74.06\\ufeff (Jersey City)\\n\\n\\n75\\n\\nSt. Louis[m]\\n\\nMissouri\\n\\n286,578\\n\\n301,578\\n\\n−4.97%\\n\\n61.7\\xa0sq\\xa0mi\\n\\n159.8\\xa0km2\\n\\n4,888/sq\\xa0mi\\n\\n1,887/km2\\n\\n38°38′N 90°14′W\\ufeff / \\ufeff38.64°N 90.24°W\\ufeff / 38.64; -90.24\\ufeff (St. Louis)\\n\\n\\n76\\n\\nChandler\\n\\nArizona\\n\\n280,711\\n\\n275,987\\n\\n+1.71%\\n\\n65.3\\xa0sq\\xa0mi\\n\\n169.1\\xa0km2\\n\\n4,226/sq\\xa0mi\\n\\n1,632/km2\\n\\n33°17′N 111°51′W\\ufeff / \\ufeff33.28°N 111.85°W\\ufeff / 33.28; -111.85\\ufeff (Chandler)\\n\\n\\n77\\n\\nNorth Las Vegas\\n\\nNevada\\n\\n280,543\\n\\n262,527\\n\\n+6.86%\\n\\n101.3\\xa0sq\\xa0mi\\n\\n262.4\\xa0km2\\n\\n2,592/sq\\xa0mi\\n\\n1,001/km2\\n\\n36°17′N 115°05′W\\ufeff / \\ufeff36.28°N 115.09°W\\ufeff / 36.28; -115.09\\ufeff (North Las Vegas)\\n\\n\\n78\\n\\nChula Vista\\n\\nCalifornia\\n\\n279,170\\n\\n275,487\\n\\n+1.34%\\n\\n49.6\\xa0sq\\xa0mi\\n\\n128.5\\xa0km2\\n\\n5,554/sq\\xa0mi\\n\\n2,144/km2\\n\\n32°38′N 117°01′W\\ufeff / \\ufeff32.63°N 117.02°W\\ufeff / 32.63; -117.02\\ufeff (Chula Vista)\\n\\n\\n79\\n\\nBuffalo\\n\\nNew York\\n\\n276,486\\n\\n278,349\\n\\n−0.67%\\n\\n40.4\\xa0sq\\xa0mi\\n\\n104.6\\xa0km2\\n\\n6,890/sq\\xa0mi\\n\\n2,660/km2\\n\\n42°53′N 78°52′W\\ufeff / \\ufeff42.89°N 78.86°W\\ufeff / 42.89; -78.86\\ufeff (Buffalo)\\n\\n\\n80\\n\\nGilbert[r]\\n\\nArizona\\n\\n275,346\\n\\n267,918\\n\\n+2.77%\\n\\n68.6\\xa0sq\\xa0mi\\n\\n177.7\\xa0km2\\n\\n3,906/sq\\xa0mi\\n\\n1,508/km2\\n\\n33°19′N 111°44′W\\ufeff / \\ufeff33.31°N 111.74°W\\ufeff / 33.31; -111.74\\ufeff (Gilbert)\\n\\n\\n81\\n\\nReno\\n\\nNevada\\n\\n273,448\\n\\n264,165\\n\\n+3.51%\\n\\n108.8\\xa0sq\\xa0mi\\n\\n281.8\\xa0km2\\n\\n2,428/sq\\xa0mi\\n\\n937/km2\\n\\n39°33′N 119°51′W\\ufeff / \\ufeff39.55°N 119.85°W\\ufeff / 39.55; -119.85\\ufeff (Reno)\\n\\n\\n82\\n\\nMadison\\n\\nWisconsin\\n\\n272,903\\n\\n269,840\\n\\n+1.14%\\n\\n79.6\\xa0sq\\xa0mi\\n\\n206.2\\xa0km2\\n\\n3,390/sq\\xa0mi\\n\\n1,310/km2\\n\\n43°05′N 89°26′W\\ufeff / \\ufeff43.09°N 89.43°W\\ufeff / 43.09; -89.43\\ufeff (Madison)\\n\\n\\n83\\n\\nFort Wayne\\n\\nIndiana\\n\\n267,927\\n\\n263,886\\n\\n+1.53%\\n\\n110.7\\xa0sq\\xa0mi\\n\\n286.7\\xa0km2\\n\\n2,384/sq\\xa0mi\\n\\n920/km2\\n\\n41°05′N 85°08′W\\ufeff / \\ufeff41.09°N 85.14°W\\ufeff / 41.09; -85.14\\ufeff (Fort Wayne)\\n\\n\\n84\\n\\nToledo\\n\\nOhio\\n\\n266,301\\n\\n270,871\\n\\n−1.69%\\n\\n80.5\\xa0sq\\xa0mi\\n\\n208.5\\xa0km2\\n\\n3,365/sq\\xa0mi\\n\\n1,299/km2\\n\\n41°40′N 83°35′W\\ufeff / \\ufeff41.66°N 83.58°W\\ufeff / 41.66; -83.58\\ufeff (Toledo)\\n\\n\\n85\\n\\nLubbock\\n\\nTexas\\n\\n263,930\\n\\n257,141\\n\\n+2.64%\\n\\n134.6\\xa0sq\\xa0mi\\n\\n348.6\\xa0km2\\n\\n1,910/sq\\xa0mi\\n\\n740/km2\\n\\n33°34′N 101°53′W\\ufeff / \\ufeff33.57°N 101.89°W\\ufeff / 33.57; -101.89\\ufeff (Lubbock)\\n\\n\\n86\\n\\nSt. Petersburg\\n\\nFlorida\\n\\n261,256\\n\\n258,308\\n\\n+1.14%\\n\\n61.8\\xa0sq\\xa0mi\\n\\n160.1\\xa0km2\\n\\n4,180/sq\\xa0mi\\n\\n1,610/km2\\n\\n27°46′N 82°38′W\\ufeff / \\ufeff27.77°N 82.64°W\\ufeff / 27.77; -82.64\\ufeff (St. Petersburg)\\n\\n\\n87\\n\\nLaredo\\n\\nTexas\\n\\n256,187\\n\\n255,205\\n\\n+0.38%\\n\\n106.5\\xa0sq\\xa0mi\\n\\n275.8\\xa0km2\\n\\n2,396/sq\\xa0mi\\n\\n925/km2\\n\\n27°34′N 99°29′W\\ufeff / \\ufeff27.56°N 99.49°W\\ufeff / 27.56; -99.49\\ufeff (Laredo)\\n\\n\\n88\\n\\nIrving\\n\\nTexas\\n\\n254,715\\n\\n256,684\\n\\n−0.77%\\n\\n67.0\\xa0sq\\xa0mi\\n\\n173.5\\xa0km2\\n\\n3,831/sq\\xa0mi\\n\\n1,479/km2\\n\\n32°52′N 96°58′W\\ufeff / \\ufeff32.86°N 96.97°W\\ufeff / 32.86; -96.97\\ufeff (Irving)\\n\\n\\n89\\n\\nChesapeake[m]\\n\\nVirginia\\n\\n252,488\\n\\n249,422\\n\\n+1.23%\\n\\n338.5\\xa0sq\\xa0mi\\n\\n876.7\\xa0km2\\n\\n737/sq\\xa0mi\\n\\n285/km2\\n\\n36°41′N 76°18′W\\ufeff / \\ufeff36.68°N 76.30°W\\ufeff / 36.68; -76.30\\ufeff (Chesapeake)\\n\\n\\n90\\n\\nGlendale\\n\\nArizona\\n\\n252,136\\n\\n248,325\\n\\n+1.53%\\n\\n61.6\\xa0sq\\xa0mi\\n\\n159.5\\xa0km2\\n\\n4,031/sq\\xa0mi\\n\\n1,556/km2\\n\\n33°32′N 112°11′W\\ufeff / \\ufeff33.53°N 112.19°W\\ufeff / 33.53; -112.19\\ufeff (Glendale)\\n\\n\\n91\\n\\nWinston-Salem\\n\\nNorth Carolina\\n\\n251,350\\n\\n249,545\\n\\n+0.72%\\n\\n132.7\\xa0sq\\xa0mi\\n\\n343.7\\xa0km2\\n\\n1,881/sq\\xa0mi\\n\\n726/km2\\n\\n36°06′N 80°16′W\\ufeff / \\ufeff36.10°N 80.26°W\\ufeff / 36.10; -80.26\\ufeff (Winston-Salem)\\n\\n\\n92\\n\\nScottsdale\\n\\nArizona\\n\\n243,050\\n\\n241,361\\n\\n+0.70%\\n\\n184.0\\xa0sq\\xa0mi\\n\\n476.6\\xa0km2\\n\\n1,312/sq\\xa0mi\\n\\n507/km2\\n\\n33°41′N 111°52′W\\ufeff / \\ufeff33.68°N 111.86°W\\ufeff / 33.68; -111.86\\ufeff (Scottsdale)\\n\\n\\n93\\n\\nGarland\\n\\nTexas\\n\\n240,854\\n\\n246,018\\n\\n−2.10%\\n\\n57.1\\xa0sq\\xa0mi\\n\\n147.9\\xa0km2\\n\\n4,309/sq\\xa0mi\\n\\n1,664/km2\\n\\n32°55′N 96°38′W\\ufeff / \\ufeff32.91°N 96.63°W\\ufeff / 32.91; -96.63\\ufeff (Garland)\\n\\n\\n94\\n\\nBoise[s]\\n\\nIdaho\\n\\n236,634\\n\\n235,684\\n\\n+0.40%\\n\\n84.0\\xa0sq\\xa0mi\\n\\n217.6\\xa0km2\\n\\n2,806/sq\\xa0mi\\n\\n1,083/km2\\n\\n43°36′N 116°14′W\\ufeff / \\ufeff43.60°N 116.23°W\\ufeff / 43.60; -116.23\\ufeff (Boise)\\n\\n\\n95\\n\\nNorfolk[m]\\n\\nVirginia\\n\\n232,995\\n\\n238,005\\n\\n−2.10%\\n\\n53.3\\xa0sq\\xa0mi\\n\\n138.0\\xa0km2\\n\\n4,465/sq\\xa0mi\\n\\n1,724/km2\\n\\n36°55′N 76°14′W\\ufeff / \\ufeff36.92°N 76.24°W\\ufeff / 36.92; -76.24\\ufeff (Norfolk)\\n\\n\\n96\\n\\nPort St. Lucie\\n\\nFlorida\\n\\n231,790\\n\\n204,851\\n\\n+13.15%\\n\\n119.2\\xa0sq\\xa0mi\\n\\n308.7\\xa0km2\\n\\n1,719/sq\\xa0mi\\n\\n664/km2\\n\\n27°17′N 80°23′W\\ufeff / \\ufeff27.28°N 80.39°W\\ufeff / 27.28; -80.39\\ufeff (Port St. Lucie)\\n\\n\\n97\\n\\nSpokane\\n\\nWashington\\n\\n230,160\\n\\n228,989\\n\\n+0.51%\\n\\n68.8\\xa0sq\\xa0mi\\n\\n178.2\\xa0km2\\n\\n3,328/sq\\xa0mi\\n\\n1,285/km2\\n\\n47°40′N 117°26′W\\ufeff / \\ufeff47.67°N 117.43°W\\ufeff / 47.67; -117.43\\ufeff (Spokane)\\n\\n\\n98\\n\\nRichmond[m]\\n\\nVirginia\\n\\n229,395\\n\\n226,610\\n\\n+1.23%\\n\\n59.9\\xa0sq\\xa0mi\\n\\n155.1\\xa0km2\\n\\n3,783/sq\\xa0mi\\n\\n1,461/km2\\n\\n37°32′N 77°29′W\\ufeff / \\ufeff37.53°N 77.48°W\\ufeff / 37.53; -77.48\\ufeff (Richmond)\\n\\n\\n99\\n\\nFremont\\n\\nCalifornia\\n\\n223,871\\n\\n230,504\\n\\n−2.88%\\n\\n78.3\\xa0sq\\xa0mi\\n\\n202.8\\xa0km2\\n\\n2,944/sq\\xa0mi\\n\\n1,137/km2\\n\\n37°29′N 121°56′W\\ufeff / \\ufeff37.49°N 121.94°W\\ufeff / 37.49; -121.94\\ufeff (Fremont)\\n\\n\\n100\\n\\nHuntsville\\n\\nAlabama\\n\\n221,933\\n\\n215,006\\n\\n+3.22%\\n\\n218.1\\xa0sq\\xa0mi\\n\\n564.9\\xa0km2\\n\\n986/sq\\xa0mi\\n\\n381/km2\\n\\n34°47′N 86°32′W\\ufeff / \\ufeff34.78°N 86.53°W\\ufeff / 34.78; -86.53\\ufeff (Huntsville)\\n\\n\\n101\\n\\nTacoma\\n\\nWashington\\n\\n221,776\\n\\n219,346\\n\\n+1.11%\\n\\n49.7\\xa0sq\\xa0mi\\n\\n128.7\\xa0km2\\n\\n4,413/sq\\xa0mi\\n\\n1,704/km2\\n\\n47°15′N 122°28′W\\ufeff / \\ufeff47.25°N 122.46°W\\ufeff / 47.25; -122.46\\ufeff (Tacoma)\\n\\n\\n102\\n\\nBaton Rouge[t]\\n\\nLouisiana\\n\\n221,453\\n\\n227,470\\n\\n−2.65%\\n\\n86.3\\xa0sq\\xa0mi\\n\\n223.5\\xa0km2\\n\\n2,636/sq\\xa0mi\\n\\n1,018/km2\\n\\n30°26′N 91°08′W\\ufeff / \\ufeff30.44°N 91.13°W\\ufeff / 30.44; -91.13\\ufeff (Baton Rouge)\\n\\n\\n103\\n\\nSanta Clarita\\n\\nCalifornia\\n\\n221,345\\n\\n228,673\\n\\n−3.20%\\n\\n70.8\\xa0sq\\xa0mi\\n\\n183.4\\xa0km2\\n\\n3,230/sq\\xa0mi\\n\\n1,250/km2\\n\\n34°25′N 118°29′W\\ufeff / \\ufeff34.41°N 118.49°W\\ufeff / 34.41; -118.49\\ufeff (Santa Clarita)\\n\\n\\n104\\n\\nSan Bernardino\\n\\nCalifornia\\n\\n220,328\\n\\n222,101\\n\\n−0.80%\\n\\n62.1\\xa0sq\\xa0mi\\n\\n160.8\\xa0km2\\n\\n3,577/sq\\xa0mi\\n\\n1,381/km2\\n\\n34°08′N 117°17′W\\ufeff / \\ufeff34.14°N 117.29°W\\ufeff / 34.14; -117.29\\ufeff (San Bernardino)\\n\\n\\n105\\n\\nHialeah\\n\\nFlorida\\n\\n220,292\\n\\n223,109\\n\\n−1.26%\\n\\n21.6\\xa0sq\\xa0mi\\n\\n55.9\\xa0km2\\n\\n10,329/sq\\xa0mi\\n\\n3,988/km2\\n\\n25°52′N 80°18′W\\ufeff / \\ufeff25.87°N 80.30°W\\ufeff / 25.87; -80.30\\ufeff (Hialeah)\\n\\n\\n106\\n\\nFrisco\\n\\nTexas\\n\\n219,587\\n\\n200,509\\n\\n+9.51%\\n\\n68.6\\xa0sq\\xa0mi\\n\\n177.7\\xa0km2\\n\\n2,923/sq\\xa0mi\\n\\n1,129/km2\\n\\n33°10′N 96°49′W\\ufeff / \\ufeff33.16°N 96.82°W\\ufeff / 33.16; -96.82\\ufeff (Frisco)\\n\\n\\n107\\n\\nModesto\\n\\nCalifornia\\n\\n218,069\\n\\n218,464\\n\\n−0.18%\\n\\n43.0\\xa0sq\\xa0mi\\n\\n111.4\\xa0km2\\n\\n5,081/sq\\xa0mi\\n\\n1,962/km2\\n\\n37°38′N 121°00′W\\ufeff / \\ufeff37.64°N 121.00°W\\ufeff / 37.64; -121.00\\ufeff (Modesto)\\n\\n\\n108\\n\\nCape Coral\\n\\nFlorida\\n\\n216,992\\n\\n194,016\\n\\n+11.84%\\n\\n106.0\\xa0sq\\xa0mi\\n\\n274.5\\xa0km2\\n\\n1,830/sq\\xa0mi\\n\\n710/km2\\n\\n26°39′N 81°59′W\\ufeff / \\ufeff26.65°N 81.99°W\\ufeff / 26.65; -81.99\\ufeff (Cape Coral)\\n\\n\\n109\\n\\nFontana\\n\\nCalifornia\\n\\n212,475\\n\\n208,393\\n\\n+1.96%\\n\\n43.1\\xa0sq\\xa0mi\\n\\n111.6\\xa0km2\\n\\n4,835/sq\\xa0mi\\n\\n1,867/km2\\n\\n34°07′N 117°28′W\\ufeff / \\ufeff34.11°N 117.46°W\\ufeff / 34.11; -117.46\\ufeff (Fontana)\\n\\n\\n110\\n\\nMoreno Valley\\n\\nCalifornia\\n\\n211,924\\n\\n208,634\\n\\n+1.58%\\n\\n51.3\\xa0sq\\xa0mi\\n\\n132.9\\xa0km2\\n\\n4,067/sq\\xa0mi\\n\\n1,570/km2\\n\\n33°55′N 117°13′W\\ufeff / \\ufeff33.92°N 117.21°W\\ufeff / 33.92; -117.21\\ufeff (Moreno Valley)\\n\\n\\n111\\n\\nDes Moines\\n\\nIowa\\n\\n211,034\\n\\n214,133\\n\\n−1.45%\\n\\n88.2\\xa0sq\\xa0mi\\n\\n228.4\\xa0km2\\n\\n2,428/sq\\xa0mi\\n\\n937/km2\\n\\n41°34′N 93°37′W\\ufeff / \\ufeff41.57°N 93.61°W\\ufeff / 41.57; -93.61\\ufeff (Des Moines)\\n\\n\\n112\\n\\nRochester\\n\\nNew York\\n\\n209,352\\n\\n211,328\\n\\n−0.94%\\n\\n35.8\\xa0sq\\xa0mi\\n\\n92.7\\xa0km2\\n\\n5,903/sq\\xa0mi\\n\\n2,279/km2\\n\\n43°10′N 77°37′W\\ufeff / \\ufeff43.17°N 77.62°W\\ufeff / 43.17; -77.62\\ufeff (Rochester)\\n\\n\\n113\\n\\nFayetteville\\n\\nNorth Carolina\\n\\n208,873\\n\\n208,501\\n\\n+0.18%\\n\\n148.3\\xa0sq\\xa0mi\\n\\n384.1\\xa0km2\\n\\n1,406/sq\\xa0mi\\n\\n543/km2\\n\\n35°05′N 78°58′W\\ufeff / \\ufeff35.08°N 78.97°W\\ufeff / 35.08; -78.97\\ufeff (Fayetteville)\\n\\n\\n114\\n\\nYonkers\\n\\nNew York\\n\\n208,121\\n\\n211,569\\n\\n−1.63%\\n\\n18.0\\xa0sq\\xa0mi\\n\\n46.6\\xa0km2\\n\\n11,754/sq\\xa0mi\\n\\n4,538/km2\\n\\n40°57′N 73°52′W\\ufeff / \\ufeff40.95°N 73.87°W\\ufeff / 40.95; -73.87\\ufeff (Yonkers)\\n\\n\\n115\\n\\nMcKinney\\n\\nTexas\\n\\n207,507\\n\\n195,308\\n\\n+6.25%\\n\\n67.0\\xa0sq\\xa0mi\\n\\n173.5\\xa0km2\\n\\n2,915/sq\\xa0mi\\n\\n1,125/km2\\n\\n33°12′N 96°40′W\\ufeff / \\ufeff33.20°N 96.66°W\\ufeff / 33.20; -96.66\\ufeff (McKinney)\\n\\n\\n116\\n\\nWorcester\\n\\nMassachusetts\\n\\n205,319\\n\\n206,518\\n\\n−0.58%\\n\\n37.4\\xa0sq\\xa0mi\\n\\n96.9\\xa0km2\\n\\n5,522/sq\\xa0mi\\n\\n2,132/km2\\n\\n42°16′N 71°49′W\\ufeff / \\ufeff42.27°N 71.81°W\\ufeff / 42.27; -71.81\\ufeff (Worcester)\\n\\n\\n117\\n\\nSalt Lake City\\n\\nUtah\\n\\n204,657\\n\\n199,723\\n\\n+2.47%\\n\\n110.3\\xa0sq\\xa0mi\\n\\n285.7\\xa0km2\\n\\n1,811/sq\\xa0mi\\n\\n699/km2\\n\\n40°47′N 111°56′W\\ufeff / \\ufeff40.78°N 111.93°W\\ufeff / 40.78; -111.93\\ufeff (Salt Lake City)\\n\\n\\n118\\n\\nLittle Rock\\n\\nArkansas\\n\\n202,864\\n\\n202,591\\n\\n+0.13%\\n\\n120.0\\xa0sq\\xa0mi\\n\\n310.8\\xa0km2\\n\\n1,688/sq\\xa0mi\\n\\n652/km2\\n\\n34°43′N 92°22′W\\ufeff / \\ufeff34.72°N 92.36°W\\ufeff / 34.72; -92.36\\ufeff (Little Rock)\\n\\n\\n119\\n\\nColumbus[u]\\n\\nGeorgia\\n\\n202,616\\n\\n206,922\\n\\n−2.08%\\n\\n216.5\\xa0sq\\xa0mi\\n\\n560.7\\xa0km2\\n\\n956/sq\\xa0mi\\n\\n369/km2\\n\\n32°31′N 84°52′W\\ufeff / \\ufeff32.51°N 84.87°W\\ufeff / 32.51; -84.87\\ufeff (Columbus)\\n\\n\\n120\\n\\nAugusta[v]\\n\\nGeorgia\\n\\n202,096\\n\\n202,081\\n\\n+0.01%\\n\\n302.3\\xa0sq\\xa0mi\\n\\n783.0\\xa0km2\\n\\n668/sq\\xa0mi\\n\\n258/km2\\n\\n33°22′N 82°04′W\\ufeff / \\ufeff33.37°N 82.07°W\\ufeff / 33.37; -82.07\\ufeff (Augusta)\\n\\n\\n121\\n\\nSioux Falls\\n\\nSouth Dakota\\n\\n202,078\\n\\n192,517\\n\\n+4.97%\\n\\n79.1\\xa0sq\\xa0mi\\n\\n204.9\\xa0km2\\n\\n2,434/sq\\xa0mi\\n\\n940/km2\\n\\n43°32′N 96°44′W\\ufeff / \\ufeff43.54°N 96.73°W\\ufeff / 43.54; -96.73\\ufeff (Sioux Falls)\\n\\n\\n122\\n\\nGrand Prairie\\n\\nTexas\\n\\n201,843\\n\\n196,100\\n\\n+2.93%\\n\\n72.6\\xa0sq\\xa0mi\\n\\n188.0\\xa0km2\\n\\n2,701/sq\\xa0mi\\n\\n1,043/km2\\n\\n32°41′N 97°01′W\\ufeff / \\ufeff32.69°N 97.02°W\\ufeff / 32.69; -97.02\\ufeff (Grand Prairie)\\n\\n\\n123\\n\\nTallahassee\\n\\nFlorida\\n\\n201,731\\n\\n196,169\\n\\n+2.84%\\n\\n100.9\\xa0sq\\xa0mi\\n\\n261.3\\xa0km2\\n\\n1,944/sq\\xa0mi\\n\\n751/km2\\n\\n30°28′N 84°15′W\\ufeff / \\ufeff30.46°N 84.25°W\\ufeff / 30.46; -84.25\\ufeff (Tallahassee)\\n\\n\\n124\\n\\nAmarillo\\n\\nTexas\\n\\n201,291\\n\\n200,393\\n\\n+0.45%\\n\\n102.3\\xa0sq\\xa0mi\\n\\n265.0\\xa0km2\\n\\n1,959/sq\\xa0mi\\n\\n756/km2\\n\\n35°12′N 101°50′W\\ufeff / \\ufeff35.20°N 101.83°W\\ufeff / 35.20; -101.83\\ufeff (Amarillo)\\n\\n\\n125\\n\\nOxnard\\n\\nCalifornia\\n\\n200,415\\n\\n202,063\\n\\n−0.82%\\n\\n26.5\\xa0sq\\xa0mi\\n\\n68.6\\xa0km2\\n\\n7,625/sq\\xa0mi\\n\\n2,944/km2\\n\\n34°12′N 119°13′W\\ufeff / \\ufeff34.20°N 119.21°W\\ufeff / 34.20; -119.21\\ufeff (Oxnard)\\n\\n\\n126\\n\\nPeoria\\n\\nArizona\\n\\n197,866\\n\\n190,985\\n\\n+3.60%\\n\\n176.1\\xa0sq\\xa0mi\\n\\n456.1\\xa0km2\\n\\n1,085/sq\\xa0mi\\n\\n419/km2\\n\\n33°47′N 112°19′W\\ufeff / \\ufeff33.79°N 112.31°W\\ufeff / 33.79; -112.31\\ufeff (Peoria)\\n\\n\\n127\\n\\nOverland Park\\n\\nKansas\\n\\n197,726\\n\\n197,238\\n\\n+0.25%\\n\\n75.2\\xa0sq\\xa0mi\\n\\n194.8\\xa0km2\\n\\n2,623/sq\\xa0mi\\n\\n1,013/km2\\n\\n38°53′N 94°41′W\\ufeff / \\ufeff38.89°N 94.69°W\\ufeff / 38.89; -94.69\\ufeff (Overland Park)\\n\\n\\n128\\n\\nMontgomery\\n\\nAlabama\\n\\n196,986\\n\\n200,603\\n\\n−1.80%\\n\\n159.9\\xa0sq\\xa0mi\\n\\n414.1\\xa0km2\\n\\n1,255/sq\\xa0mi\\n\\n485/km2\\n\\n32°21′N 86°16′W\\ufeff / \\ufeff32.35°N 86.27°W\\ufeff / 32.35; -86.27\\ufeff (Montgomery)\\n\\n\\n129\\n\\nBirmingham\\n\\nAlabama\\n\\n196,910\\n\\n200,733\\n\\n−1.90%\\n\\n147.0\\xa0sq\\xa0mi\\n\\n380.7\\xa0km2\\n\\n1,366/sq\\xa0mi\\n\\n527/km2\\n\\n33°32′N 86°48′W\\ufeff / \\ufeff33.53°N 86.80°W\\ufeff / 33.53; -86.80\\ufeff (Birmingham)\\n\\n\\n130\\n\\nGrand Rapids\\n\\nMichigan\\n\\n196,908\\n\\n198,917\\n\\n−1.01%\\n\\n44.8\\xa0sq\\xa0mi\\n\\n116.0\\xa0km2\\n\\n4,440/sq\\xa0mi\\n\\n1,710/km2\\n\\n42°58′N 85°40′W\\ufeff / \\ufeff42.96°N 85.66°W\\ufeff / 42.96; -85.66\\ufeff (Grand Rapids)\\n\\n\\n131\\n\\nKnoxville\\n\\nTennessee\\n\\n195,889\\n\\n190,740\\n\\n+2.70%\\n\\n98.7\\xa0sq\\xa0mi\\n\\n255.6\\xa0km2\\n\\n1,933/sq\\xa0mi\\n\\n746/km2\\n\\n35°58′N 83°57′W\\ufeff / \\ufeff35.97°N 83.95°W\\ufeff / 35.97; -83.95\\ufeff (Knoxville)\\n\\n\\n132\\n\\nVancouver\\n\\nWashington\\n\\n194,512\\n\\n190,915\\n\\n+1.88%\\n\\n48.7\\xa0sq\\xa0mi\\n\\n126.1\\xa0km2\\n\\n3,920/sq\\xa0mi\\n\\n1,510/km2\\n\\n45°38′N 122°36′W\\ufeff / \\ufeff45.64°N 122.60°W\\ufeff / 45.64; -122.60\\ufeff (Vancouver)\\n\\n\\n133\\n\\nHuntington Beach\\n\\nCalifornia\\n\\n194,310\\n\\n198,711\\n\\n−2.21%\\n\\n27.0\\xa0sq\\xa0mi\\n\\n69.9\\xa0km2\\n\\n7,360/sq\\xa0mi\\n\\n2,840/km2\\n\\n33°42′N 118°00′W\\ufeff / \\ufeff33.70°N 118.00°W\\ufeff / 33.70; -118.00\\ufeff (Huntington Beach)\\n\\n\\n134\\n\\nProvidence\\n\\nRhode Island\\n\\n189,563\\n\\n190,934\\n\\n−0.72%\\n\\n18.4\\xa0sq\\xa0mi\\n\\n47.7\\xa0km2\\n\\n10,377/sq\\xa0mi\\n\\n4,007/km2\\n\\n41°49′N 71°25′W\\ufeff / \\ufeff41.82°N 71.42°W\\ufeff / 41.82; -71.42\\ufeff (Providence)\\n\\n\\n135\\n\\nBrownsville\\n\\nTexas\\n\\n189,382\\n\\n186,738\\n\\n+1.42%\\n\\n131.5\\xa0sq\\xa0mi\\n\\n340.6\\xa0km2\\n\\n1,420/sq\\xa0mi\\n\\n550/km2\\n\\n26°00′N 97°27′W\\ufeff / \\ufeff26.00°N 97.45°W\\ufeff / 26.00; -97.45\\ufeff (Brownsville)\\n\\n\\n136\\n\\nGlendale\\n\\nCalifornia\\n\\n189,221\\n\\n196,543\\n\\n−3.73%\\n\\n30.5\\xa0sq\\xa0mi\\n\\n79.0\\xa0km2\\n\\n6,444/sq\\xa0mi\\n\\n2,488/km2\\n\\n34°11′N 118°15′W\\ufeff / \\ufeff34.18°N 118.25°W\\ufeff / 34.18; -118.25\\ufeff (Glendale)\\n\\n\\n137\\n\\nAkron\\n\\nOhio\\n\\n188,509\\n\\n190,469\\n\\n−1.03%\\n\\n61.9\\xa0sq\\xa0mi\\n\\n160.3\\xa0km2\\n\\n3,077/sq\\xa0mi\\n\\n1,188/km2\\n\\n41°05′N 81°31′W\\ufeff / \\ufeff41.08°N 81.52°W\\ufeff / 41.08; -81.52\\ufeff (Akron)\\n\\n\\n138\\n\\nTempe\\n\\nArizona\\n\\n185,950\\n\\n180,587\\n\\n+2.97%\\n\\n39.9\\xa0sq\\xa0mi\\n\\n103.3\\xa0km2\\n\\n4,526/sq\\xa0mi\\n\\n1,747/km2\\n\\n33°23′N 111°56′W\\ufeff / \\ufeff33.39°N 111.93°W\\ufeff / 33.39; -111.93\\ufeff (Tempe)\\n\\n\\n139\\n\\nNewport News[m]\\n\\nVirginia\\n\\n184,306\\n\\n186,247\\n\\n−1.04%\\n\\n69.0\\xa0sq\\xa0mi\\n\\n178.7\\xa0km2\\n\\n2,699/sq\\xa0mi\\n\\n1,042/km2\\n\\n37°05′N 76°31′W\\ufeff / \\ufeff37.08°N 76.52°W\\ufeff / 37.08; -76.52\\ufeff (Newport News)\\n\\n\\n140\\n\\nChattanooga\\n\\nTennessee\\n\\n184,086\\n\\n181,099\\n\\n+1.65%\\n\\n142.4\\xa0sq\\xa0mi\\n\\n368.8\\xa0km2\\n\\n1,272/sq\\xa0mi\\n\\n491/km2\\n\\n35°04′N 85°15′W\\ufeff / \\ufeff35.07°N 85.25°W\\ufeff / 35.07; -85.25\\ufeff (Chattanooga)\\n\\n\\n141\\n\\nMobile\\n\\nAlabama\\n\\n183,289\\n\\n187,041\\n\\n−2.01%\\n\\n139.5\\xa0sq\\xa0mi\\n\\n361.3\\xa0km2\\n\\n1,341/sq\\xa0mi\\n\\n518/km2\\n\\n30°40′N 88°06′W\\ufeff / \\ufeff30.67°N 88.10°W\\ufeff / 30.67; -88.10\\ufeff (Mobile)\\n\\n\\n142\\n\\nFort Lauderdale\\n\\nFlorida\\n\\n183,146\\n\\n182,760\\n\\n+0.21%\\n\\n34.6\\xa0sq\\xa0mi\\n\\n89.6\\xa0km2\\n\\n5,282/sq\\xa0mi\\n\\n2,039/km2\\n\\n26°08′N 80°09′W\\ufeff / \\ufeff26.14°N 80.15°W\\ufeff / 26.14; -80.15\\ufeff (Fort Lauderdale)\\n\\n\\n143\\n\\nCary\\n\\nNorth Carolina\\n\\n180,388\\n\\n174,721\\n\\n+3.24%\\n\\n59.2\\xa0sq\\xa0mi\\n\\n153.3\\xa0km2\\n\\n2,951/sq\\xa0mi\\n\\n1,139/km2\\n\\n35°47′N 78°49′W\\ufeff / \\ufeff35.78°N 78.82°W\\ufeff / 35.78; -78.82\\ufeff (Cary)\\n\\n\\n144\\n\\nShreveport\\n\\nLouisiana\\n\\n180,153\\n\\n187,593\\n\\n−3.97%\\n\\n107.8\\xa0sq\\xa0mi\\n\\n279.2\\xa0km2\\n\\n1,740/sq\\xa0mi\\n\\n670/km2\\n\\n32°28′N 93°47′W\\ufeff / \\ufeff32.47°N 93.79°W\\ufeff / 32.47; -93.79\\ufeff (Shreveport)\\n\\n\\n145\\n\\nOntario\\n\\nCalifornia\\n\\n179,061\\n\\n175,265\\n\\n+2.17%\\n\\n50.0\\xa0sq\\xa0mi\\n\\n129.5\\xa0km2\\n\\n3,505/sq\\xa0mi\\n\\n1,353/km2\\n\\n34°02′N 117°36′W\\ufeff / \\ufeff34.04°N 117.60°W\\ufeff / 34.04; -117.60\\ufeff (Ontario)\\n\\n\\n146\\n\\nEugene\\n\\nOregon\\n\\n177,923\\n\\n176,654\\n\\n+0.72%\\n\\n44.2\\xa0sq\\xa0mi\\n\\n114.5\\xa0km2\\n\\n3,997/sq\\xa0mi\\n\\n1,543/km2\\n\\n44°04′N 123°07′W\\ufeff / \\ufeff44.06°N 123.12°W\\ufeff / 44.06; -123.12\\ufeff (Eugene)\\n\\n\\n147\\n\\nAurora\\n\\nIllinois\\n\\n177,866\\n\\n180,542\\n\\n−1.48%\\n\\n45.0\\xa0sq\\xa0mi\\n\\n116.5\\xa0km2\\n\\n4,012/sq\\xa0mi\\n\\n1,549/km2\\n\\n41°46′N 88°17′W\\ufeff / \\ufeff41.76°N 88.29°W\\ufeff / 41.76; -88.29\\ufeff (Aurora)\\n\\n\\n148\\n\\nElk Grove\\n\\nCalifornia\\n\\n177,558\\n\\n176,124\\n\\n+0.81%\\n\\n42.0\\xa0sq\\xa0mi\\n\\n108.8\\xa0km2\\n\\n4,193/sq\\xa0mi\\n\\n1,619/km2\\n\\n38°25′N 121°23′W\\ufeff / \\ufeff38.41°N 121.38°W\\ufeff / 38.41; -121.38\\ufeff (Elk Grove)\\n\\n\\n149\\n\\nSalem\\n\\nOregon\\n\\n177,487\\n\\n175,535\\n\\n+1.11%\\n\\n48.8\\xa0sq\\xa0mi\\n\\n126.4\\xa0km2\\n\\n3,597/sq\\xa0mi\\n\\n1,389/km2\\n\\n44°55′N 123°01′W\\ufeff / \\ufeff44.92°N 123.02°W\\ufeff / 44.92; -123.02\\ufeff (Salem)\\n\\n\\n150\\n\\nSanta Rosa\\n\\nCalifornia\\n\\n177,181\\n\\n178,127\\n\\n−0.53%\\n\\n42.5\\xa0sq\\xa0mi\\n\\n110.1\\xa0km2\\n\\n4,191/sq\\xa0mi\\n\\n1,618/km2\\n\\n38°27′N 122°43′W\\ufeff / \\ufeff38.45°N 122.71°W\\ufeff / 38.45; -122.71\\ufeff (Santa Rosa)\\n\\n\\n151\\n\\nClarksville\\n\\nTennessee\\n\\n176,974\\n\\n166,722\\n\\n+6.15%\\n\\n99.4\\xa0sq\\xa0mi\\n\\n257.4\\xa0km2\\n\\n1,677/sq\\xa0mi\\n\\n647/km2\\n\\n36°34′N 87°21′W\\ufeff / \\ufeff36.57°N 87.35°W\\ufeff / 36.57; -87.35\\ufeff (Clarksville)\\n\\n\\n152\\n\\nRancho Cucamonga\\n\\nCalifornia\\n\\n176,336\\n\\n174,453\\n\\n+1.08%\\n\\n40.1\\xa0sq\\xa0mi\\n\\n103.9\\xa0km2\\n\\n4,350/sq\\xa0mi\\n\\n1,680/km2\\n\\n34°07′N 117°34′W\\ufeff / \\ufeff34.12°N 117.56°W\\ufeff / 34.12; -117.56\\ufeff (Rancho Cucamonga)\\n\\n\\n153\\n\\nOceanside\\n\\nCalifornia\\n\\n172,199\\n\\n174,068\\n\\n−1.07%\\n\\n41.3\\xa0sq\\xa0mi\\n\\n107.0\\xa0km2\\n\\n4,215/sq\\xa0mi\\n\\n1,627/km2\\n\\n33°13′N 117°19′W\\ufeff / \\ufeff33.22°N 117.31°W\\ufeff / 33.22; -117.31\\ufeff (Oceanside)\\n\\n\\n154\\n\\nSpringfield\\n\\nMissouri\\n\\n170,067\\n\\n169,176\\n\\n+0.53%\\n\\n82.4\\xa0sq\\xa0mi\\n\\n213.4\\xa0km2\\n\\n2,053/sq\\xa0mi\\n\\n793/km2\\n\\n37°11′N 93°17′W\\ufeff / \\ufeff37.19°N 93.29°W\\ufeff / 37.19; -93.29\\ufeff (Springfield)\\n\\n\\n155\\n\\nPembroke Pines\\n\\nFlorida\\n\\n169,876\\n\\n171,178\\n\\n−0.76%\\n\\n32.7\\xa0sq\\xa0mi\\n\\n84.7\\xa0km2\\n\\n5,235/sq\\xa0mi\\n\\n2,021/km2\\n\\n26°01′N 80°20′W\\ufeff / \\ufeff26.01°N 80.34°W\\ufeff / 26.01; -80.34\\ufeff (Pembroke Pines)\\n\\n\\n156\\n\\nGarden Grove\\n\\nCalifornia\\n\\n169,254\\n\\n171,949\\n\\n−1.57%\\n\\n18.0\\xa0sq\\xa0mi\\n\\n46.6\\xa0km2\\n\\n9,553/sq\\xa0mi\\n\\n3,688/km2\\n\\n33°47′N 117°58′W\\ufeff / \\ufeff33.78°N 117.96°W\\ufeff / 33.78; -117.96\\ufeff (Garden Grove)\\n\\n\\n157\\n\\nFort Collins\\n\\nColorado\\n\\n169,249\\n\\n169,810\\n\\n−0.33%\\n\\n57.2\\xa0sq\\xa0mi\\n\\n148.1\\xa0km2\\n\\n2,969/sq\\xa0mi\\n\\n1,146/km2\\n\\n40°33′N 105°04′W\\ufeff / \\ufeff40.55°N 105.06°W\\ufeff / 40.55; -105.06\\ufeff (Fort Collins)\\n\\n\\n158\\n\\nLancaster\\n\\nCalifornia\\n\\n169,185\\n\\n173,516\\n\\n−2.50%\\n\\n94.3\\xa0sq\\xa0mi\\n\\n244.2\\xa0km2\\n\\n1,840/sq\\xa0mi\\n\\n710/km2\\n\\n34°41′N 118°11′W\\ufeff / \\ufeff34.69°N 118.18°W\\ufeff / 34.69; -118.18\\ufeff (Lancaster)\\n\\n\\n159\\n\\nPalmdale\\n\\nCalifornia\\n\\n163,463\\n\\n169,450\\n\\n−3.53%\\n\\n106.1\\xa0sq\\xa0mi\\n\\n274.8\\xa0km2\\n\\n1,597/sq\\xa0mi\\n\\n617/km2\\n\\n34°35′N 118°07′W\\ufeff / \\ufeff34.59°N 118.11°W\\ufeff / 34.59; -118.11\\ufeff (Palmdale)\\n\\n\\n160\\n\\nMurfreesboro\\n\\nTennessee\\n\\n162,398\\n\\n152,769\\n\\n+6.30%\\n\\n62.9\\xa0sq\\xa0mi\\n\\n162.9\\xa0km2\\n\\n2,429/sq\\xa0mi\\n\\n938/km2\\n\\n35°51′N 86°25′W\\ufeff / \\ufeff35.85°N 86.42°W\\ufeff / 35.85; -86.42\\ufeff (Murfreesboro)\\n\\n\\n161\\n\\nSalinas\\n\\nCalifornia\\n\\n161,020\\n\\n163,542\\n\\n−1.54%\\n\\n23.5\\xa0sq\\xa0mi\\n\\n60.9\\xa0km2\\n\\n6,959/sq\\xa0mi\\n\\n2,687/km2\\n\\n36°41′N 121°38′W\\ufeff / \\ufeff36.69°N 121.63°W\\ufeff / 36.69; -121.63\\ufeff (Salinas)\\n\\n\\n162\\n\\nCorona\\n\\nCalifornia\\n\\n159,567\\n\\n157,136\\n\\n+1.55%\\n\\n39.9\\xa0sq\\xa0mi\\n\\n103.3\\xa0km2\\n\\n3,938/sq\\xa0mi\\n\\n1,520/km2\\n\\n33°52′N 117°34′W\\ufeff / \\ufeff33.86°N 117.57°W\\ufeff / 33.86; -117.57\\ufeff (Corona)\\n\\n\\n163\\n\\nKilleen\\n\\nTexas\\n\\n159,172\\n\\n153,095\\n\\n+3.97%\\n\\n54.8\\xa0sq\\xa0mi\\n\\n141.9\\xa0km2\\n\\n2,794/sq\\xa0mi\\n\\n1,079/km2\\n\\n31°05′N 97°44′W\\ufeff / \\ufeff31.08°N 97.73°W\\ufeff / 31.08; -97.73\\ufeff (Killeen)\\n\\n\\n164\\n\\nHayward\\n\\nCalifornia\\n\\n156,754\\n\\n162,954\\n\\n−3.80%\\n\\n45.8\\xa0sq\\xa0mi\\n\\n118.6\\xa0km2\\n\\n3,558/sq\\xa0mi\\n\\n1,374/km2\\n\\n37°38′N 122°06′W\\ufeff / \\ufeff37.63°N 122.10°W\\ufeff / 37.63; -122.10\\ufeff (Hayward)\\n\\n\\n165\\n\\nPaterson\\n\\nNew Jersey\\n\\n156,661\\n\\n159,732\\n\\n−1.92%\\n\\n8.4\\xa0sq\\xa0mi\\n\\n21.8\\xa0km2\\n\\n19,016/sq\\xa0mi\\n\\n7,342/km2\\n\\n40°55′N 74°10′W\\ufeff / \\ufeff40.91°N 74.16°W\\ufeff / 40.91; -74.16\\ufeff (Paterson)\\n\\n\\n166\\n\\nMacon[w]\\n\\nGeorgia\\n\\n156,197\\n\\n157,346\\n\\n−0.73%\\n\\n249.4\\xa0sq\\xa0mi\\n\\n645.9\\xa0km2\\n\\n631/sq\\xa0mi\\n\\n244/km2\\n\\n32°49′N 83°41′W\\ufeff / \\ufeff32.81°N 83.69°W\\ufeff / 32.81; -83.69\\ufeff (Macon)\\n\\n\\n167\\n\\nLakewood\\n\\nColorado\\n\\n156,120\\n\\n155,984\\n\\n+0.09%\\n\\n43.5\\xa0sq\\xa0mi\\n\\n112.7\\xa0km2\\n\\n3,586/sq\\xa0mi\\n\\n1,385/km2\\n\\n39°42′N 105°07′W\\ufeff / \\ufeff39.70°N 105.12°W\\ufeff / 39.70; -105.12\\ufeff (Lakewood)\\n\\n\\n168\\n\\nAlexandria[m]\\n\\nVirginia\\n\\n155,525\\n\\n159,467\\n\\n−2.47%\\n\\n14.9\\xa0sq\\xa0mi\\n\\n38.6\\xa0km2\\n\\n10,702/sq\\xa0mi\\n\\n4,132/km2\\n\\n38°49′N 77°05′W\\ufeff / \\ufeff38.82°N 77.08°W\\ufeff / 38.82; -77.08\\ufeff (Alexandria)\\n\\n\\n169\\n\\nRoseville\\n\\nCalifornia\\n\\n154,817\\n\\n147,773\\n\\n+4.77%\\n\\n44.1\\xa0sq\\xa0mi\\n\\n114.2\\xa0km2\\n\\n3,351/sq\\xa0mi\\n\\n1,294/km2\\n\\n38°46′N 121°19′W\\ufeff / \\ufeff38.77°N 121.32°W\\ufeff / 38.77; -121.32\\ufeff (Roseville)\\n\\n\\n170\\n\\nSurprise\\n\\nArizona\\n\\n154,198\\n\\n143,148\\n\\n+7.72%\\n\\n110.3\\xa0sq\\xa0mi\\n\\n285.7\\xa0km2\\n\\n1,298/sq\\xa0mi\\n\\n501/km2\\n\\n33°40′N 112°27′W\\ufeff / \\ufeff33.67°N 112.45°W\\ufeff / 33.67; -112.45\\ufeff (Surprise)\\n\\n\\n171\\n\\nSpringfield\\n\\nMassachusetts\\n\\n154,064\\n\\n155,929\\n\\n−1.20%\\n\\n31.9\\xa0sq\\xa0mi\\n\\n82.6\\xa0km2\\n\\n4,888/sq\\xa0mi\\n\\n1,887/km2\\n\\n42°07′N 72°32′W\\ufeff / \\ufeff42.12°N 72.54°W\\ufeff / 42.12; -72.54\\ufeff (Springfield)\\n\\n\\n172\\n\\nCharleston\\n\\nSouth Carolina\\n\\n153,672\\n\\n150,227\\n\\n+2.29%\\n\\n114.8\\xa0sq\\xa0mi\\n\\n297.3\\xa0km2\\n\\n1,309/sq\\xa0mi\\n\\n505/km2\\n\\n32°50′N 79°58′W\\ufeff / \\ufeff32.83°N 79.97°W\\ufeff / 32.83; -79.97\\ufeff (Charleston)\\n\\n\\n173\\n\\nKansas City[x]\\n\\nKansas\\n\\n153,345\\n\\n156,607\\n\\n−2.08%\\n\\n124.7\\xa0sq\\xa0mi\\n\\n323.0\\xa0km2\\n\\n1,256/sq\\xa0mi\\n\\n485/km2\\n\\n39°07′N 94°44′W\\ufeff / \\ufeff39.12°N 94.74°W\\ufeff / 39.12; -94.74\\ufeff (Kansas City)\\n\\n\\n174\\n\\nSunnyvale\\n\\nCalifornia\\n\\n153,091\\n\\n155,805\\n\\n−1.74%\\n\\n22.1\\xa0sq\\xa0mi\\n\\n57.2\\xa0km2\\n\\n7,050/sq\\xa0mi\\n\\n2,720/km2\\n\\n37°23′N 122°02′W\\ufeff / \\ufeff37.39°N 122.03°W\\ufeff / 37.39; -122.03\\ufeff (Sunnyvale)\\n\\n\\n175\\n\\nBellevue\\n\\nWashington\\n\\n152,767\\n\\n151,854\\n\\n+0.60%\\n\\n33.5\\xa0sq\\xa0mi\\n\\n86.8\\xa0km2\\n\\n4,533/sq\\xa0mi\\n\\n1,750/km2\\n\\n47°36′N 122°10′W\\ufeff / \\ufeff47.60°N 122.16°W\\ufeff / 47.60; -122.16\\ufeff (Bellevue)\\n\\n\\n176\\n\\nHollywood\\n\\nFlorida\\n\\n152,650\\n\\n153,067\\n\\n−0.27%\\n\\n27.3\\xa0sq\\xa0mi\\n\\n70.7\\xa0km2\\n\\n5,607/sq\\xa0mi\\n\\n2,165/km2\\n\\n26°02′N 80°10′W\\ufeff / \\ufeff26.03°N 80.16°W\\ufeff / 26.03; -80.16\\ufeff (Hollywood)\\n\\n\\n177\\n\\nDenton\\n\\nTexas\\n\\n150,353\\n\\n139,869\\n\\n+7.50%\\n\\n96.4\\xa0sq\\xa0mi\\n\\n249.7\\xa0km2\\n\\n1,451/sq\\xa0mi\\n\\n560/km2\\n\\n33°13′N 97°08′W\\ufeff / \\ufeff33.22°N 97.14°W\\ufeff / 33.22; -97.14\\ufeff (Denton)\\n\\n\\n178\\n\\nEscondido\\n\\nCalifornia\\n\\n150,270\\n\\n151,038\\n\\n−0.51%\\n\\n37.3\\xa0sq\\xa0mi\\n\\n96.6\\xa0km2\\n\\n4,049/sq\\xa0mi\\n\\n1,563/km2\\n\\n33°08′N 117°04′W\\ufeff / \\ufeff33.13°N 117.07°W\\ufeff / 33.13; -117.07\\ufeff (Escondido)\\n\\n\\n179\\n\\nJoliet\\n\\nIllinois\\n\\n150,033\\n\\n150,362\\n\\n−0.22%\\n\\n64.5\\xa0sq\\xa0mi\\n\\n167.1\\xa0km2\\n\\n2,331/sq\\xa0mi\\n\\n900/km2\\n\\n41°31′N 88°09′W\\ufeff / \\ufeff41.52°N 88.15°W\\ufeff / 41.52; -88.15\\ufeff (Joliet)\\n\\n\\n180\\n\\nNaperville\\n\\nIllinois\\n\\n149,936\\n\\n149,540\\n\\n+0.26%\\n\\n39.1\\xa0sq\\xa0mi\\n\\n101.3\\xa0km2\\n\\n3,825/sq\\xa0mi\\n\\n1,477/km2\\n\\n41°45′N 88°10′W\\ufeff / \\ufeff41.75°N 88.16°W\\ufeff / 41.75; -88.16\\ufeff (Naperville)\\n\\n\\n181\\n\\nBridgeport\\n\\nConnecticut\\n\\n148,377\\n\\n148,654\\n\\n−0.19%\\n\\n16.1\\xa0sq\\xa0mi\\n\\n41.7\\xa0km2\\n\\n9,233/sq\\xa0mi\\n\\n3,565/km2\\n\\n41°11′N 73°12′W\\ufeff / \\ufeff41.19°N 73.20°W\\ufeff / 41.19; -73.20\\ufeff (Bridgeport)\\n\\n\\n182\\n\\nSavannah\\n\\nGeorgia\\n\\n148,004\\n\\n147,780\\n\\n+0.15%\\n\\n106.8\\xa0sq\\xa0mi\\n\\n276.6\\xa0km2\\n\\n1,384/sq\\xa0mi\\n\\n534/km2\\n\\n32°00′N 81°09′W\\ufeff / \\ufeff32.00°N 81.15°W\\ufeff / 32.00; -81.15\\ufeff (Savannah)\\n\\n\\n183\\n\\nMesquite\\n\\nTexas\\n\\n147,899\\n\\n150,108\\n\\n−1.47%\\n\\n48.5\\xa0sq\\xa0mi\\n\\n125.6\\xa0km2\\n\\n3,095/sq\\xa0mi\\n\\n1,195/km2\\n\\n32°46′N 96°35′W\\ufeff / \\ufeff32.76°N 96.59°W\\ufeff / 32.76; -96.59\\ufeff (Mesquite)\\n\\n\\n184\\n\\nPasadena\\n\\nTexas\\n\\n147,662\\n\\n151,950\\n\\n−2.82%\\n\\n43.7\\xa0sq\\xa0mi\\n\\n113.2\\xa0km2\\n\\n3,477/sq\\xa0mi\\n\\n1,342/km2\\n\\n29°39′N 95°09′W\\ufeff / \\ufeff29.65°N 95.15°W\\ufeff / 29.65; -95.15\\ufeff (Pasadena)\\n\\n\\n185\\n\\nRockford\\n\\nIllinois\\n\\n146,713\\n\\n148,655\\n\\n−1.31%\\n\\n64.5\\xa0sq\\xa0mi\\n\\n167.1\\xa0km2\\n\\n2,305/sq\\xa0mi\\n\\n890/km2\\n\\n42°16′N 89°04′W\\ufeff / \\ufeff42.26°N 89.06°W\\ufeff / 42.26; -89.06\\ufeff (Rockford)\\n\\n\\n186\\n\\nPomona\\n\\nCalifornia\\n\\n146,017\\n\\n151,713\\n\\n−3.75%\\n\\n23.0\\xa0sq\\xa0mi\\n\\n59.6\\xa0km2\\n\\n6,596/sq\\xa0mi\\n\\n2,547/km2\\n\\n34°04′N 117°46′W\\ufeff / \\ufeff34.06°N 117.76°W\\ufeff / 34.06; -117.76\\ufeff (Pomona)\\n\\n\\n187\\n\\nJackson\\n\\nMississippi\\n\\n145,995\\n\\n153,701\\n\\n−5.01%\\n\\n111.7\\xa0sq\\xa0mi\\n\\n289.3\\xa0km2\\n\\n1,376/sq\\xa0mi\\n\\n531/km2\\n\\n32°19′N 90°13′W\\ufeff / \\ufeff32.32°N 90.21°W\\ufeff / 32.32; -90.21\\ufeff (Jackson)\\n\\n\\n188\\n\\nOlathe\\n\\nKansas\\n\\n145,616\\n\\n141,290\\n\\n+3.06%\\n\\n61.9\\xa0sq\\xa0mi\\n\\n160.3\\xa0km2\\n\\n2,283/sq\\xa0mi\\n\\n881/km2\\n\\n38°53′N 94°49′W\\ufeff / \\ufeff38.88°N 94.82°W\\ufeff / 38.88; -94.82\\ufeff (Olathe)\\n\\n\\n189\\n\\nGainesville\\n\\nFlorida\\n\\n145,214\\n\\n141,085\\n\\n+2.93%\\n\\n63.2\\xa0sq\\xa0mi\\n\\n163.7\\xa0km2\\n\\n2,232/sq\\xa0mi\\n\\n862/km2\\n\\n29°41′N 82°21′W\\ufeff / \\ufeff29.68°N 82.35°W\\ufeff / 29.68; -82.35\\ufeff (Gainesville)\\n\\n\\n190\\n\\nMcAllen\\n\\nTexas\\n\\n144,579\\n\\n142,210\\n\\n+1.67%\\n\\n62.3\\xa0sq\\xa0mi\\n\\n161.4\\xa0km2\\n\\n2,283/sq\\xa0mi\\n\\n881/km2\\n\\n26°13′N 98°15′W\\ufeff / \\ufeff26.22°N 98.25°W\\ufeff / 26.22; -98.25\\ufeff (McAllen)\\n\\n\\n191\\n\\nSyracuse\\n\\nNew York\\n\\n144,451\\n\\n148,620\\n\\n−2.81%\\n\\n25.1\\xa0sq\\xa0mi\\n\\n65.0\\xa0km2\\n\\n5,921/sq\\xa0mi\\n\\n2,286/km2\\n\\n43°02′N 76°08′W\\ufeff / \\ufeff43.04°N 76.14°W\\ufeff / 43.04; -76.14\\ufeff (Syracuse)\\n\\n\\n192\\n\\nWaco\\n\\nTexas\\n\\n143,984\\n\\n138,486\\n\\n+3.97%\\n\\n88.7\\xa0sq\\xa0mi\\n\\n229.7\\xa0km2\\n\\n1,561/sq\\xa0mi\\n\\n603/km2\\n\\n31°34′N 97°11′W\\ufeff / \\ufeff31.56°N 97.19°W\\ufeff / 31.56; -97.19\\ufeff (Waco)\\n\\n\\n193\\n\\nVisalia\\n\\nCalifornia\\n\\n143,966\\n\\n141,384\\n\\n+1.83%\\n\\n37.9\\xa0sq\\xa0mi\\n\\n98.2\\xa0km2\\n\\n3,730/sq\\xa0mi\\n\\n1,440/km2\\n\\n36°20′N 119°20′W\\ufeff / \\ufeff36.33°N 119.33°W\\ufeff / 36.33; -119.33\\ufeff (Visalia)\\n\\n\\n194\\n\\nThornton\\n\\nColorado\\n\\n143,282\\n\\n141,867\\n\\n+1.00%\\n\\n35.9\\xa0sq\\xa0mi\\n\\n93.0\\xa0km2\\n\\n3,952/sq\\xa0mi\\n\\n1,526/km2\\n\\n39°55′N 104°56′W\\ufeff / \\ufeff39.92°N 104.94°W\\ufeff / 39.92; -104.94\\ufeff (Thornton)\\n\\n\\n195\\n\\nTorrance\\n\\nCalifornia\\n\\n141,126\\n\\n147,067\\n\\n−4.04%\\n\\n20.5\\xa0sq\\xa0mi\\n\\n53.1\\xa0km2\\n\\n7,174/sq\\xa0mi\\n\\n2,770/km2\\n\\n33°50′N 118°22′W\\ufeff / \\ufeff33.83°N 118.36°W\\ufeff / 33.83; -118.36\\ufeff (Torrance)\\n\\n\\n196\\n\\nFullerton\\n\\nCalifornia\\n\\n140,541\\n\\n143,617\\n\\n−2.14%\\n\\n22.4\\xa0sq\\xa0mi\\n\\n58.0\\xa0km2\\n\\n6,411/sq\\xa0mi\\n\\n2,475/km2\\n\\n33°53′N 117°56′W\\ufeff / \\ufeff33.89°N 117.93°W\\ufeff / 33.89; -117.93\\ufeff (Fullerton)\\n\\n\\n197\\n\\nColumbia\\n\\nSouth Carolina\\n\\n139,698\\n\\n136,632\\n\\n+2.24%\\n\\n136.8\\xa0sq\\xa0mi\\n\\n354.3\\xa0km2\\n\\n999/sq\\xa0mi\\n\\n386/km2\\n\\n34°02′N 80°55′W\\ufeff / \\ufeff34.04°N 80.91°W\\ufeff / 34.04; -80.91\\ufeff (Columbia)\\n\\n\\n198\\n\\nLakewood\\n\\nNew Jersey\\n\\n139,506\\n\\n135,158\\n\\n+3.22%\\n\\n24.7\\xa0sq\\xa0mi\\n\\n64.0\\xa0km2\\n\\n5,472/sq\\xa0mi\\n\\n2,113/km2\\n\\n40°05′N 74°12′W\\ufeff / \\ufeff40.08°N 74.20°W\\ufeff / 40.08; -74.20\\ufeff (Lakewood)\\n\\n\\n199\\n\\nNew Haven\\n\\nConnecticut\\n\\n138,915\\n\\n134,023\\n\\n+3.65%\\n\\n18.7\\xa0sq\\xa0mi\\n\\n48.4\\xa0km2\\n\\n7,167/sq\\xa0mi\\n\\n2,767/km2\\n\\n41°19′N 72°55′W\\ufeff / \\ufeff41.31°N 72.92°W\\ufeff / 41.31; -72.92\\ufeff (New Haven)\\n\\n\\n200\\n\\nHampton[m]\\n\\nVirginia\\n\\n138,037\\n\\n137,148\\n\\n+0.65%\\n\\n51.5\\xa0sq\\xa0mi\\n\\n133.4\\xa0km2\\n\\n2,663/sq\\xa0mi\\n\\n1,028/km2\\n\\n37°03′N 76°18′W\\ufeff / \\ufeff37.05°N 76.30°W\\ufeff / 37.05; -76.30\\ufeff (Hampton)\\n\\n\\n201\\n\\nMiramar\\n\\nFlorida\\n\\n137,228\\n\\n134,721\\n\\n+1.86%\\n\\n28.9\\xa0sq\\xa0mi\\n\\n74.9\\xa0km2\\n\\n4,662/sq\\xa0mi\\n\\n1,800/km2\\n\\n25°58′N 80°20′W\\ufeff / \\ufeff25.97°N 80.34°W\\ufeff / 25.97; -80.34\\ufeff (Miramar)\\n\\n\\n202\\n\\nVictorville\\n\\nCalifornia\\n\\n137,221\\n\\n134,810\\n\\n+1.79%\\n\\n73.7\\xa0sq\\xa0mi\\n\\n190.9\\xa0km2\\n\\n1,829/sq\\xa0mi\\n\\n706/km2\\n\\n34°32′N 117°21′W\\ufeff / \\ufeff34.53°N 117.35°W\\ufeff / 34.53; -117.35\\ufeff (Victorville)\\n\\n\\n203\\n\\nWarren\\n\\nMichigan\\n\\n137,107\\n\\n139,387\\n\\n−1.64%\\n\\n34.4\\xa0sq\\xa0mi\\n\\n89.1\\xa0km2\\n\\n4,052/sq\\xa0mi\\n\\n1,564/km2\\n\\n42°29′N 83°02′W\\ufeff / \\ufeff42.49°N 83.03°W\\ufeff / 42.49; -83.03\\ufeff (Warren)\\n\\n\\n204\\n\\nWest Valley City\\n\\nUtah\\n\\n136,650\\n\\n140,230\\n\\n−2.55%\\n\\n35.8\\xa0sq\\xa0mi\\n\\n92.7\\xa0km2\\n\\n3,917/sq\\xa0mi\\n\\n1,512/km2\\n\\n40°41′N 112°01′W\\ufeff / \\ufeff40.69°N 112.01°W\\ufeff / 40.69; -112.01\\ufeff (West Valley City)\\n\\n\\n205\\n\\nCedar Rapids\\n\\nIowa\\n\\n136,429\\n\\n137,710\\n\\n−0.93%\\n\\n72.1\\xa0sq\\xa0mi\\n\\n186.7\\xa0km2\\n\\n1,910/sq\\xa0mi\\n\\n740/km2\\n\\n41°58′N 91°41′W\\ufeff / \\ufeff41.97°N 91.68°W\\ufeff / 41.97; -91.68\\ufeff (Cedar Rapids)\\n\\n\\n206\\n\\nStamford\\n\\nConnecticut\\n\\n136,188\\n\\n135,470\\n\\n+0.53%\\n\\n37.6\\xa0sq\\xa0mi\\n\\n97.4\\xa0km2\\n\\n3,603/sq\\xa0mi\\n\\n1,391/km2\\n\\n41°05′N 73°33′W\\ufeff / \\ufeff41.08°N 73.55°W\\ufeff / 41.08; -73.55\\ufeff (Stamford)\\n\\n\\n207\\n\\nOrange\\n\\nCalifornia\\n\\n136,178\\n\\n139,911\\n\\n−2.67%\\n\\n25.7\\xa0sq\\xa0mi\\n\\n66.6\\xa0km2\\n\\n5,444/sq\\xa0mi\\n\\n2,102/km2\\n\\n33°47′N 117°52′W\\ufeff / \\ufeff33.79°N 117.86°W\\ufeff / 33.79; -117.86\\ufeff (Orange)\\n\\n\\n208\\n\\nDayton\\n\\nOhio\\n\\n135,944\\n\\n137,644\\n\\n−1.24%\\n\\n55.8\\xa0sq\\xa0mi\\n\\n144.5\\xa0km2\\n\\n2,467/sq\\xa0mi\\n\\n953/km2\\n\\n39°47′N 84°12′W\\ufeff / \\ufeff39.78°N 84.20°W\\ufeff / 39.78; -84.20\\ufeff (Dayton)\\n\\n\\n209\\n\\nMidland\\n\\nTexas\\n\\n134,444\\n\\n132,524\\n\\n+1.45%\\n\\n75.5\\xa0sq\\xa0mi\\n\\n195.5\\xa0km2\\n\\n1,755/sq\\xa0mi\\n\\n678/km2\\n\\n32°01′N 102°07′W\\ufeff / \\ufeff32.02°N 102.11°W\\ufeff / 32.02; -102.11\\ufeff (Midland)\\n\\n\\n210\\n\\nKent\\n\\nWashington\\n\\n134,392\\n\\n136,588\\n\\n−1.61%\\n\\n33.8\\xa0sq\\xa0mi\\n\\n87.5\\xa0km2\\n\\n4,041/sq\\xa0mi\\n\\n1,560/km2\\n\\n47°23′N 122°13′W\\ufeff / \\ufeff47.39°N 122.21°W\\ufeff / 47.39; -122.21\\ufeff (Kent)\\n\\n\\n211\\n\\nElizabeth\\n\\nNew Jersey\\n\\n134,283\\n\\n137,298\\n\\n−2.20%\\n\\n12.3\\xa0sq\\xa0mi\\n\\n31.9\\xa0km2\\n\\n11,162/sq\\xa0mi\\n\\n4,310/km2\\n\\n40°40′N 74°11′W\\ufeff / \\ufeff40.67°N 74.19°W\\ufeff / 40.67; -74.19\\ufeff (Elizabeth)\\n\\n\\n212\\n\\nPasadena\\n\\nCalifornia\\n\\n134,211\\n\\n138,699\\n\\n−3.24%\\n\\n23.0\\xa0sq\\xa0mi\\n\\n59.6\\xa0km2\\n\\n6,030/sq\\xa0mi\\n\\n2,330/km2\\n\\n34°10′N 118°08′W\\ufeff / \\ufeff34.16°N 118.14°W\\ufeff / 34.16; -118.14\\ufeff (Pasadena)\\n\\n\\n213\\n\\nCarrollton\\n\\nTexas\\n\\n133,820\\n\\n133,434\\n\\n+0.29%\\n\\n36.7\\xa0sq\\xa0mi\\n\\n95.1\\xa0km2\\n\\n3,636/sq\\xa0mi\\n\\n1,404/km2\\n\\n32°59′N 96°54′W\\ufeff / \\ufeff32.99°N 96.90°W\\ufeff / 32.99; -96.90\\ufeff (Carrollton)\\n\\n\\n214\\n\\nCoral Springs\\n\\nFlorida\\n\\n133,369\\n\\n134,394\\n\\n−0.76%\\n\\n22.9\\xa0sq\\xa0mi\\n\\n59.3\\xa0km2\\n\\n5,869/sq\\xa0mi\\n\\n2,266/km2\\n\\n26°16′N 80°16′W\\ufeff / \\ufeff26.27°N 80.26°W\\ufeff / 26.27; -80.26\\ufeff (Coral Springs)\\n\\n\\n215\\n\\nSterling Heights\\n\\nMichigan\\n\\n132,567\\n\\n134,346\\n\\n−1.32%\\n\\n36.4\\xa0sq\\xa0mi\\n\\n94.3\\xa0km2\\n\\n3,691/sq\\xa0mi\\n\\n1,425/km2\\n\\n42°35′N 83°02′W\\ufeff / \\ufeff42.58°N 83.03°W\\ufeff / 42.58; -83.03\\ufeff (Sterling Heights)\\n\\n\\n216\\n\\nFargo\\n\\nNorth Dakota\\n\\n131,444\\n\\n125,990\\n\\n+4.33%\\n\\n49.8\\xa0sq\\xa0mi\\n\\n129.0\\xa0km2\\n\\n2,530/sq\\xa0mi\\n\\n980/km2\\n\\n46°52′N 96°50′W\\ufeff / \\ufeff46.86°N 96.83°W\\ufeff / 46.86; -96.83\\ufeff (Fargo)\\n\\n\\n217\\n\\nLewisville\\n\\nTexas\\n\\n131,215\\n\\n111,822\\n\\n+17.34%\\n\\n37.0\\xa0sq\\xa0mi\\n\\n95.8\\xa0km2\\n\\n3,022/sq\\xa0mi\\n\\n1,167/km2\\n\\n33°03′N 96°59′W\\ufeff / \\ufeff33.05°N 96.98°W\\ufeff / 33.05; -96.98\\ufeff (Lewisville)\\n\\n\\n218\\n\\nMeridian\\n\\nIdaho\\n\\n129,736\\n\\n117,635\\n\\n+10.29%\\n\\n35.1\\xa0sq\\xa0mi\\n\\n90.9\\xa0km2\\n\\n3,351/sq\\xa0mi\\n\\n1,294/km2\\n\\n43°37′N 116°24′W\\ufeff / \\ufeff43.61°N 116.40°W\\ufeff / 43.61; -116.40\\ufeff (Meridian)\\n\\n\\n219\\n\\nNorman\\n\\nOklahoma\\n\\n129,627\\n\\n128,026\\n\\n+1.25%\\n\\n178.8\\xa0sq\\xa0mi\\n\\n463.1\\xa0km2\\n\\n716/sq\\xa0mi\\n\\n276/km2\\n\\n35°14′N 97°21′W\\ufeff / \\ufeff35.24°N 97.35°W\\ufeff / 35.24; -97.35\\ufeff (Norman)\\n\\n\\n220\\n\\nPalm Bay\\n\\nFlorida\\n\\n129,234\\n\\n119,760\\n\\n+7.91%\\n\\n86.4\\xa0sq\\xa0mi\\n\\n223.8\\xa0km2\\n\\n1,386/sq\\xa0mi\\n\\n535/km2\\n\\n27°58′N 80°40′W\\ufeff / \\ufeff27.96°N 80.66°W\\ufeff / 27.96; -80.66\\ufeff (Palm Bay)\\n\\n\\n221\\n\\nAthens[y]\\n\\nGeorgia\\n\\n128,561\\n\\n127,315\\n\\n+0.98%\\n\\n116.3\\xa0sq\\xa0mi\\n\\n301.2\\xa0km2\\n\\n1,095/sq\\xa0mi\\n\\n423/km2\\n\\n33°57′N 83°22′W\\ufeff / \\ufeff33.95°N 83.37°W\\ufeff / 33.95; -83.37\\ufeff (Athens)\\n\\n\\n222\\n\\nColumbia\\n\\nMissouri\\n\\n128,555\\n\\n126,254\\n\\n+1.82%\\n\\n66.5\\xa0sq\\xa0mi\\n\\n172.2\\xa0km2\\n\\n1,899/sq\\xa0mi\\n\\n733/km2\\n\\n38°57′N 92°20′W\\ufeff / \\ufeff38.95°N 92.33°W\\ufeff / 38.95; -92.33\\ufeff (Columbia)\\n\\n\\n223\\n\\nAbilene\\n\\nTexas\\n\\n127,385\\n\\n125,182\\n\\n+1.76%\\n\\n106.7\\xa0sq\\xa0mi\\n\\n276.4\\xa0km2\\n\\n1,173/sq\\xa0mi\\n\\n453/km2\\n\\n32°27′N 99°44′W\\ufeff / \\ufeff32.45°N 99.74°W\\ufeff / 32.45; -99.74\\ufeff (Abilene)\\n\\n\\n224\\n\\nPearland\\n\\nTexas\\n\\n126,949\\n\\n125,828\\n\\n+0.89%\\n\\n48.7\\xa0sq\\xa0mi\\n\\n126.1\\xa0km2\\n\\n2,584/sq\\xa0mi\\n\\n998/km2\\n\\n29°34′N 95°19′W\\ufeff / \\ufeff29.56°N 95.32°W\\ufeff / 29.56; -95.32\\ufeff (Pearland)\\n\\n\\n225\\n\\nSanta Clara\\n\\nCalifornia\\n\\n126,930\\n\\n127,647\\n\\n−0.56%\\n\\n18.3\\xa0sq\\xa0mi\\n\\n47.4\\xa0km2\\n\\n6,975/sq\\xa0mi\\n\\n2,693/km2\\n\\n37°22′N 121°58′W\\ufeff / \\ufeff37.36°N 121.97°W\\ufeff / 37.36; -121.97\\ufeff (Santa Clara)\\n\\n\\n226\\n\\nRound Rock\\n\\nTexas\\n\\n126,697\\n\\n119,468\\n\\n+6.05%\\n\\n37.6\\xa0sq\\xa0mi\\n\\n97.4\\xa0km2\\n\\n3,177/sq\\xa0mi\\n\\n1,227/km2\\n\\n30°32′N 97°40′W\\ufeff / \\ufeff30.53°N 97.66°W\\ufeff / 30.53; -97.66\\ufeff (Round Rock)\\n\\n\\n227\\n\\nTopeka\\n\\nKansas\\n\\n125,449\\n\\n126,587\\n\\n−0.90%\\n\\n61.4\\xa0sq\\xa0mi\\n\\n159.0\\xa0km2\\n\\n2,062/sq\\xa0mi\\n\\n796/km2\\n\\n39°02′N 95°41′W\\ufeff / \\ufeff39.03°N 95.69°W\\ufeff / 39.03; -95.69\\ufeff (Topeka)\\n\\n\\n228\\n\\nAllentown\\n\\nPennsylvania\\n\\n125,094\\n\\n125,845\\n\\n−0.60%\\n\\n17.6\\xa0sq\\xa0mi\\n\\n45.6\\xa0km2\\n\\n7,150/sq\\xa0mi\\n\\n2,760/km2\\n\\n40°35′N 75°29′W\\ufeff / \\ufeff40.59°N 75.48°W\\ufeff / 40.59; -75.48\\ufeff (Allentown)\\n\\n\\n229\\n\\nClovis\\n\\nCalifornia\\n\\n124,556\\n\\n120,124\\n\\n+3.69%\\n\\n25.4\\xa0sq\\xa0mi\\n\\n65.8\\xa0km2\\n\\n4,729/sq\\xa0mi\\n\\n1,826/km2\\n\\n36°50′N 119°41′W\\ufeff / \\ufeff36.83°N 119.68°W\\ufeff / 36.83; -119.68\\ufeff (Clovis)\\n\\n\\n230\\n\\nSimi Valley\\n\\nCalifornia\\n\\n124,398\\n\\n126,356\\n\\n−1.55%\\n\\n41.5\\xa0sq\\xa0mi\\n\\n107.5\\xa0km2\\n\\n3,045/sq\\xa0mi\\n\\n1,176/km2\\n\\n34°16′N 118°45′W\\ufeff / \\ufeff34.27°N 118.75°W\\ufeff / 34.27; -118.75\\ufeff (Simi Valley)\\n\\n\\n231\\n\\nCollege Station\\n\\nTexas\\n\\n124,319\\n\\n120,511\\n\\n+3.16%\\n\\n51.2\\xa0sq\\xa0mi\\n\\n132.6\\xa0km2\\n\\n2,354/sq\\xa0mi\\n\\n909/km2\\n\\n30°35′N 96°18′W\\ufeff / \\ufeff30.59°N 96.30°W\\ufeff / 30.59; -96.30\\ufeff (College Station)\\n\\n\\n232\\n\\nThousand Oaks\\n\\nCalifornia\\n\\n124,265\\n\\n126,966\\n\\n−2.13%\\n\\n55.3\\xa0sq\\xa0mi\\n\\n143.2\\xa0km2\\n\\n2,296/sq\\xa0mi\\n\\n886/km2\\n\\n34°11′N 118°52′W\\ufeff / \\ufeff34.19°N 118.87°W\\ufeff / 34.19; -118.87\\ufeff (Thousand Oaks)\\n\\n\\n233\\n\\nVallejo\\n\\nCalifornia\\n\\n123,564\\n\\n126,090\\n\\n−2.00%\\n\\n30.4\\xa0sq\\xa0mi\\n\\n78.7\\xa0km2\\n\\n4,148/sq\\xa0mi\\n\\n1,602/km2\\n\\n38°07′N 122°16′W\\ufeff / \\ufeff38.11°N 122.26°W\\ufeff / 38.11; -122.26\\ufeff (Vallejo)\\n\\n\\n234\\n\\nConcord\\n\\nCalifornia\\n\\n122,625\\n\\n125,410\\n\\n−2.22%\\n\\n30.6\\xa0sq\\xa0mi\\n\\n79.3\\xa0km2\\n\\n4,098/sq\\xa0mi\\n\\n1,582/km2\\n\\n37°58′N 122°00′W\\ufeff / \\ufeff37.97°N 122.00°W\\ufeff / 37.97; -122.00\\ufeff (Concord)\\n\\n\\n235\\n\\nRochester\\n\\nMinnesota\\n\\n121,878\\n\\n121,395\\n\\n+0.40%\\n\\n55.5\\xa0sq\\xa0mi\\n\\n143.7\\xa0km2\\n\\n2,187/sq\\xa0mi\\n\\n844/km2\\n\\n44°01′N 92°29′W\\ufeff / \\ufeff44.02°N 92.48°W\\ufeff / 44.02; -92.48\\ufeff (Rochester)\\n\\n\\n236\\n\\nArvada\\n\\nColorado\\n\\n121,581\\n\\n124,402\\n\\n−2.27%\\n\\n38.9\\xa0sq\\xa0mi\\n\\n100.8\\xa0km2\\n\\n3,198/sq\\xa0mi\\n\\n1,235/km2\\n\\n39°50′N 105°09′W\\ufeff / \\ufeff39.83°N 105.15°W\\ufeff / 39.83; -105.15\\ufeff (Arvada)\\n\\n\\n237\\n\\nLafayette[z]\\n\\nLouisiana\\n\\n121,389\\n\\n121,374\\n\\n+0.01%\\n\\n55.8\\xa0sq\\xa0mi\\n\\n144.5\\xa0km2\\n\\n2,175/sq\\xa0mi\\n\\n840/km2\\n\\n30°13′N 92°02′W\\ufeff / \\ufeff30.21°N 92.03°W\\ufeff / 30.21; -92.03\\ufeff (Lafayette)\\n\\n\\n238\\n\\nIndependence\\n\\nMissouri\\n\\n121,202\\n\\n123,011\\n\\n−1.47%\\n\\n78.0\\xa0sq\\xa0mi\\n\\n202.0\\xa0km2\\n\\n1,577/sq\\xa0mi\\n\\n609/km2\\n\\n39°05′N 94°21′W\\ufeff / \\ufeff39.09°N 94.35°W\\ufeff / 39.09; -94.35\\ufeff (Independence)\\n\\n\\n239\\n\\nWest Palm Beach\\n\\nFlorida\\n\\n120,932\\n\\n117,415\\n\\n+3.00%\\n\\n53.8\\xa0sq\\xa0mi\\n\\n139.3\\xa0km2\\n\\n2,182/sq\\xa0mi\\n\\n842/km2\\n\\n26°45′N 80°08′W\\ufeff / \\ufeff26.75°N 80.13°W\\ufeff / 26.75; -80.13\\ufeff (West Palm Beach)\\n\\n\\n240\\n\\nHartford\\n\\nConnecticut\\n\\n120,686\\n\\n121,054\\n\\n−0.30%\\n\\n17.4\\xa0sq\\xa0mi\\n\\n45.1\\xa0km2\\n\\n6,957/sq\\xa0mi\\n\\n2,686/km2\\n\\n41°46′N 72°41′W\\ufeff / \\ufeff41.77°N 72.68°W\\ufeff / 41.77; -72.68\\ufeff (Hartford)\\n\\n\\n241\\n\\nWilmington\\n\\nNorth Carolina\\n\\n120,324\\n\\n115,451\\n\\n+4.22%\\n\\n51.4\\xa0sq\\xa0mi\\n\\n133.1\\xa0km2\\n\\n2,246/sq\\xa0mi\\n\\n867/km2\\n\\n34°13′N 77°53′W\\ufeff / \\ufeff34.21°N 77.89°W\\ufeff / 34.21; -77.89\\ufeff (Wilmington)\\n\\n\\n242\\n\\nLakeland\\n\\nFlorida\\n\\n120,071\\n\\n112,641\\n\\n+6.60%\\n\\n66.2\\xa0sq\\xa0mi\\n\\n171.5\\xa0km2\\n\\n1,702/sq\\xa0mi\\n\\n657/km2\\n\\n28°04′N 81°57′W\\ufeff / \\ufeff28.06°N 81.95°W\\ufeff / 28.06; -81.95\\ufeff (Lakeland)\\n\\n\\n243\\n\\nBillings\\n\\nMontana\\n\\n119,960\\n\\n117,116\\n\\n+2.43%\\n\\n44.8\\xa0sq\\xa0mi\\n\\n116.0\\xa0km2\\n\\n2,614/sq\\xa0mi\\n\\n1,009/km2\\n\\n45°47′N 108°33′W\\ufeff / \\ufeff45.79°N 108.55°W\\ufeff / 45.79; -108.55\\ufeff (Billings)\\n\\n\\n244\\n\\nAnn Arbor\\n\\nMichigan\\n\\n119,875\\n\\n123,851\\n\\n−3.21%\\n\\n28.2\\xa0sq\\xa0mi\\n\\n73.0\\xa0km2\\n\\n4,392/sq\\xa0mi\\n\\n1,696/km2\\n\\n42°17′N 83°44′W\\ufeff / \\ufeff42.28°N 83.73°W\\ufeff / 42.28; -83.73\\ufeff (Ann Arbor)\\n\\n\\n245\\n\\nFairfield\\n\\nCalifornia\\n\\n119,338\\n\\n119,881\\n\\n−0.45%\\n\\n41.6\\xa0sq\\xa0mi\\n\\n107.7\\xa0km2\\n\\n2,882/sq\\xa0mi\\n\\n1,113/km2\\n\\n38°16′N 122°02′W\\ufeff / \\ufeff38.26°N 122.03°W\\ufeff / 38.26; -122.03\\ufeff (Fairfield)\\n\\n\\n246\\n\\nBerkeley\\n\\nCalifornia\\n\\n118,950\\n\\n124,321\\n\\n−4.32%\\n\\n10.4\\xa0sq\\xa0mi\\n\\n26.9\\xa0km2\\n\\n11,954/sq\\xa0mi\\n\\n4,615/km2\\n\\n37°52′N 122°18′W\\ufeff / \\ufeff37.87°N 122.30°W\\ufeff / 37.87; -122.30\\ufeff (Berkeley)\\n\\n\\n247\\n\\nRichardson\\n\\nTexas\\n\\n118,802\\n\\n119,469\\n\\n−0.56%\\n\\n28.6\\xa0sq\\xa0mi\\n\\n74.1\\xa0km2\\n\\n4,177/sq\\xa0mi\\n\\n1,613/km2\\n\\n32°58′N 96°43′W\\ufeff / \\ufeff32.97°N 96.71°W\\ufeff / 32.97; -96.71\\ufeff (Richardson)\\n\\n\\n248\\n\\nNorth Charleston\\n\\nSouth Carolina\\n\\n118,608\\n\\n114,852\\n\\n+3.27%\\n\\n77.6\\xa0sq\\xa0mi\\n\\n201.0\\xa0km2\\n\\n1,480/sq\\xa0mi\\n\\n570/km2\\n\\n32°55′N 80°04′W\\ufeff / \\ufeff32.92°N 80.07°W\\ufeff / 32.92; -80.07\\ufeff (North Charleston)\\n\\n\\n249\\n\\nCambridge\\n\\nMassachusetts\\n\\n118,488\\n\\n118,403\\n\\n+0.07%\\n\\n6.4\\xa0sq\\xa0mi\\n\\n16.6\\xa0km2\\n\\n18,500/sq\\xa0mi\\n\\n7,100/km2\\n\\n42°23′N 71°07′W\\ufeff / \\ufeff42.38°N 71.12°W\\ufeff / 42.38; -71.12\\ufeff (Cambridge)\\n\\n\\n250\\n\\nBroken Arrow\\n\\nOklahoma\\n\\n117,911\\n\\n113,540\\n\\n+3.85%\\n\\n63.0\\xa0sq\\xa0mi\\n\\n163.2\\xa0km2\\n\\n1,802/sq\\xa0mi\\n\\n696/km2\\n\\n36°02′N 95°47′W\\ufeff / \\ufeff36.04°N 95.78°W\\ufeff / 36.04; -95.78\\ufeff (Broken Arrow)\\n\\n\\n251\\n\\nClearwater\\n\\nFlorida\\n\\n117,027\\n\\n117,292\\n\\n−0.23%\\n\\n26.1\\xa0sq\\xa0mi\\n\\n67.6\\xa0km2\\n\\n4,494/sq\\xa0mi\\n\\n1,735/km2\\n\\n27°59′N 82°46′W\\ufeff / \\ufeff27.98°N 82.77°W\\ufeff / 27.98; -82.77\\ufeff (Clearwater)\\n\\n\\n252\\n\\nWest Jordan\\n\\nUtah\\n\\n116,664\\n\\n116,961\\n\\n−0.25%\\n\\n32.3\\xa0sq\\xa0mi\\n\\n83.7\\xa0km2\\n\\n3,621/sq\\xa0mi\\n\\n1,398/km2\\n\\n40°36′N 112°00′W\\ufeff / \\ufeff40.60°N 112.00°W\\ufeff / 40.60; -112.00\\ufeff (West Jordan)\\n\\n\\n253\\n\\nEvansville\\n\\nIndiana\\n\\n115,749\\n\\n117,298\\n\\n−1.32%\\n\\n47.4\\xa0sq\\xa0mi\\n\\n122.8\\xa0km2\\n\\n2,475/sq\\xa0mi\\n\\n956/km2\\n\\n37°59′N 87°32′W\\ufeff / \\ufeff37.99°N 87.53°W\\ufeff / 37.99; -87.53\\ufeff (Evansville)\\n\\n\\n254\\n\\nLeague City\\n\\nTexas\\n\\n115,418\\n\\n114,392\\n\\n+0.90%\\n\\n51.3\\xa0sq\\xa0mi\\n\\n132.9\\xa0km2\\n\\n2,230/sq\\xa0mi\\n\\n860/km2\\n\\n29°29′N 95°07′W\\ufeff / \\ufeff29.49°N 95.11°W\\ufeff / 29.49; -95.11\\ufeff (League City)\\n\\n\\n255\\n\\nAntioch\\n\\nCalifornia\\n\\n115,264\\n\\n115,291\\n\\n−0.02%\\n\\n29.2\\xa0sq\\xa0mi\\n\\n75.6\\xa0km2\\n\\n3,948/sq\\xa0mi\\n\\n1,524/km2\\n\\n37°59′N 121°48′W\\ufeff / \\ufeff37.98°N 121.80°W\\ufeff / 37.98; -121.80\\ufeff (Antioch)\\n\\n\\n256\\n\\nManchester\\n\\nNew Hampshire\\n\\n115,141\\n\\n115,644\\n\\n−0.43%\\n\\n33.1\\xa0sq\\xa0mi\\n\\n85.7\\xa0km2\\n\\n3,494/sq\\xa0mi\\n\\n1,349/km2\\n\\n42°59′N 71°26′W\\ufeff / \\ufeff42.98°N 71.44°W\\ufeff / 42.98; -71.44\\ufeff (Manchester)\\n\\n\\n257\\n\\nHigh Point\\n\\nNorth Carolina\\n\\n115,067\\n\\n114,059\\n\\n+0.88%\\n\\n56.4\\xa0sq\\xa0mi\\n\\n146.1\\xa0km2\\n\\n2,022/sq\\xa0mi\\n\\n781/km2\\n\\n35°59′N 79°59′W\\ufeff / \\ufeff35.99°N 79.99°W\\ufeff / 35.99; -79.99\\ufeff (High Point)\\n\\n\\n258\\n\\nWaterbury\\n\\nConnecticut\\n\\n115,016\\n\\n114,403\\n\\n+0.54%\\n\\n28.5\\xa0sq\\xa0mi\\n\\n73.8\\xa0km2\\n\\n4,014/sq\\xa0mi\\n\\n1,550/km2\\n\\n41°34′N 73°02′W\\ufeff / \\ufeff41.56°N 73.04°W\\ufeff / 41.56; -73.04\\ufeff (Waterbury)\\n\\n\\n259\\n\\nWestminster\\n\\nColorado\\n\\n114,533\\n\\n116,317\\n\\n−1.53%\\n\\n31.6\\xa0sq\\xa0mi\\n\\n81.8\\xa0km2\\n\\n3,681/sq\\xa0mi\\n\\n1,421/km2\\n\\n39°53′N 105°04′W\\ufeff / \\ufeff39.88°N 105.06°W\\ufeff / 39.88; -105.06\\ufeff (Westminster)\\n\\n\\n260\\n\\nRichmond\\n\\nCalifornia\\n\\n114,301\\n\\n116,448\\n\\n−1.84%\\n\\n30.1\\xa0sq\\xa0mi\\n\\n78.0\\xa0km2\\n\\n3,869/sq\\xa0mi\\n\\n1,494/km2\\n\\n37°57′N 122°22′W\\ufeff / \\ufeff37.95°N 122.36°W\\ufeff / 37.95; -122.36\\ufeff (Richmond)\\n\\n\\n261\\n\\nCarlsbad\\n\\nCalifornia\\n\\n114,160\\n\\n114,746\\n\\n−0.51%\\n\\n37.8\\xa0sq\\xa0mi\\n\\n97.9\\xa0km2\\n\\n3,036/sq\\xa0mi\\n\\n1,172/km2\\n\\n33°08′N 117°17′W\\ufeff / \\ufeff33.13°N 117.28°W\\ufeff / 33.13; -117.28\\ufeff (Carlsbad)\\n\\n\\n262\\n\\nLas Cruces\\n\\nNew Mexico\\n\\n113,888\\n\\n111,385\\n\\n+2.25%\\n\\n76.9\\xa0sq\\xa0mi\\n\\n199.2\\xa0km2\\n\\n1,448/sq\\xa0mi\\n\\n559/km2\\n\\n32°20′N 106°47′W\\ufeff / \\ufeff32.33°N 106.79°W\\ufeff / 32.33; -106.79\\ufeff (Las Cruces)\\n\\n\\n263\\n\\nMurrieta\\n\\nCalifornia\\n\\n113,783\\n\\n110,949\\n\\n+2.55%\\n\\n33.6\\xa0sq\\xa0mi\\n\\n87.0\\xa0km2\\n\\n3,302/sq\\xa0mi\\n\\n1,275/km2\\n\\n33°34′N 117°11′W\\ufeff / \\ufeff33.57°N 117.19°W\\ufeff / 33.57; -117.19\\ufeff (Murrieta)\\n\\n\\n264\\n\\nLowell\\n\\nMassachusetts\\n\\n113,608\\n\\n115,554\\n\\n−1.68%\\n\\n13.6\\xa0sq\\xa0mi\\n\\n35.2\\xa0km2\\n\\n8,497/sq\\xa0mi\\n\\n3,281/km2\\n\\n42°38′N 71°19′W\\ufeff / \\ufeff42.64°N 71.32°W\\ufeff / 42.64; -71.32\\ufeff (Lowell)\\n\\n\\n265\\n\\nProvo\\n\\nUtah\\n\\n113,523\\n\\n115,162\\n\\n−1.42%\\n\\n41.7\\xa0sq\\xa0mi\\n\\n108.0\\xa0km2\\n\\n2,762/sq\\xa0mi\\n\\n1,066/km2\\n\\n40°15′N 111°39′W\\ufeff / \\ufeff40.25°N 111.65°W\\ufeff / 40.25; -111.65\\ufeff (Provo)\\n\\n\\n266\\n\\nSpringfield\\n\\nIllinois\\n\\n113,273\\n\\n114,394\\n\\n−0.98%\\n\\n61.1\\xa0sq\\xa0mi\\n\\n158.2\\xa0km2\\n\\n1,872/sq\\xa0mi\\n\\n723/km2\\n\\n39°47′N 89°38′W\\ufeff / \\ufeff39.79°N 89.64°W\\ufeff / 39.79; -89.64\\ufeff (Springfield)\\n\\n\\n267\\n\\nElgin\\n\\nIllinois\\n\\n113,177\\n\\n114,797\\n\\n−1.41%\\n\\n38.0\\xa0sq\\xa0mi\\n\\n98.4\\xa0km2\\n\\n3,021/sq\\xa0mi\\n\\n1,166/km2\\n\\n42°02′N 88°20′W\\ufeff / \\ufeff42.04°N 88.33°W\\ufeff / 42.04; -88.33\\ufeff (Elgin)\\n\\n\\n268\\n\\nOdessa\\n\\nTexas\\n\\n112,906\\n\\n114,428\\n\\n−1.33%\\n\\n51.1\\xa0sq\\xa0mi\\n\\n132.3\\xa0km2\\n\\n2,239/sq\\xa0mi\\n\\n864/km2\\n\\n31°53′N 102°21′W\\ufeff / \\ufeff31.88°N 102.35°W\\ufeff / 31.88; -102.35\\ufeff (Odessa)\\n\\n\\n269\\n\\nLansing\\n\\nMichigan\\n\\n112,537\\n\\n112,644\\n\\n−0.09%\\n\\n39.1\\xa0sq\\xa0mi\\n\\n101.3\\xa0km2\\n\\n2,881/sq\\xa0mi\\n\\n1,112/km2\\n\\n42°43′N 84°34′W\\ufeff / \\ufeff42.71°N 84.56°W\\ufeff / 42.71; -84.56\\ufeff (Lansing)\\n\\n\\n270\\n\\nPompano Beach\\n\\nFlorida\\n\\n112,302\\n\\n112,046\\n\\n+0.23%\\n\\n24.0\\xa0sq\\xa0mi\\n\\n62.2\\xa0km2\\n\\n4,669/sq\\xa0mi\\n\\n1,803/km2\\n\\n26°14′N 80°08′W\\ufeff / \\ufeff26.24°N 80.13°W\\ufeff / 26.24; -80.13\\ufeff (Pompano Beach)\\n\\n\\n271\\n\\nBeaumont\\n\\nTexas\\n\\n112,089\\n\\n115,282\\n\\n−2.77%\\n\\n82.5\\xa0sq\\xa0mi\\n\\n213.7\\xa0km2\\n\\n1,397/sq\\xa0mi\\n\\n539/km2\\n\\n30°05′N 94°09′W\\ufeff / \\ufeff30.08°N 94.15°W\\ufeff / 30.08; -94.15\\ufeff (Beaumont)\\n\\n\\n272\\n\\nTemecula\\n\\nCalifornia\\n\\n111,752\\n\\n110,003\\n\\n+1.59%\\n\\n37.3\\xa0sq\\xa0mi\\n\\n96.6\\xa0km2\\n\\n2,949/sq\\xa0mi\\n\\n1,139/km2\\n\\n33°29′N 117°08′W\\ufeff / \\ufeff33.49°N 117.13°W\\ufeff / 33.49; -117.13\\ufeff (Temecula)\\n\\n\\n273\\n\\nGresham\\n\\nOregon\\n\\n111,621\\n\\n114,247\\n\\n−2.30%\\n\\n23.5\\xa0sq\\xa0mi\\n\\n60.9\\xa0km2\\n\\n4,862/sq\\xa0mi\\n\\n1,877/km2\\n\\n45°30′N 122°26′W\\ufeff / \\ufeff45.50°N 122.44°W\\ufeff / 45.50; -122.44\\ufeff (Gresham)\\n\\n\\n274\\n\\nAllen\\n\\nTexas\\n\\n111,551\\n\\n104,627\\n\\n+6.62%\\n\\n26.4\\xa0sq\\xa0mi\\n\\n68.4\\xa0km2\\n\\n3,963/sq\\xa0mi\\n\\n1,530/km2\\n\\n33°07′N 96°40′W\\ufeff / \\ufeff33.11°N 96.67°W\\ufeff / 33.11; -96.67\\ufeff (Allen)\\n\\n\\n275\\n\\nPueblo\\n\\nColorado\\n\\n111,456\\n\\n111,876\\n\\n−0.38%\\n\\n55.4\\xa0sq\\xa0mi\\n\\n143.5\\xa0km2\\n\\n2,019/sq\\xa0mi\\n\\n780/km2\\n\\n38°16′N 104°37′W\\ufeff / \\ufeff38.27°N 104.61°W\\ufeff / 38.27; -104.61\\ufeff (Pueblo)\\n\\n\\n276\\n\\nEverett\\n\\nWashington\\n\\n111,337\\n\\n110,629\\n\\n+0.64%\\n\\n33.2\\xa0sq\\xa0mi\\n\\n86.0\\xa0km2\\n\\n3,332/sq\\xa0mi\\n\\n1,286/km2\\n\\n47°57′N 122°11′W\\ufeff / \\ufeff47.95°N 122.19°W\\ufeff / 47.95; -122.19\\ufeff (Everett)\\n\\n\\n277\\n\\nSouth Fulton\\n\\nGeorgia\\n\\n111,158\\n\\n107,436\\n\\n+3.46%\\n\\n85.2\\xa0sq\\xa0mi\\n\\n220.7\\xa0km2\\n\\n1,261/sq\\xa0mi\\n\\n487/km2\\n\\n33°40′N 84°34′W\\ufeff / \\ufeff33.66°N 84.57°W\\ufeff / 33.66; -84.57\\ufeff (South Fulton)\\n\\n\\n278\\n\\nPeoria\\n\\nIllinois\\n\\n111,021\\n\\n113,150\\n\\n−1.88%\\n\\n48.0\\xa0sq\\xa0mi\\n\\n124.3\\xa0km2\\n\\n2,357/sq\\xa0mi\\n\\n910/km2\\n\\n40°45′N 89°37′W\\ufeff / \\ufeff40.75°N 89.62°W\\ufeff / 40.75; -89.62\\ufeff (Peoria)\\n\\n\\n279\\n\\nNampa\\n\\nIdaho\\n\\n110,951\\n\\n100,200\\n\\n+10.73%\\n\\n33.5\\xa0sq\\xa0mi\\n\\n86.8\\xa0km2\\n\\n2,991/sq\\xa0mi\\n\\n1,155/km2\\n\\n43°35′N 116°34′W\\ufeff / \\ufeff43.58°N 116.56°W\\ufeff / 43.58; -116.56\\ufeff (Nampa)\\n\\n\\n280\\n\\nTuscaloosa\\n\\nAlabama\\n\\n110,602\\n\\n99,600\\n\\n+11.05%\\n\\n61.9\\xa0sq\\xa0mi\\n\\n160.3\\xa0km2\\n\\n1,609/sq\\xa0mi\\n\\n621/km2\\n\\n33°14′N 87°32′W\\ufeff / \\ufeff33.23°N 87.53°W\\ufeff / 33.23; -87.53\\ufeff (Tuscaloosa)\\n\\n\\n281\\n\\nMiami Gardens\\n\\nFlorida\\n\\n110,497\\n\\n111,640\\n\\n−1.02%\\n\\n18.2\\xa0sq\\xa0mi\\n\\n47.1\\xa0km2\\n\\n6,134/sq\\xa0mi\\n\\n2,368/km2\\n\\n25°57′N 80°14′W\\ufeff / \\ufeff25.95°N 80.24°W\\ufeff / 25.95; -80.24\\ufeff (Miami Gardens)\\n\\n\\n282\\n\\nSanta Maria\\n\\nCalifornia\\n\\n110,125\\n\\n109,707\\n\\n+0.38%\\n\\n22.8\\xa0sq\\xa0mi\\n\\n59.1\\xa0km2\\n\\n4,812/sq\\xa0mi\\n\\n1,858/km2\\n\\n34°56′N 120°26′W\\ufeff / \\ufeff34.93°N 120.44°W\\ufeff / 34.93; -120.44\\ufeff (Santa Maria)\\n\\n\\n283\\n\\nDowney\\n\\nCalifornia\\n\\n109,934\\n\\n114,355\\n\\n−3.87%\\n\\n12.4\\xa0sq\\xa0mi\\n\\n32.1\\xa0km2\\n\\n9,222/sq\\xa0mi\\n\\n3,561/km2\\n\\n33°56′N 118°08′W\\ufeff / \\ufeff33.94°N 118.13°W\\ufeff / 33.94; -118.13\\ufeff (Downey)\\n\\n\\n284\\n\\nConcord\\n\\nNorth Carolina\\n\\n109,896\\n\\n105,240\\n\\n+4.42%\\n\\n63.5\\xa0sq\\xa0mi\\n\\n164.5\\xa0km2\\n\\n1,657/sq\\xa0mi\\n\\n640/km2\\n\\n35°23′N 80°38′W\\ufeff / \\ufeff35.39°N 80.64°W\\ufeff / 35.39; -80.64\\ufeff (Concord)\\n\\n\\n285\\n\\nVentura[aa]\\n\\nCalifornia\\n\\n109,527\\n\\n110,763\\n\\n−1.12%\\n\\n21.9\\xa0sq\\xa0mi\\n\\n56.7\\xa0km2\\n\\n5,058/sq\\xa0mi\\n\\n1,953/km2\\n\\n34°16′N 119°15′W\\ufeff / \\ufeff34.27°N 119.25°W\\ufeff / 34.27; -119.25\\ufeff (Ventura)\\n\\n\\n286\\n\\nCosta Mesa\\n\\nCalifornia\\n\\n109,521\\n\\n111,918\\n\\n−2.14%\\n\\n15.8\\xa0sq\\xa0mi\\n\\n40.9\\xa0km2\\n\\n7,083/sq\\xa0mi\\n\\n2,735/km2\\n\\n33°40′N 117°55′W\\ufeff / \\ufeff33.67°N 117.91°W\\ufeff / 33.67; -117.91\\ufeff (Costa Mesa)\\n\\n\\n287\\n\\nSugar Land\\n\\nTexas\\n\\n109,414\\n\\n111,026\\n\\n−1.45%\\n\\n40.5\\xa0sq\\xa0mi\\n\\n104.9\\xa0km2\\n\\n2,741/sq\\xa0mi\\n\\n1,058/km2\\n\\n29°35′N 95°38′W\\ufeff / \\ufeff29.59°N 95.63°W\\ufeff / 29.59; -95.63\\ufeff (Sugar Land)\\n\\n\\n288\\n\\nMenifee\\n\\nCalifornia\\n\\n109,399\\n\\n102,527\\n\\n+6.70%\\n\\n46.5\\xa0sq\\xa0mi\\n\\n120.4\\xa0km2\\n\\n2,205/sq\\xa0mi\\n\\n851/km2\\n\\n33°41′N 117°11′W\\ufeff / \\ufeff33.69°N 117.18°W\\ufeff / 33.69; -117.18\\ufeff (Menifee)\\n\\n\\n289\\n\\nTyler\\n\\nTexas\\n\\n109,286\\n\\n105,995\\n\\n+3.10%\\n\\n57.5\\xa0sq\\xa0mi\\n\\n148.9\\xa0km2\\n\\n1,843/sq\\xa0mi\\n\\n712/km2\\n\\n32°19′N 95°19′W\\ufeff / \\ufeff32.32°N 95.31°W\\ufeff / 32.32; -95.31\\ufeff (Tyler)\\n\\n\\n290\\n\\nSparks\\n\\nNevada\\n\\n109,226\\n\\n108,445\\n\\n+0.72%\\n\\n36.4\\xa0sq\\xa0mi\\n\\n94.3\\xa0km2\\n\\n2,979/sq\\xa0mi\\n\\n1,150/km2\\n\\n39°34′N 119°43′W\\ufeff / \\ufeff39.57°N 119.72°W\\ufeff / 39.57; -119.72\\ufeff (Sparks)\\n\\n\\n291\\n\\nGreeley\\n\\nColorado\\n\\n109,209\\n\\n108,795\\n\\n+0.38%\\n\\n48.9\\xa0sq\\xa0mi\\n\\n126.7\\xa0km2\\n\\n2,225/sq\\xa0mi\\n\\n859/km2\\n\\n40°25′N 104°46′W\\ufeff / \\ufeff40.41°N 104.77°W\\ufeff / 40.41; -104.77\\ufeff (Greeley)\\n\\n\\n292\\n\\nRio Rancho\\n\\nNew Mexico\\n\\n108,082\\n\\n104,046\\n\\n+3.88%\\n\\n103.4\\xa0sq\\xa0mi\\n\\n267.8\\xa0km2\\n\\n1,006/sq\\xa0mi\\n\\n388/km2\\n\\n35°17′N 106°42′W\\ufeff / \\ufeff35.29°N 106.70°W\\ufeff / 35.29; -106.70\\ufeff (Rio Rancho)\\n\\n\\n293\\n\\nSandy Springs\\n\\nGeorgia\\n\\n107,763\\n\\n108,080\\n\\n−0.29%\\n\\n37.7\\xa0sq\\xa0mi\\n\\n97.6\\xa0km2\\n\\n2,867/sq\\xa0mi\\n\\n1,107/km2\\n\\n33°56′N 84°22′W\\ufeff / \\ufeff33.93°N 84.37°W\\ufeff / 33.93; -84.37\\ufeff (Sandy Springs)\\n\\n\\n294\\n\\nDearborn\\n\\nMichigan\\n\\n107,710\\n\\n109,976\\n\\n−2.06%\\n\\n24.2\\xa0sq\\xa0mi\\n\\n62.7\\xa0km2\\n\\n4,544/sq\\xa0mi\\n\\n1,754/km2\\n\\n42°19′N 83°13′W\\ufeff / \\ufeff42.31°N 83.21°W\\ufeff / 42.31; -83.21\\ufeff (Dearborn)\\n\\n\\n295\\n\\nJurupa Valley\\n\\nCalifornia\\n\\n107,609\\n\\n105,053\\n\\n+2.43%\\n\\n42.9\\xa0sq\\xa0mi\\n\\n111.1\\xa0km2\\n\\n2,449/sq\\xa0mi\\n\\n946/km2\\n\\n34°00′N 117°28′W\\ufeff / \\ufeff34.00°N 117.47°W\\ufeff / 34.00; -117.47\\ufeff (Jurupa Valley)\\n\\n\\n296\\n\\nEdison\\n\\nNew Jersey\\n\\n107,361\\n\\n107,588\\n\\n−0.21%\\n\\n30.1\\xa0sq\\xa0mi\\n\\n78.0\\xa0km2\\n\\n3,574/sq\\xa0mi\\n\\n1,380/km2\\n\\n40°30′N 74°21′W\\ufeff / \\ufeff40.50°N 74.35°W\\ufeff / 40.50; -74.35\\ufeff (Edison)\\n\\n\\n297\\n\\nSpokane Valley\\n\\nWashington\\n\\n107,325\\n\\n102,976\\n\\n+4.22%\\n\\n37.7\\xa0sq\\xa0mi\\n\\n97.6\\xa0km2\\n\\n2,731/sq\\xa0mi\\n\\n1,054/km2\\n\\n47°40′N 117°14′W\\ufeff / \\ufeff47.66°N 117.23°W\\ufeff / 47.66; -117.23\\ufeff (Spokane Valley)\\n\\n\\n298\\n\\nHillsboro\\n\\nOregon\\n\\n107,299\\n\\n106,447\\n\\n+0.80%\\n\\n25.7\\xa0sq\\xa0mi\\n\\n66.6\\xa0km2\\n\\n4,142/sq\\xa0mi\\n\\n1,599/km2\\n\\n45°32′N 122°56′W\\ufeff / \\ufeff45.53°N 122.94°W\\ufeff / 45.53; -122.94\\ufeff (Hillsboro)\\n\\n\\n299\\n\\nDavie\\n\\nFlorida\\n\\n106,513\\n\\n105,691\\n\\n+0.78%\\n\\n34.9\\xa0sq\\xa0mi\\n\\n90.4\\xa0km2\\n\\n3,028/sq\\xa0mi\\n\\n1,169/km2\\n\\n26°05′N 80°17′W\\ufeff / \\ufeff26.08°N 80.28°W\\ufeff / 26.08; -80.28\\ufeff (Davie)\\n\\n\\n300\\n\\nGreen Bay\\n\\nWisconsin\\n\\n106,095\\n\\n107,395\\n\\n−1.21%\\n\\n45.5\\xa0sq\\xa0mi\\n\\n117.8\\xa0km2\\n\\n2,360/sq\\xa0mi\\n\\n910/km2\\n\\n44°31′N 87°59′W\\ufeff / \\ufeff44.52°N 87.99°W\\ufeff / 44.52; -87.99\\ufeff (Green Bay)\\n\\n\\n301\\n\\nCentennial\\n\\nColorado\\n\\n105,865\\n\\n108,418\\n\\n−2.35%\\n\\n29.7\\xa0sq\\xa0mi\\n\\n76.9\\xa0km2\\n\\n3,650/sq\\xa0mi\\n\\n1,410/km2\\n\\n39°35′N 104°52′W\\ufeff / \\ufeff39.59°N 104.87°W\\ufeff / 39.59; -104.87\\ufeff (Centennial)\\n\\n\\n302\\n\\nBuckeye\\n\\nArizona\\n\\n105,567\\n\\n91,502\\n\\n+15.37%\\n\\n393.0\\xa0sq\\xa0mi\\n\\n1,017.9\\xa0km2\\n\\n233/sq\\xa0mi\\n\\n90/km2\\n\\n33°26′N 112°38′W\\ufeff / \\ufeff33.43°N 112.64°W\\ufeff / 33.43; -112.64\\ufeff (Buckeye)\\n\\n\\n303\\n\\nBoulder\\n\\nColorado\\n\\n105,485\\n\\n108,250\\n\\n−2.55%\\n\\n26.3\\xa0sq\\xa0mi\\n\\n68.1\\xa0km2\\n\\n4,116/sq\\xa0mi\\n\\n1,589/km2\\n\\n40°01′N 105°15′W\\ufeff / \\ufeff40.02°N 105.25°W\\ufeff / 40.02; -105.25\\ufeff (Boulder)\\n\\n\\n304\\n\\nGoodyear\\n\\nArizona\\n\\n105,406\\n\\n95,294\\n\\n+10.61%\\n\\n191.3\\xa0sq\\xa0mi\\n\\n495.5\\xa0km2\\n\\n498/sq\\xa0mi\\n\\n192/km2\\n\\n33°15′N 112°22′W\\ufeff / \\ufeff33.25°N 112.37°W\\ufeff / 33.25; -112.37\\ufeff (Goodyear)\\n\\n\\n305\\n\\nEl Monte\\n\\nCalifornia\\n\\n105,312\\n\\n109,450\\n\\n−3.78%\\n\\n9.6\\xa0sq\\xa0mi\\n\\n24.9\\xa0km2\\n\\n11,401/sq\\xa0mi\\n\\n4,402/km2\\n\\n34°04′N 118°02′W\\ufeff / \\ufeff34.07°N 118.03°W\\ufeff / 34.07; -118.03\\ufeff (El Monte)\\n\\n\\n306\\n\\nWest Covina\\n\\nCalifornia\\n\\n105,013\\n\\n109,501\\n\\n−4.10%\\n\\n16.0\\xa0sq\\xa0mi\\n\\n41.4\\xa0km2\\n\\n6,844/sq\\xa0mi\\n\\n2,642/km2\\n\\n34°04′N 117°55′W\\ufeff / \\ufeff34.06°N 117.91°W\\ufeff / 34.06; -117.91\\ufeff (West Covina)\\n\\n\\n307\\n\\nBrockton\\n\\nMassachusetts\\n\\n104,826\\n\\n105,643\\n\\n−0.77%\\n\\n21.3\\xa0sq\\xa0mi\\n\\n55.2\\xa0km2\\n\\n4,960/sq\\xa0mi\\n\\n1,920/km2\\n\\n42°05′N 71°01′W\\ufeff / \\ufeff42.08°N 71.02°W\\ufeff / 42.08; -71.02\\ufeff (Brockton)\\n\\n\\n308\\n\\nNew Braunfels\\n\\nTexas\\n\\n104,707\\n\\n90,403\\n\\n+15.82%\\n\\n45.2\\xa0sq\\xa0mi\\n\\n117.1\\xa0km2\\n\\n2,000/sq\\xa0mi\\n\\n770/km2\\n\\n29°42′N 98°07′W\\ufeff / \\ufeff29.70°N 98.12°W\\ufeff / 29.70; -98.12\\ufeff (New Braunfels)\\n\\n\\n309\\n\\nEl Cajon\\n\\nCalifornia\\n\\n104,414\\n\\n106,215\\n\\n−1.70%\\n\\n14.5\\xa0sq\\xa0mi\\n\\n37.6\\xa0km2\\n\\n7,325/sq\\xa0mi\\n\\n2,828/km2\\n\\n32°48′N 116°58′W\\ufeff / \\ufeff32.80°N 116.96°W\\ufeff / 32.80; -116.96\\ufeff (El Cajon)\\n\\n\\n310\\n\\nEdinburg\\n\\nTexas\\n\\n104,294\\n\\n100,243\\n\\n+4.04%\\n\\n44.7\\xa0sq\\xa0mi\\n\\n115.8\\xa0km2\\n\\n2,243/sq\\xa0mi\\n\\n866/km2\\n\\n26°19′N 98°10′W\\ufeff / \\ufeff26.32°N 98.16°W\\ufeff / 26.32; -98.16\\ufeff (Edinburg)\\n\\n\\n311\\n\\nRenton\\n\\nWashington\\n\\n104,047\\n\\n106,785\\n\\n−2.56%\\n\\n23.5\\xa0sq\\xa0mi\\n\\n60.9\\xa0km2\\n\\n4,544/sq\\xa0mi\\n\\n1,754/km2\\n\\n47°29′N 122°11′W\\ufeff / \\ufeff47.48°N 122.19°W\\ufeff / 47.48; -122.19\\ufeff (Renton)\\n\\n\\n312\\n\\nBurbank\\n\\nCalifornia\\n\\n103,920\\n\\n107,337\\n\\n−3.18%\\n\\n17.3\\xa0sq\\xa0mi\\n\\n44.8\\xa0km2\\n\\n6,204/sq\\xa0mi\\n\\n2,395/km2\\n\\n34°11′N 118°20′W\\ufeff / \\ufeff34.19°N 118.33°W\\ufeff / 34.19; -118.33\\ufeff (Burbank)\\n\\n\\n313\\n\\nInglewood\\n\\nCalifornia\\n\\n103,621\\n\\n107,762\\n\\n−3.84%\\n\\n9.1\\xa0sq\\xa0mi\\n\\n23.6\\xa0km2\\n\\n11,842/sq\\xa0mi\\n\\n4,572/km2\\n\\n33°58′N 118°20′W\\ufeff / \\ufeff33.96°N 118.34°W\\ufeff / 33.96; -118.34\\ufeff (Inglewood)\\n\\n\\n314\\n\\nRialto\\n\\nCalifornia\\n\\n103,545\\n\\n104,026\\n\\n−0.46%\\n\\n24.1\\xa0sq\\xa0mi\\n\\n62.4\\xa0km2\\n\\n4,316/sq\\xa0mi\\n\\n1,666/km2\\n\\n34°07′N 117°23′W\\ufeff / \\ufeff34.12°N 117.39°W\\ufeff / 34.12; -117.39\\ufeff (Rialto)\\n\\n\\n315\\n\\nLee's Summit\\n\\nMissouri\\n\\n103,465\\n\\n101,108\\n\\n+2.33%\\n\\n63.9\\xa0sq\\xa0mi\\n\\n165.5\\xa0km2\\n\\n1,582/sq\\xa0mi\\n\\n611/km2\\n\\n38°55′N 94°23′W\\ufeff / \\ufeff38.92°N 94.38°W\\ufeff / 38.92; -94.38\\ufeff (Lee's Summit)\\n\\n\\n316\\n\\nBend\\n\\nOregon\\n\\n103,254\\n\\n99,178\\n\\n+4.11%\\n\\n33.6\\xa0sq\\xa0mi\\n\\n87.0\\xa0km2\\n\\n2,952/sq\\xa0mi\\n\\n1,140/km2\\n\\n44°04′N 121°19′W\\ufeff / \\ufeff44.06°N 121.31°W\\ufeff / 44.06; -121.31\\ufeff (Bend)\\n\\n\\n317\\n\\nWoodbridge\\n\\nNew Jersey\\n\\n103,229\\n\\n103,639\\n\\n−0.40%\\n\\n23.3\\xa0sq\\xa0mi\\n\\n60.3\\xa0km2\\n\\n4,448/sq\\xa0mi\\n\\n1,717/km2\\n\\n40°34′N 74°17′W\\ufeff / \\ufeff40.56°N 74.29°W\\ufeff / 40.56; -74.29\\ufeff (Woodbridge)\\n\\n\\n318\\n\\nSouth Bend\\n\\nIndiana\\n\\n103,110\\n\\n103,453\\n\\n−0.33%\\n\\n42.0\\xa0sq\\xa0mi\\n\\n108.8\\xa0km2\\n\\n2,463/sq\\xa0mi\\n\\n951/km2\\n\\n41°41′N 86°16′W\\ufeff / \\ufeff41.68°N 86.27°W\\ufeff / 41.68; -86.27\\ufeff (South Bend)\\n\\n\\n319\\n\\nWichita Falls\\n\\nTexas\\n\\n102,664\\n\\n102,316\\n\\n+0.34%\\n\\n72.0\\xa0sq\\xa0mi\\n\\n186.5\\xa0km2\\n\\n1,421/sq\\xa0mi\\n\\n549/km2\\n\\n33°55′N 98°32′W\\ufeff / \\ufeff33.91°N 98.53°W\\ufeff / 33.91; -98.53\\ufeff (Wichita Falls)\\n\\n\\n320\\n\\nSt. George\\n\\nUtah\\n\\n102,519\\n\\n95,342\\n\\n+7.53%\\n\\n78.5\\xa0sq\\xa0mi\\n\\n203.3\\xa0km2\\n\\n1,215/sq\\xa0mi\\n\\n469/km2\\n\\n37°05′N 113°34′W\\ufeff / \\ufeff37.08°N 113.56°W\\ufeff / 37.08; -113.56\\ufeff (St. George)\\n\\n\\n321\\n\\nFishers\\n\\nIndiana\\n\\n101,966\\n\\n98,977\\n\\n+3.02%\\n\\n35.6\\xa0sq\\xa0mi\\n\\n92.2\\xa0km2\\n\\n2,780/sq\\xa0mi\\n\\n1,070/km2\\n\\n39°58′N 85°58′W\\ufeff / \\ufeff39.96°N 85.97°W\\ufeff / 39.96; -85.97\\ufeff (Fishers)\\n\\n\\n322\\n\\nCarmel\\n\\nIndiana\\n\\n101,964\\n\\n99,757\\n\\n+2.21%\\n\\n49.1\\xa0sq\\xa0mi\\n\\n127.2\\xa0km2\\n\\n2,032/sq\\xa0mi\\n\\n785/km2\\n\\n39°58′N 86°09′W\\ufeff / \\ufeff39.97°N 86.15°W\\ufeff / 39.97; -86.15\\ufeff (Carmel)\\n\\n\\n323\\n\\nVacaville\\n\\nCalifornia\\n\\n101,918\\n\\n102,386\\n\\n−0.46%\\n\\n29.9\\xa0sq\\xa0mi\\n\\n77.4\\xa0km2\\n\\n3,424/sq\\xa0mi\\n\\n1,322/km2\\n\\n38°22′N 121°58′W\\ufeff / \\ufeff38.36°N 121.97°W\\ufeff / 38.36; -121.97\\ufeff (Vacaville)\\n\\n\\n324\\n\\nQuincy\\n\\nMassachusetts\\n\\n101,727\\n\\n101,636\\n\\n+0.09%\\n\\n16.6\\xa0sq\\xa0mi\\n\\n43.0\\xa0km2\\n\\n6,123/sq\\xa0mi\\n\\n2,364/km2\\n\\n42°16′N 71°01′W\\ufeff / \\ufeff42.26°N 71.01°W\\ufeff / 42.26; -71.01\\ufeff (Quincy)\\n\\n\\n325\\n\\nConroe\\n\\nTexas\\n\\n101,405\\n\\n89,956\\n\\n+12.73%\\n\\n72.0\\xa0sq\\xa0mi\\n\\n186.5\\xa0km2\\n\\n1,249/sq\\xa0mi\\n\\n482/km2\\n\\n30°19′N 95°29′W\\ufeff / \\ufeff30.32°N 95.49°W\\ufeff / 30.32; -95.49\\ufeff (Conroe)\\n\\n\\n326\\n\\nChico\\n\\nCalifornia\\n\\n101,299\\n\\n101,475\\n\\n−0.17%\\n\\n34.1\\xa0sq\\xa0mi\\n\\n88.3\\xa0km2\\n\\n2,976/sq\\xa0mi\\n\\n1,149/km2\\n\\n39°46′N 121°49′W\\ufeff / \\ufeff39.76°N 121.82°W\\ufeff / 39.76; -121.82\\ufeff (Chico)\\n\\n\\n327\\n\\nSan Mateo\\n\\nCalifornia\\n\\n100,984\\n\\n105,661\\n\\n−4.43%\\n\\n12.1\\xa0sq\\xa0mi\\n\\n31.3\\xa0km2\\n\\n8,732/sq\\xa0mi\\n\\n3,371/km2\\n\\n37°34′N 122°19′W\\ufeff / \\ufeff37.56°N 122.31°W\\ufeff / 37.56; -122.31\\ufeff (San Mateo)\\n\\n\\n328\\n\\nLynn\\n\\nMassachusetts\\n\\n100,891\\n\\n101,253\\n\\n−0.36%\\n\\n10.7\\xa0sq\\xa0mi\\n\\n27.7\\xa0km2\\n\\n9,463/sq\\xa0mi\\n\\n3,654/km2\\n\\n42°28′N 70°58′W\\ufeff / \\ufeff42.47°N 70.96°W\\ufeff / 42.47; -70.96\\ufeff (Lynn)\\n\\n\\n329\\n\\nAlbany\\n\\nNew York\\n\\n100,826\\n\\n99,224\\n\\n+1.61%\\n\\n21.4\\xa0sq\\xa0mi\\n\\n55.4\\xa0km2\\n\\n4,637/sq\\xa0mi\\n\\n1,790/km2\\n\\n42°40′N 73°48′W\\ufeff / \\ufeff42.67°N 73.80°W\\ufeff / 42.67; -73.80\\ufeff (Albany)\\n\\n\\n330\\n\\nHesperia\\n\\nCalifornia\\n\\n100,744\\n\\n99,818\\n\\n+0.93%\\n\\n72.7\\xa0sq\\xa0mi\\n\\n188.3\\xa0km2\\n\\n1,373/sq\\xa0mi\\n\\n530/km2\\n\\n34°24′N 117°19′W\\ufeff / \\ufeff34.40°N 117.32°W\\ufeff / 34.40; -117.32\\ufeff (Hesperia)\\n\\n\\n331\\n\\nNew Bedford\\n\\nMassachusetts\\n\\n100,682\\n\\n101,079\\n\\n−0.39%\\n\\n20.0\\xa0sq\\xa0mi\\n\\n51.8\\xa0km2\\n\\n5,054/sq\\xa0mi\\n\\n1,951/km2\\n\\n41°40′N 70°56′W\\ufeff / \\ufeff41.66°N 70.94°W\\ufeff / 41.66; -70.94\\ufeff (New Bedford)\\n\\n\\n332\\n\\nDavenport\\n\\nIowa\\n\\n100,486\\n\\n101,724\\n\\n−1.22%\\n\\n63.8\\xa0sq\\xa0mi\\n\\n165.2\\xa0km2\\n\\n1,594/sq\\xa0mi\\n\\n615/km2\\n\\n41°34′N 90°36′W\\ufeff / \\ufeff41.56°N 90.60°W\\ufeff / 41.56; -90.60\\ufeff (Davenport)\\n\\n\\n333\\n\\nDaly City\\n\\nCalifornia\\n\\n100,007\\n\\n104,901\\n\\n−4.67%\\n\\n7.6\\xa0sq\\xa0mi\\n\\n19.7\\xa0km2\\n\\n13,803/sq\\xa0mi\\n\\n5,329/km2\\n\\n37°41′N 122°28′W\\ufeff / \\ufeff37.69°N 122.47°W\\ufeff / 37.69; -122.47\\ufeff (Daly City)\\n\"]\n"
          ]
        }
      ]
    },
    {
      "cell_type": "markdown",
      "source": [
        "Put data into dataframe\n",
        "*   Define the column names in a new list containing all column names from the table. Rename them as necessary or relevant for data interpretation.\n",
        "*   Create an empty list for final data.\n",
        "*   Find data for columns by looking through the webpage's html and appropriate html tag, which contains all the data for columns.\n",
        "*   For each row, read through the data and strip data and append to that row's data\n",
        "*   Create a Pandas dataframe for the final data and set column names to previously defined list of column names\n",
        "*   Show dataframe"
      ],
      "metadata": {
        "id": "RP4EJUeyZuSC"
      }
    },
    {
      "cell_type": "code",
      "source": [
        "column_names = [\"City\",\n",
        "           \"State\", \"2022 Estimate\",\n",
        "           \"2020 Census\",\"Percent Change\",\n",
        "           \"2020 land area in sq mi\", \"2020 land area in sq km\", \"2020 population density per sq mi\",\n",
        "           \"2020 population density per sq km\",\"Location\"]\n",
        "final_data = []\n",
        "\n",
        "column_data = table.find_all(\"tr\")\n",
        "\n",
        "for row in column_data:\n",
        "  row_data = row.find_all('td')\n",
        "  individual_row_data = [data.text.strip() for data in row_data]\n",
        "  final_data.append(individual_row_data)\n",
        "\n",
        "final_data = pd.DataFrame(final_data)\n",
        "final_data.columns = column_names\n",
        "final_data"
      ],
      "metadata": {
        "colab": {
          "base_uri": "https://localhost:8080/",
          "height": 1000
        },
        "id": "b1hbBNOl8fnh",
        "outputId": "6420bcc0-51e6-4e6c-b0c9-ac2e0212a5da"
      },
      "execution_count": null,
      "outputs": [
        {
          "output_type": "execute_result",
          "data": {
            "text/plain": [
              "            City          State 2022 Estimate 2020 Census Percent Change  \\\n",
              "0           None           None          None        None           None   \n",
              "1    New York[d]       New York     8,335,897   8,804,190         −5.32%   \n",
              "2    Los Angeles     California     3,822,238   3,898,747         −1.96%   \n",
              "3        Chicago       Illinois     2,665,039   2,746,388         −2.96%   \n",
              "4        Houston          Texas     2,302,878   2,304,580         −0.07%   \n",
              "..           ...            ...           ...         ...            ...   \n",
              "329       Albany       New York       100,826      99,224         +1.61%   \n",
              "330     Hesperia     California       100,744      99,818         +0.93%   \n",
              "331  New Bedford  Massachusetts       100,682     101,079         −0.39%   \n",
              "332    Davenport           Iowa       100,486     101,724         −1.22%   \n",
              "333    Daly City     California       100,007     104,901         −4.67%   \n",
              "\n",
              "    2020 land area in sq mi 2020 land area in sq km  \\\n",
              "0                      None                    None   \n",
              "1               300.5 sq mi               778.3 km2   \n",
              "2               469.5 sq mi             1,216.0 km2   \n",
              "3               227.7 sq mi               589.7 km2   \n",
              "4               640.4 sq mi             1,658.6 km2   \n",
              "..                      ...                     ...   \n",
              "329              21.4 sq mi                55.4 km2   \n",
              "330              72.7 sq mi               188.3 km2   \n",
              "331              20.0 sq mi                51.8 km2   \n",
              "332              63.8 sq mi               165.2 km2   \n",
              "333               7.6 sq mi                19.7 km2   \n",
              "\n",
              "    2020 population density per sq mi 2020 population density per sq km  \\\n",
              "0                                None                              None   \n",
              "1                        29,298/sq mi                        11,312/km2   \n",
              "2                         8,304/sq mi                         3,206/km2   \n",
              "3                        12,061/sq mi                         4,657/km2   \n",
              "4                         3,599/sq mi                         1,390/km2   \n",
              "..                                ...                               ...   \n",
              "329                       4,637/sq mi                         1,790/km2   \n",
              "330                       1,373/sq mi                           530/km2   \n",
              "331                       5,054/sq mi                         1,951/km2   \n",
              "332                       1,594/sq mi                           615/km2   \n",
              "333                      13,803/sq mi                         5,329/km2   \n",
              "\n",
              "                                              Location  \n",
              "0                                                 None  \n",
              "1    40°40′N 73°56′W﻿ / ﻿40.66°N 73.94°W﻿ / 40.66; ...  \n",
              "2    34°01′N 118°25′W﻿ / ﻿34.02°N 118.41°W﻿ / 34.02...  \n",
              "3    41°50′N 87°41′W﻿ / ﻿41.84°N 87.68°W﻿ / 41.84; ...  \n",
              "4    29°47′N 95°23′W﻿ / ﻿29.79°N 95.39°W﻿ / 29.79; ...  \n",
              "..                                                 ...  \n",
              "329  42°40′N 73°48′W﻿ / ﻿42.67°N 73.80°W﻿ / 42.67; ...  \n",
              "330  34°24′N 117°19′W﻿ / ﻿34.40°N 117.32°W﻿ / 34.40...  \n",
              "331  41°40′N 70°56′W﻿ / ﻿41.66°N 70.94°W﻿ / 41.66; ...  \n",
              "332  41°34′N 90°36′W﻿ / ﻿41.56°N 90.60°W﻿ / 41.56; ...  \n",
              "333  37°41′N 122°28′W﻿ / ﻿37.69°N 122.47°W﻿ / 37.69...  \n",
              "\n",
              "[334 rows x 10 columns]"
            ],
            "text/html": [
              "\n",
              "  <div id=\"df-c86ca809-e72f-4bd5-bd06-c71f488f6b55\" class=\"colab-df-container\">\n",
              "    <div>\n",
              "<style scoped>\n",
              "    .dataframe tbody tr th:only-of-type {\n",
              "        vertical-align: middle;\n",
              "    }\n",
              "\n",
              "    .dataframe tbody tr th {\n",
              "        vertical-align: top;\n",
              "    }\n",
              "\n",
              "    .dataframe thead th {\n",
              "        text-align: right;\n",
              "    }\n",
              "</style>\n",
              "<table border=\"1\" class=\"dataframe\">\n",
              "  <thead>\n",
              "    <tr style=\"text-align: right;\">\n",
              "      <th></th>\n",
              "      <th>City</th>\n",
              "      <th>State</th>\n",
              "      <th>2022 Estimate</th>\n",
              "      <th>2020 Census</th>\n",
              "      <th>Percent Change</th>\n",
              "      <th>2020 land area in sq mi</th>\n",
              "      <th>2020 land area in sq km</th>\n",
              "      <th>2020 population density per sq mi</th>\n",
              "      <th>2020 population density per sq km</th>\n",
              "      <th>Location</th>\n",
              "    </tr>\n",
              "  </thead>\n",
              "  <tbody>\n",
              "    <tr>\n",
              "      <th>0</th>\n",
              "      <td>None</td>\n",
              "      <td>None</td>\n",
              "      <td>None</td>\n",
              "      <td>None</td>\n",
              "      <td>None</td>\n",
              "      <td>None</td>\n",
              "      <td>None</td>\n",
              "      <td>None</td>\n",
              "      <td>None</td>\n",
              "      <td>None</td>\n",
              "    </tr>\n",
              "    <tr>\n",
              "      <th>1</th>\n",
              "      <td>New York[d]</td>\n",
              "      <td>New York</td>\n",
              "      <td>8,335,897</td>\n",
              "      <td>8,804,190</td>\n",
              "      <td>−5.32%</td>\n",
              "      <td>300.5 sq mi</td>\n",
              "      <td>778.3 km2</td>\n",
              "      <td>29,298/sq mi</td>\n",
              "      <td>11,312/km2</td>\n",
              "      <td>40°40′N 73°56′W﻿ / ﻿40.66°N 73.94°W﻿ / 40.66; ...</td>\n",
              "    </tr>\n",
              "    <tr>\n",
              "      <th>2</th>\n",
              "      <td>Los Angeles</td>\n",
              "      <td>California</td>\n",
              "      <td>3,822,238</td>\n",
              "      <td>3,898,747</td>\n",
              "      <td>−1.96%</td>\n",
              "      <td>469.5 sq mi</td>\n",
              "      <td>1,216.0 km2</td>\n",
              "      <td>8,304/sq mi</td>\n",
              "      <td>3,206/km2</td>\n",
              "      <td>34°01′N 118°25′W﻿ / ﻿34.02°N 118.41°W﻿ / 34.02...</td>\n",
              "    </tr>\n",
              "    <tr>\n",
              "      <th>3</th>\n",
              "      <td>Chicago</td>\n",
              "      <td>Illinois</td>\n",
              "      <td>2,665,039</td>\n",
              "      <td>2,746,388</td>\n",
              "      <td>−2.96%</td>\n",
              "      <td>227.7 sq mi</td>\n",
              "      <td>589.7 km2</td>\n",
              "      <td>12,061/sq mi</td>\n",
              "      <td>4,657/km2</td>\n",
              "      <td>41°50′N 87°41′W﻿ / ﻿41.84°N 87.68°W﻿ / 41.84; ...</td>\n",
              "    </tr>\n",
              "    <tr>\n",
              "      <th>4</th>\n",
              "      <td>Houston</td>\n",
              "      <td>Texas</td>\n",
              "      <td>2,302,878</td>\n",
              "      <td>2,304,580</td>\n",
              "      <td>−0.07%</td>\n",
              "      <td>640.4 sq mi</td>\n",
              "      <td>1,658.6 km2</td>\n",
              "      <td>3,599/sq mi</td>\n",
              "      <td>1,390/km2</td>\n",
              "      <td>29°47′N 95°23′W﻿ / ﻿29.79°N 95.39°W﻿ / 29.79; ...</td>\n",
              "    </tr>\n",
              "    <tr>\n",
              "      <th>...</th>\n",
              "      <td>...</td>\n",
              "      <td>...</td>\n",
              "      <td>...</td>\n",
              "      <td>...</td>\n",
              "      <td>...</td>\n",
              "      <td>...</td>\n",
              "      <td>...</td>\n",
              "      <td>...</td>\n",
              "      <td>...</td>\n",
              "      <td>...</td>\n",
              "    </tr>\n",
              "    <tr>\n",
              "      <th>329</th>\n",
              "      <td>Albany</td>\n",
              "      <td>New York</td>\n",
              "      <td>100,826</td>\n",
              "      <td>99,224</td>\n",
              "      <td>+1.61%</td>\n",
              "      <td>21.4 sq mi</td>\n",
              "      <td>55.4 km2</td>\n",
              "      <td>4,637/sq mi</td>\n",
              "      <td>1,790/km2</td>\n",
              "      <td>42°40′N 73°48′W﻿ / ﻿42.67°N 73.80°W﻿ / 42.67; ...</td>\n",
              "    </tr>\n",
              "    <tr>\n",
              "      <th>330</th>\n",
              "      <td>Hesperia</td>\n",
              "      <td>California</td>\n",
              "      <td>100,744</td>\n",
              "      <td>99,818</td>\n",
              "      <td>+0.93%</td>\n",
              "      <td>72.7 sq mi</td>\n",
              "      <td>188.3 km2</td>\n",
              "      <td>1,373/sq mi</td>\n",
              "      <td>530/km2</td>\n",
              "      <td>34°24′N 117°19′W﻿ / ﻿34.40°N 117.32°W﻿ / 34.40...</td>\n",
              "    </tr>\n",
              "    <tr>\n",
              "      <th>331</th>\n",
              "      <td>New Bedford</td>\n",
              "      <td>Massachusetts</td>\n",
              "      <td>100,682</td>\n",
              "      <td>101,079</td>\n",
              "      <td>−0.39%</td>\n",
              "      <td>20.0 sq mi</td>\n",
              "      <td>51.8 km2</td>\n",
              "      <td>5,054/sq mi</td>\n",
              "      <td>1,951/km2</td>\n",
              "      <td>41°40′N 70°56′W﻿ / ﻿41.66°N 70.94°W﻿ / 41.66; ...</td>\n",
              "    </tr>\n",
              "    <tr>\n",
              "      <th>332</th>\n",
              "      <td>Davenport</td>\n",
              "      <td>Iowa</td>\n",
              "      <td>100,486</td>\n",
              "      <td>101,724</td>\n",
              "      <td>−1.22%</td>\n",
              "      <td>63.8 sq mi</td>\n",
              "      <td>165.2 km2</td>\n",
              "      <td>1,594/sq mi</td>\n",
              "      <td>615/km2</td>\n",
              "      <td>41°34′N 90°36′W﻿ / ﻿41.56°N 90.60°W﻿ / 41.56; ...</td>\n",
              "    </tr>\n",
              "    <tr>\n",
              "      <th>333</th>\n",
              "      <td>Daly City</td>\n",
              "      <td>California</td>\n",
              "      <td>100,007</td>\n",
              "      <td>104,901</td>\n",
              "      <td>−4.67%</td>\n",
              "      <td>7.6 sq mi</td>\n",
              "      <td>19.7 km2</td>\n",
              "      <td>13,803/sq mi</td>\n",
              "      <td>5,329/km2</td>\n",
              "      <td>37°41′N 122°28′W﻿ / ﻿37.69°N 122.47°W﻿ / 37.69...</td>\n",
              "    </tr>\n",
              "  </tbody>\n",
              "</table>\n",
              "<p>334 rows × 10 columns</p>\n",
              "</div>\n",
              "    <div class=\"colab-df-buttons\">\n",
              "\n",
              "  <div class=\"colab-df-container\">\n",
              "    <button class=\"colab-df-convert\" onclick=\"convertToInteractive('df-c86ca809-e72f-4bd5-bd06-c71f488f6b55')\"\n",
              "            title=\"Convert this dataframe to an interactive table.\"\n",
              "            style=\"display:none;\">\n",
              "\n",
              "  <svg xmlns=\"http://www.w3.org/2000/svg\" height=\"24px\" viewBox=\"0 -960 960 960\">\n",
              "    <path d=\"M120-120v-720h720v720H120Zm60-500h600v-160H180v160Zm220 220h160v-160H400v160Zm0 220h160v-160H400v160ZM180-400h160v-160H180v160Zm440 0h160v-160H620v160ZM180-180h160v-160H180v160Zm440 0h160v-160H620v160Z\"/>\n",
              "  </svg>\n",
              "    </button>\n",
              "\n",
              "  <style>\n",
              "    .colab-df-container {\n",
              "      display:flex;\n",
              "      gap: 12px;\n",
              "    }\n",
              "\n",
              "    .colab-df-convert {\n",
              "      background-color: #E8F0FE;\n",
              "      border: none;\n",
              "      border-radius: 50%;\n",
              "      cursor: pointer;\n",
              "      display: none;\n",
              "      fill: #1967D2;\n",
              "      height: 32px;\n",
              "      padding: 0 0 0 0;\n",
              "      width: 32px;\n",
              "    }\n",
              "\n",
              "    .colab-df-convert:hover {\n",
              "      background-color: #E2EBFA;\n",
              "      box-shadow: 0px 1px 2px rgba(60, 64, 67, 0.3), 0px 1px 3px 1px rgba(60, 64, 67, 0.15);\n",
              "      fill: #174EA6;\n",
              "    }\n",
              "\n",
              "    .colab-df-buttons div {\n",
              "      margin-bottom: 4px;\n",
              "    }\n",
              "\n",
              "    [theme=dark] .colab-df-convert {\n",
              "      background-color: #3B4455;\n",
              "      fill: #D2E3FC;\n",
              "    }\n",
              "\n",
              "    [theme=dark] .colab-df-convert:hover {\n",
              "      background-color: #434B5C;\n",
              "      box-shadow: 0px 1px 3px 1px rgba(0, 0, 0, 0.15);\n",
              "      filter: drop-shadow(0px 1px 2px rgba(0, 0, 0, 0.3));\n",
              "      fill: #FFFFFF;\n",
              "    }\n",
              "  </style>\n",
              "\n",
              "    <script>\n",
              "      const buttonEl =\n",
              "        document.querySelector('#df-c86ca809-e72f-4bd5-bd06-c71f488f6b55 button.colab-df-convert');\n",
              "      buttonEl.style.display =\n",
              "        google.colab.kernel.accessAllowed ? 'block' : 'none';\n",
              "\n",
              "      async function convertToInteractive(key) {\n",
              "        const element = document.querySelector('#df-c86ca809-e72f-4bd5-bd06-c71f488f6b55');\n",
              "        const dataTable =\n",
              "          await google.colab.kernel.invokeFunction('convertToInteractive',\n",
              "                                                    [key], {});\n",
              "        if (!dataTable) return;\n",
              "\n",
              "        const docLinkHtml = 'Like what you see? Visit the ' +\n",
              "          '<a target=\"_blank\" href=https://colab.research.google.com/notebooks/data_table.ipynb>data table notebook</a>'\n",
              "          + ' to learn more about interactive tables.';\n",
              "        element.innerHTML = '';\n",
              "        dataTable['output_type'] = 'display_data';\n",
              "        await google.colab.output.renderOutput(dataTable, element);\n",
              "        const docLink = document.createElement('div');\n",
              "        docLink.innerHTML = docLinkHtml;\n",
              "        element.appendChild(docLink);\n",
              "      }\n",
              "    </script>\n",
              "  </div>\n",
              "\n",
              "\n",
              "<div id=\"df-1034c8c6-a743-4363-bc2d-43eb36868fb5\">\n",
              "  <button class=\"colab-df-quickchart\" onclick=\"quickchart('df-1034c8c6-a743-4363-bc2d-43eb36868fb5')\"\n",
              "            title=\"Suggest charts.\"\n",
              "            style=\"display:none;\">\n",
              "\n",
              "<svg xmlns=\"http://www.w3.org/2000/svg\" height=\"24px\"viewBox=\"0 0 24 24\"\n",
              "     width=\"24px\">\n",
              "    <g>\n",
              "        <path d=\"M19 3H5c-1.1 0-2 .9-2 2v14c0 1.1.9 2 2 2h14c1.1 0 2-.9 2-2V5c0-1.1-.9-2-2-2zM9 17H7v-7h2v7zm4 0h-2V7h2v10zm4 0h-2v-4h2v4z\"/>\n",
              "    </g>\n",
              "</svg>\n",
              "  </button>\n",
              "\n",
              "<style>\n",
              "  .colab-df-quickchart {\n",
              "      --bg-color: #E8F0FE;\n",
              "      --fill-color: #1967D2;\n",
              "      --hover-bg-color: #E2EBFA;\n",
              "      --hover-fill-color: #174EA6;\n",
              "      --disabled-fill-color: #AAA;\n",
              "      --disabled-bg-color: #DDD;\n",
              "  }\n",
              "\n",
              "  [theme=dark] .colab-df-quickchart {\n",
              "      --bg-color: #3B4455;\n",
              "      --fill-color: #D2E3FC;\n",
              "      --hover-bg-color: #434B5C;\n",
              "      --hover-fill-color: #FFFFFF;\n",
              "      --disabled-bg-color: #3B4455;\n",
              "      --disabled-fill-color: #666;\n",
              "  }\n",
              "\n",
              "  .colab-df-quickchart {\n",
              "    background-color: var(--bg-color);\n",
              "    border: none;\n",
              "    border-radius: 50%;\n",
              "    cursor: pointer;\n",
              "    display: none;\n",
              "    fill: var(--fill-color);\n",
              "    height: 32px;\n",
              "    padding: 0;\n",
              "    width: 32px;\n",
              "  }\n",
              "\n",
              "  .colab-df-quickchart:hover {\n",
              "    background-color: var(--hover-bg-color);\n",
              "    box-shadow: 0 1px 2px rgba(60, 64, 67, 0.3), 0 1px 3px 1px rgba(60, 64, 67, 0.15);\n",
              "    fill: var(--button-hover-fill-color);\n",
              "  }\n",
              "\n",
              "  .colab-df-quickchart-complete:disabled,\n",
              "  .colab-df-quickchart-complete:disabled:hover {\n",
              "    background-color: var(--disabled-bg-color);\n",
              "    fill: var(--disabled-fill-color);\n",
              "    box-shadow: none;\n",
              "  }\n",
              "\n",
              "  .colab-df-spinner {\n",
              "    border: 2px solid var(--fill-color);\n",
              "    border-color: transparent;\n",
              "    border-bottom-color: var(--fill-color);\n",
              "    animation:\n",
              "      spin 1s steps(1) infinite;\n",
              "  }\n",
              "\n",
              "  @keyframes spin {\n",
              "    0% {\n",
              "      border-color: transparent;\n",
              "      border-bottom-color: var(--fill-color);\n",
              "      border-left-color: var(--fill-color);\n",
              "    }\n",
              "    20% {\n",
              "      border-color: transparent;\n",
              "      border-left-color: var(--fill-color);\n",
              "      border-top-color: var(--fill-color);\n",
              "    }\n",
              "    30% {\n",
              "      border-color: transparent;\n",
              "      border-left-color: var(--fill-color);\n",
              "      border-top-color: var(--fill-color);\n",
              "      border-right-color: var(--fill-color);\n",
              "    }\n",
              "    40% {\n",
              "      border-color: transparent;\n",
              "      border-right-color: var(--fill-color);\n",
              "      border-top-color: var(--fill-color);\n",
              "    }\n",
              "    60% {\n",
              "      border-color: transparent;\n",
              "      border-right-color: var(--fill-color);\n",
              "    }\n",
              "    80% {\n",
              "      border-color: transparent;\n",
              "      border-right-color: var(--fill-color);\n",
              "      border-bottom-color: var(--fill-color);\n",
              "    }\n",
              "    90% {\n",
              "      border-color: transparent;\n",
              "      border-bottom-color: var(--fill-color);\n",
              "    }\n",
              "  }\n",
              "</style>\n",
              "\n",
              "  <script>\n",
              "    async function quickchart(key) {\n",
              "      const quickchartButtonEl =\n",
              "        document.querySelector('#' + key + ' button');\n",
              "      quickchartButtonEl.disabled = true;  // To prevent multiple clicks.\n",
              "      quickchartButtonEl.classList.add('colab-df-spinner');\n",
              "      try {\n",
              "        const charts = await google.colab.kernel.invokeFunction(\n",
              "            'suggestCharts', [key], {});\n",
              "      } catch (error) {\n",
              "        console.error('Error during call to suggestCharts:', error);\n",
              "      }\n",
              "      quickchartButtonEl.classList.remove('colab-df-spinner');\n",
              "      quickchartButtonEl.classList.add('colab-df-quickchart-complete');\n",
              "    }\n",
              "    (() => {\n",
              "      let quickchartButtonEl =\n",
              "        document.querySelector('#df-1034c8c6-a743-4363-bc2d-43eb36868fb5 button');\n",
              "      quickchartButtonEl.style.display =\n",
              "        google.colab.kernel.accessAllowed ? 'block' : 'none';\n",
              "    })();\n",
              "  </script>\n",
              "</div>\n",
              "    </div>\n",
              "  </div>\n"
            ]
          },
          "metadata": {},
          "execution_count": 10
        }
      ]
    },
    {
      "cell_type": "markdown",
      "source": [
        "* Check for duplicates and print amount of duplicates existing in the final data\n",
        "*   Delete duplicate rows from final data\n",
        "*   Print message displaying amount of duplicates after deleting duplicates, which should be 0\n",
        "\n"
      ],
      "metadata": {
        "id": "vqdhomE_bLXV"
      }
    },
    {
      "cell_type": "code",
      "source": [
        "number_of_duplicates = final_data.duplicated().sum()\n",
        "print (f\" Number of duplicates before : {number_of_duplicates}\")\n",
        "\n",
        "# Delete duplicate rows\n",
        "final_data = final_data.drop_duplicates()\n",
        "\n",
        "number_of_duplicates = final_data.duplicated().sum()\n",
        "print (f\" Number of duplicates after removing : {number_of_duplicates}\")"
      ],
      "metadata": {
        "colab": {
          "base_uri": "https://localhost:8080/"
        },
        "id": "reKKyc8nFCmS",
        "outputId": "c9723afc-f998-48df-9731-5f9ba4baf255"
      },
      "execution_count": null,
      "outputs": [
        {
          "output_type": "stream",
          "name": "stdout",
          "text": [
            " Number of duplicates before : 0\n",
            " Number of duplicates after removing : 0\n"
          ]
        }
      ]
    },
    {
      "cell_type": "markdown",
      "source": [
        "*   Inspect the data and check for any noisy entries.\n",
        "*   Check to make sure that the number of entries is equal to number of non-null entries."
      ],
      "metadata": {
        "id": "lARnw9SpbePD"
      }
    },
    {
      "cell_type": "code",
      "source": [
        "final_data.info()"
      ],
      "metadata": {
        "colab": {
          "base_uri": "https://localhost:8080/"
        },
        "id": "98oxHsboFE6Z",
        "outputId": "dd934658-2c3e-4ae6-8ae4-b0eedd3a0071"
      },
      "execution_count": null,
      "outputs": [
        {
          "output_type": "stream",
          "name": "stdout",
          "text": [
            "<class 'pandas.core.frame.DataFrame'>\n",
            "Int64Index: 334 entries, 0 to 333\n",
            "Data columns (total 10 columns):\n",
            " #   Column                             Non-Null Count  Dtype \n",
            "---  ------                             --------------  ----- \n",
            " 0   City                               333 non-null    object\n",
            " 1   State                              333 non-null    object\n",
            " 2   2022 Estimate                      333 non-null    object\n",
            " 3   2020 Census                        333 non-null    object\n",
            " 4   Percent Change                     333 non-null    object\n",
            " 5   2020 land area in sq mi            333 non-null    object\n",
            " 6   2020 land area in sq km            333 non-null    object\n",
            " 7   2020 population density per sq mi  333 non-null    object\n",
            " 8   2020 population density per sq km  333 non-null    object\n",
            " 9   Location                           333 non-null    object\n",
            "dtypes: object(10)\n",
            "memory usage: 28.7+ KB\n"
          ]
        }
      ]
    },
    {
      "cell_type": "markdown",
      "source": [
        "There are 334 rows but 333 non-null entries, so we delete the row with NULL entries. Inspect info to ensure that all NULL entries were deleted."
      ],
      "metadata": {
        "id": "VmxOVqI5b4Vo"
      }
    },
    {
      "cell_type": "code",
      "source": [
        "final_data = final_data.dropna()\n",
        "final_data.info()"
      ],
      "metadata": {
        "colab": {
          "base_uri": "https://localhost:8080/"
        },
        "id": "hKSDsOxZLIpU",
        "outputId": "a6fda23a-1ca4-4eb0-a1ff-58919e3c1c07"
      },
      "execution_count": null,
      "outputs": [
        {
          "output_type": "stream",
          "name": "stdout",
          "text": [
            "<class 'pandas.core.frame.DataFrame'>\n",
            "Int64Index: 333 entries, 1 to 333\n",
            "Data columns (total 10 columns):\n",
            " #   Column                             Non-Null Count  Dtype \n",
            "---  ------                             --------------  ----- \n",
            " 0   City                               333 non-null    object\n",
            " 1   State                              333 non-null    object\n",
            " 2   2022 Estimate                      333 non-null    object\n",
            " 3   2020 Census                        333 non-null    object\n",
            " 4   Percent Change                     333 non-null    object\n",
            " 5   2020 land area in sq mi            333 non-null    object\n",
            " 6   2020 land area in sq km            333 non-null    object\n",
            " 7   2020 population density per sq mi  333 non-null    object\n",
            " 8   2020 population density per sq km  333 non-null    object\n",
            " 9   Location                           333 non-null    object\n",
            "dtypes: object(10)\n",
            "memory usage: 28.6+ KB\n"
          ]
        }
      ]
    },
    {
      "cell_type": "markdown",
      "source": [
        "Additional transformations:\n",
        "*   Define a function to clean and convert strings\n",
        "*   Use the .replace action to replace or remove any unnecessary strings and convert the columns into floats\n",
        "*   Use the import string to import the alphabet lowercase in order to remove superscript text next to city names and clean data\n",
        "*   Display final data\n",
        "\n"
      ],
      "metadata": {
        "id": "0cMC3amUcfuT"
      }
    },
    {
      "cell_type": "code",
      "source": [
        "import string\n",
        "\n",
        "def clean_string_and_convert(s):\n",
        "    s = str(s).replace(\"\\xa0sq\\xa0mi\",\"\")\n",
        "    s = str(s).replace(\",\",\"\")\n",
        "    s = str(s).replace(\"\\xa0km2\",\"\")\n",
        "    s = str(s).replace(\"/sq\\xa0mi\",\"\")\n",
        "    s = str(s).replace(\"/km2\",\"\")\n",
        "    for c in string.ascii_lowercase:\n",
        "      s = str(s).replace(\"[\"+c,\"\")\n",
        "    s = str(s).replace(\"]\",\"\")\n",
        "    s = str(s).replace(\"%\",\"\")\n",
        "    converted = s\n",
        "    return converted\n",
        "\n",
        "final_data[\"City\"] = final_data[\"City\"].apply(clean_string_and_convert)\n",
        "final_data[\"2022 Estimate\"] = final_data[\"2022 Estimate\"].apply(clean_string_and_convert).astype(float)\n",
        "final_data[\"2020 Census\"] = final_data[\"2020 Census\"].apply(clean_string_and_convert).astype(float)\n",
        "final_data[\"Percent Change\"] = final_data[\"Percent Change\"].apply(clean_string_and_convert)\n",
        "final_data[\"2020 land area in sq mi\"] = final_data[\"2020 land area in sq mi\"].apply(clean_string_and_convert).astype(float)\n",
        "final_data[\"2020 land area in sq km\"] = final_data[\"2020 land area in sq km\"].apply(clean_string_and_convert).astype(float)\n",
        "final_data[\"2020 population density per sq mi\"] = final_data[\"2020 population density per sq mi\"].apply(clean_string_and_convert).astype(float)\n",
        "final_data[\"2020 population density per sq km\"] = final_data[\"2020 population density per sq km\"].apply(clean_string_and_convert).astype(float)\n",
        "\n",
        "final_data"
      ],
      "metadata": {
        "colab": {
          "base_uri": "https://localhost:8080/",
          "height": 1000
        },
        "id": "VFFKrTAFFOwh",
        "outputId": "ad20f033-ee47-4216-bb44-069caeb25d00"
      },
      "execution_count": 32,
      "outputs": [
        {
          "output_type": "execute_result",
          "data": {
            "text/plain": [
              "            City          State  2022 Estimate  2020 Census Percent Change  \\\n",
              "1       New York       New York      8335897.0    8804190.0          −5.32   \n",
              "2    Los Angeles     California      3822238.0    3898747.0          −1.96   \n",
              "3        Chicago       Illinois      2665039.0    2746388.0          −2.96   \n",
              "4        Houston          Texas      2302878.0    2304580.0          −0.07   \n",
              "5        Phoenix        Arizona      1644409.0    1608139.0          +2.26   \n",
              "..           ...            ...            ...          ...            ...   \n",
              "329       Albany       New York       100826.0      99224.0          +1.61   \n",
              "330     Hesperia     California       100744.0      99818.0          +0.93   \n",
              "331  New Bedford  Massachusetts       100682.0     101079.0          −0.39   \n",
              "332    Davenport           Iowa       100486.0     101724.0          −1.22   \n",
              "333    Daly City     California       100007.0     104901.0          −4.67   \n",
              "\n",
              "     2020 land area in sq mi  2020 land area in sq km  \\\n",
              "1                      300.5                    778.3   \n",
              "2                      469.5                   1216.0   \n",
              "3                      227.7                    589.7   \n",
              "4                      640.4                   1658.6   \n",
              "5                      518.0                   1341.6   \n",
              "..                       ...                      ...   \n",
              "329                     21.4                     55.4   \n",
              "330                     72.7                    188.3   \n",
              "331                     20.0                     51.8   \n",
              "332                     63.8                    165.2   \n",
              "333                      7.6                     19.7   \n",
              "\n",
              "     2020 population density per sq mi  2020 population density per sq km  \\\n",
              "1                              29298.0                            11312.0   \n",
              "2                               8304.0                             3206.0   \n",
              "3                              12061.0                             4657.0   \n",
              "4                               3599.0                             1390.0   \n",
              "5                               3105.0                             1199.0   \n",
              "..                                 ...                                ...   \n",
              "329                             4637.0                             1790.0   \n",
              "330                             1373.0                              530.0   \n",
              "331                             5054.0                             1951.0   \n",
              "332                             1594.0                              615.0   \n",
              "333                            13803.0                             5329.0   \n",
              "\n",
              "                                              Location  \n",
              "1    40°40′N 73°56′W﻿ / ﻿40.66°N 73.94°W﻿ / 40.66; ...  \n",
              "2    34°01′N 118°25′W﻿ / ﻿34.02°N 118.41°W﻿ / 34.02...  \n",
              "3    41°50′N 87°41′W﻿ / ﻿41.84°N 87.68°W﻿ / 41.84; ...  \n",
              "4    29°47′N 95°23′W﻿ / ﻿29.79°N 95.39°W﻿ / 29.79; ...  \n",
              "5    33°34′N 112°05′W﻿ / ﻿33.57°N 112.09°W﻿ / 33.57...  \n",
              "..                                                 ...  \n",
              "329  42°40′N 73°48′W﻿ / ﻿42.67°N 73.80°W﻿ / 42.67; ...  \n",
              "330  34°24′N 117°19′W﻿ / ﻿34.40°N 117.32°W﻿ / 34.40...  \n",
              "331  41°40′N 70°56′W﻿ / ﻿41.66°N 70.94°W﻿ / 41.66; ...  \n",
              "332  41°34′N 90°36′W﻿ / ﻿41.56°N 90.60°W﻿ / 41.56; ...  \n",
              "333  37°41′N 122°28′W﻿ / ﻿37.69°N 122.47°W﻿ / 37.69...  \n",
              "\n",
              "[333 rows x 10 columns]"
            ],
            "text/html": [
              "\n",
              "  <div id=\"df-38bb4df8-f650-42e6-8859-b29556a8e8fc\" class=\"colab-df-container\">\n",
              "    <div>\n",
              "<style scoped>\n",
              "    .dataframe tbody tr th:only-of-type {\n",
              "        vertical-align: middle;\n",
              "    }\n",
              "\n",
              "    .dataframe tbody tr th {\n",
              "        vertical-align: top;\n",
              "    }\n",
              "\n",
              "    .dataframe thead th {\n",
              "        text-align: right;\n",
              "    }\n",
              "</style>\n",
              "<table border=\"1\" class=\"dataframe\">\n",
              "  <thead>\n",
              "    <tr style=\"text-align: right;\">\n",
              "      <th></th>\n",
              "      <th>City</th>\n",
              "      <th>State</th>\n",
              "      <th>2022 Estimate</th>\n",
              "      <th>2020 Census</th>\n",
              "      <th>Percent Change</th>\n",
              "      <th>2020 land area in sq mi</th>\n",
              "      <th>2020 land area in sq km</th>\n",
              "      <th>2020 population density per sq mi</th>\n",
              "      <th>2020 population density per sq km</th>\n",
              "      <th>Location</th>\n",
              "    </tr>\n",
              "  </thead>\n",
              "  <tbody>\n",
              "    <tr>\n",
              "      <th>1</th>\n",
              "      <td>New York</td>\n",
              "      <td>New York</td>\n",
              "      <td>8335897.0</td>\n",
              "      <td>8804190.0</td>\n",
              "      <td>−5.32</td>\n",
              "      <td>300.5</td>\n",
              "      <td>778.3</td>\n",
              "      <td>29298.0</td>\n",
              "      <td>11312.0</td>\n",
              "      <td>40°40′N 73°56′W﻿ / ﻿40.66°N 73.94°W﻿ / 40.66; ...</td>\n",
              "    </tr>\n",
              "    <tr>\n",
              "      <th>2</th>\n",
              "      <td>Los Angeles</td>\n",
              "      <td>California</td>\n",
              "      <td>3822238.0</td>\n",
              "      <td>3898747.0</td>\n",
              "      <td>−1.96</td>\n",
              "      <td>469.5</td>\n",
              "      <td>1216.0</td>\n",
              "      <td>8304.0</td>\n",
              "      <td>3206.0</td>\n",
              "      <td>34°01′N 118°25′W﻿ / ﻿34.02°N 118.41°W﻿ / 34.02...</td>\n",
              "    </tr>\n",
              "    <tr>\n",
              "      <th>3</th>\n",
              "      <td>Chicago</td>\n",
              "      <td>Illinois</td>\n",
              "      <td>2665039.0</td>\n",
              "      <td>2746388.0</td>\n",
              "      <td>−2.96</td>\n",
              "      <td>227.7</td>\n",
              "      <td>589.7</td>\n",
              "      <td>12061.0</td>\n",
              "      <td>4657.0</td>\n",
              "      <td>41°50′N 87°41′W﻿ / ﻿41.84°N 87.68°W﻿ / 41.84; ...</td>\n",
              "    </tr>\n",
              "    <tr>\n",
              "      <th>4</th>\n",
              "      <td>Houston</td>\n",
              "      <td>Texas</td>\n",
              "      <td>2302878.0</td>\n",
              "      <td>2304580.0</td>\n",
              "      <td>−0.07</td>\n",
              "      <td>640.4</td>\n",
              "      <td>1658.6</td>\n",
              "      <td>3599.0</td>\n",
              "      <td>1390.0</td>\n",
              "      <td>29°47′N 95°23′W﻿ / ﻿29.79°N 95.39°W﻿ / 29.79; ...</td>\n",
              "    </tr>\n",
              "    <tr>\n",
              "      <th>5</th>\n",
              "      <td>Phoenix</td>\n",
              "      <td>Arizona</td>\n",
              "      <td>1644409.0</td>\n",
              "      <td>1608139.0</td>\n",
              "      <td>+2.26</td>\n",
              "      <td>518.0</td>\n",
              "      <td>1341.6</td>\n",
              "      <td>3105.0</td>\n",
              "      <td>1199.0</td>\n",
              "      <td>33°34′N 112°05′W﻿ / ﻿33.57°N 112.09°W﻿ / 33.57...</td>\n",
              "    </tr>\n",
              "    <tr>\n",
              "      <th>...</th>\n",
              "      <td>...</td>\n",
              "      <td>...</td>\n",
              "      <td>...</td>\n",
              "      <td>...</td>\n",
              "      <td>...</td>\n",
              "      <td>...</td>\n",
              "      <td>...</td>\n",
              "      <td>...</td>\n",
              "      <td>...</td>\n",
              "      <td>...</td>\n",
              "    </tr>\n",
              "    <tr>\n",
              "      <th>329</th>\n",
              "      <td>Albany</td>\n",
              "      <td>New York</td>\n",
              "      <td>100826.0</td>\n",
              "      <td>99224.0</td>\n",
              "      <td>+1.61</td>\n",
              "      <td>21.4</td>\n",
              "      <td>55.4</td>\n",
              "      <td>4637.0</td>\n",
              "      <td>1790.0</td>\n",
              "      <td>42°40′N 73°48′W﻿ / ﻿42.67°N 73.80°W﻿ / 42.67; ...</td>\n",
              "    </tr>\n",
              "    <tr>\n",
              "      <th>330</th>\n",
              "      <td>Hesperia</td>\n",
              "      <td>California</td>\n",
              "      <td>100744.0</td>\n",
              "      <td>99818.0</td>\n",
              "      <td>+0.93</td>\n",
              "      <td>72.7</td>\n",
              "      <td>188.3</td>\n",
              "      <td>1373.0</td>\n",
              "      <td>530.0</td>\n",
              "      <td>34°24′N 117°19′W﻿ / ﻿34.40°N 117.32°W﻿ / 34.40...</td>\n",
              "    </tr>\n",
              "    <tr>\n",
              "      <th>331</th>\n",
              "      <td>New Bedford</td>\n",
              "      <td>Massachusetts</td>\n",
              "      <td>100682.0</td>\n",
              "      <td>101079.0</td>\n",
              "      <td>−0.39</td>\n",
              "      <td>20.0</td>\n",
              "      <td>51.8</td>\n",
              "      <td>5054.0</td>\n",
              "      <td>1951.0</td>\n",
              "      <td>41°40′N 70°56′W﻿ / ﻿41.66°N 70.94°W﻿ / 41.66; ...</td>\n",
              "    </tr>\n",
              "    <tr>\n",
              "      <th>332</th>\n",
              "      <td>Davenport</td>\n",
              "      <td>Iowa</td>\n",
              "      <td>100486.0</td>\n",
              "      <td>101724.0</td>\n",
              "      <td>−1.22</td>\n",
              "      <td>63.8</td>\n",
              "      <td>165.2</td>\n",
              "      <td>1594.0</td>\n",
              "      <td>615.0</td>\n",
              "      <td>41°34′N 90°36′W﻿ / ﻿41.56°N 90.60°W﻿ / 41.56; ...</td>\n",
              "    </tr>\n",
              "    <tr>\n",
              "      <th>333</th>\n",
              "      <td>Daly City</td>\n",
              "      <td>California</td>\n",
              "      <td>100007.0</td>\n",
              "      <td>104901.0</td>\n",
              "      <td>−4.67</td>\n",
              "      <td>7.6</td>\n",
              "      <td>19.7</td>\n",
              "      <td>13803.0</td>\n",
              "      <td>5329.0</td>\n",
              "      <td>37°41′N 122°28′W﻿ / ﻿37.69°N 122.47°W﻿ / 37.69...</td>\n",
              "    </tr>\n",
              "  </tbody>\n",
              "</table>\n",
              "<p>333 rows × 10 columns</p>\n",
              "</div>\n",
              "    <div class=\"colab-df-buttons\">\n",
              "\n",
              "  <div class=\"colab-df-container\">\n",
              "    <button class=\"colab-df-convert\" onclick=\"convertToInteractive('df-38bb4df8-f650-42e6-8859-b29556a8e8fc')\"\n",
              "            title=\"Convert this dataframe to an interactive table.\"\n",
              "            style=\"display:none;\">\n",
              "\n",
              "  <svg xmlns=\"http://www.w3.org/2000/svg\" height=\"24px\" viewBox=\"0 -960 960 960\">\n",
              "    <path d=\"M120-120v-720h720v720H120Zm60-500h600v-160H180v160Zm220 220h160v-160H400v160Zm0 220h160v-160H400v160ZM180-400h160v-160H180v160Zm440 0h160v-160H620v160ZM180-180h160v-160H180v160Zm440 0h160v-160H620v160Z\"/>\n",
              "  </svg>\n",
              "    </button>\n",
              "\n",
              "  <style>\n",
              "    .colab-df-container {\n",
              "      display:flex;\n",
              "      gap: 12px;\n",
              "    }\n",
              "\n",
              "    .colab-df-convert {\n",
              "      background-color: #E8F0FE;\n",
              "      border: none;\n",
              "      border-radius: 50%;\n",
              "      cursor: pointer;\n",
              "      display: none;\n",
              "      fill: #1967D2;\n",
              "      height: 32px;\n",
              "      padding: 0 0 0 0;\n",
              "      width: 32px;\n",
              "    }\n",
              "\n",
              "    .colab-df-convert:hover {\n",
              "      background-color: #E2EBFA;\n",
              "      box-shadow: 0px 1px 2px rgba(60, 64, 67, 0.3), 0px 1px 3px 1px rgba(60, 64, 67, 0.15);\n",
              "      fill: #174EA6;\n",
              "    }\n",
              "\n",
              "    .colab-df-buttons div {\n",
              "      margin-bottom: 4px;\n",
              "    }\n",
              "\n",
              "    [theme=dark] .colab-df-convert {\n",
              "      background-color: #3B4455;\n",
              "      fill: #D2E3FC;\n",
              "    }\n",
              "\n",
              "    [theme=dark] .colab-df-convert:hover {\n",
              "      background-color: #434B5C;\n",
              "      box-shadow: 0px 1px 3px 1px rgba(0, 0, 0, 0.15);\n",
              "      filter: drop-shadow(0px 1px 2px rgba(0, 0, 0, 0.3));\n",
              "      fill: #FFFFFF;\n",
              "    }\n",
              "  </style>\n",
              "\n",
              "    <script>\n",
              "      const buttonEl =\n",
              "        document.querySelector('#df-38bb4df8-f650-42e6-8859-b29556a8e8fc button.colab-df-convert');\n",
              "      buttonEl.style.display =\n",
              "        google.colab.kernel.accessAllowed ? 'block' : 'none';\n",
              "\n",
              "      async function convertToInteractive(key) {\n",
              "        const element = document.querySelector('#df-38bb4df8-f650-42e6-8859-b29556a8e8fc');\n",
              "        const dataTable =\n",
              "          await google.colab.kernel.invokeFunction('convertToInteractive',\n",
              "                                                    [key], {});\n",
              "        if (!dataTable) return;\n",
              "\n",
              "        const docLinkHtml = 'Like what you see? Visit the ' +\n",
              "          '<a target=\"_blank\" href=https://colab.research.google.com/notebooks/data_table.ipynb>data table notebook</a>'\n",
              "          + ' to learn more about interactive tables.';\n",
              "        element.innerHTML = '';\n",
              "        dataTable['output_type'] = 'display_data';\n",
              "        await google.colab.output.renderOutput(dataTable, element);\n",
              "        const docLink = document.createElement('div');\n",
              "        docLink.innerHTML = docLinkHtml;\n",
              "        element.appendChild(docLink);\n",
              "      }\n",
              "    </script>\n",
              "  </div>\n",
              "\n",
              "\n",
              "<div id=\"df-20201111-72f2-48d5-b9cb-c9f6a545876a\">\n",
              "  <button class=\"colab-df-quickchart\" onclick=\"quickchart('df-20201111-72f2-48d5-b9cb-c9f6a545876a')\"\n",
              "            title=\"Suggest charts.\"\n",
              "            style=\"display:none;\">\n",
              "\n",
              "<svg xmlns=\"http://www.w3.org/2000/svg\" height=\"24px\"viewBox=\"0 0 24 24\"\n",
              "     width=\"24px\">\n",
              "    <g>\n",
              "        <path d=\"M19 3H5c-1.1 0-2 .9-2 2v14c0 1.1.9 2 2 2h14c1.1 0 2-.9 2-2V5c0-1.1-.9-2-2-2zM9 17H7v-7h2v7zm4 0h-2V7h2v10zm4 0h-2v-4h2v4z\"/>\n",
              "    </g>\n",
              "</svg>\n",
              "  </button>\n",
              "\n",
              "<style>\n",
              "  .colab-df-quickchart {\n",
              "      --bg-color: #E8F0FE;\n",
              "      --fill-color: #1967D2;\n",
              "      --hover-bg-color: #E2EBFA;\n",
              "      --hover-fill-color: #174EA6;\n",
              "      --disabled-fill-color: #AAA;\n",
              "      --disabled-bg-color: #DDD;\n",
              "  }\n",
              "\n",
              "  [theme=dark] .colab-df-quickchart {\n",
              "      --bg-color: #3B4455;\n",
              "      --fill-color: #D2E3FC;\n",
              "      --hover-bg-color: #434B5C;\n",
              "      --hover-fill-color: #FFFFFF;\n",
              "      --disabled-bg-color: #3B4455;\n",
              "      --disabled-fill-color: #666;\n",
              "  }\n",
              "\n",
              "  .colab-df-quickchart {\n",
              "    background-color: var(--bg-color);\n",
              "    border: none;\n",
              "    border-radius: 50%;\n",
              "    cursor: pointer;\n",
              "    display: none;\n",
              "    fill: var(--fill-color);\n",
              "    height: 32px;\n",
              "    padding: 0;\n",
              "    width: 32px;\n",
              "  }\n",
              "\n",
              "  .colab-df-quickchart:hover {\n",
              "    background-color: var(--hover-bg-color);\n",
              "    box-shadow: 0 1px 2px rgba(60, 64, 67, 0.3), 0 1px 3px 1px rgba(60, 64, 67, 0.15);\n",
              "    fill: var(--button-hover-fill-color);\n",
              "  }\n",
              "\n",
              "  .colab-df-quickchart-complete:disabled,\n",
              "  .colab-df-quickchart-complete:disabled:hover {\n",
              "    background-color: var(--disabled-bg-color);\n",
              "    fill: var(--disabled-fill-color);\n",
              "    box-shadow: none;\n",
              "  }\n",
              "\n",
              "  .colab-df-spinner {\n",
              "    border: 2px solid var(--fill-color);\n",
              "    border-color: transparent;\n",
              "    border-bottom-color: var(--fill-color);\n",
              "    animation:\n",
              "      spin 1s steps(1) infinite;\n",
              "  }\n",
              "\n",
              "  @keyframes spin {\n",
              "    0% {\n",
              "      border-color: transparent;\n",
              "      border-bottom-color: var(--fill-color);\n",
              "      border-left-color: var(--fill-color);\n",
              "    }\n",
              "    20% {\n",
              "      border-color: transparent;\n",
              "      border-left-color: var(--fill-color);\n",
              "      border-top-color: var(--fill-color);\n",
              "    }\n",
              "    30% {\n",
              "      border-color: transparent;\n",
              "      border-left-color: var(--fill-color);\n",
              "      border-top-color: var(--fill-color);\n",
              "      border-right-color: var(--fill-color);\n",
              "    }\n",
              "    40% {\n",
              "      border-color: transparent;\n",
              "      border-right-color: var(--fill-color);\n",
              "      border-top-color: var(--fill-color);\n",
              "    }\n",
              "    60% {\n",
              "      border-color: transparent;\n",
              "      border-right-color: var(--fill-color);\n",
              "    }\n",
              "    80% {\n",
              "      border-color: transparent;\n",
              "      border-right-color: var(--fill-color);\n",
              "      border-bottom-color: var(--fill-color);\n",
              "    }\n",
              "    90% {\n",
              "      border-color: transparent;\n",
              "      border-bottom-color: var(--fill-color);\n",
              "    }\n",
              "  }\n",
              "</style>\n",
              "\n",
              "  <script>\n",
              "    async function quickchart(key) {\n",
              "      const quickchartButtonEl =\n",
              "        document.querySelector('#' + key + ' button');\n",
              "      quickchartButtonEl.disabled = true;  // To prevent multiple clicks.\n",
              "      quickchartButtonEl.classList.add('colab-df-spinner');\n",
              "      try {\n",
              "        const charts = await google.colab.kernel.invokeFunction(\n",
              "            'suggestCharts', [key], {});\n",
              "      } catch (error) {\n",
              "        console.error('Error during call to suggestCharts:', error);\n",
              "      }\n",
              "      quickchartButtonEl.classList.remove('colab-df-spinner');\n",
              "      quickchartButtonEl.classList.add('colab-df-quickchart-complete');\n",
              "    }\n",
              "    (() => {\n",
              "      let quickchartButtonEl =\n",
              "        document.querySelector('#df-20201111-72f2-48d5-b9cb-c9f6a545876a button');\n",
              "      quickchartButtonEl.style.display =\n",
              "        google.colab.kernel.accessAllowed ? 'block' : 'none';\n",
              "    })();\n",
              "  </script>\n",
              "</div>\n",
              "    </div>\n",
              "  </div>\n"
            ]
          },
          "metadata": {},
          "execution_count": 32
        }
      ]
    },
    {
      "cell_type": "markdown",
      "source": [
        "Store the DataFrame table created on the local disk as a .csv file to be used later using Pandas dataframes."
      ],
      "metadata": {
        "id": "nI4R7kGLc7QY"
      }
    },
    {
      "cell_type": "code",
      "source": [
        "final_data.to_csv(\"List_of_United_States_Cities_by_Population.csv\")"
      ],
      "metadata": {
        "id": "1ZaH2sEpM2JI"
      },
      "execution_count": 33,
      "outputs": []
    },
    {
      "cell_type": "markdown",
      "source": [
        "Read the csv just saved and load back as a dataframe."
      ],
      "metadata": {
        "id": "PJVOn7NddHVz"
      }
    },
    {
      "cell_type": "code",
      "source": [
        "US_cities_df = pd.read_csv(\"List_of_United_States_Cities_by_Population.csv\")\n"
      ],
      "metadata": {
        "id": "6HekXCVERFSA"
      },
      "execution_count": null,
      "outputs": []
    },
    {
      "cell_type": "markdown",
      "source": [
        "Import libraries scipy and pyplot for data visualizations."
      ],
      "metadata": {
        "id": "VXp6jzCsdMRs"
      }
    },
    {
      "cell_type": "code",
      "source": [
        "## Import libraries\n",
        "## if you see any import error, install libraries through pip install command\n",
        "import scipy\n",
        "from matplotlib import pyplot as plt\n",
        "print (\"Imported all libraries successfully...\")"
      ],
      "metadata": {
        "colab": {
          "base_uri": "https://localhost:8080/"
        },
        "id": "RC0zbOT8SuIN",
        "outputId": "f03ebf20-9513-42fe-fac6-dd7bcdbe578a"
      },
      "execution_count": null,
      "outputs": [
        {
          "output_type": "stream",
          "name": "stdout",
          "text": [
            "Imported all libraries successfully...\n"
          ]
        }
      ]
    },
    {
      "cell_type": "markdown",
      "source": [
        "To study the association between two variables, calculate the correlation coefficient.\n",
        "*   Import pearsonr from scipy.stats\n",
        "*   Calculate the coefficient using the two columns/variables that we want to compare\n",
        "\n",
        "Below we see a weak correlation between 2020 census population and 2020 land area in square miles.2020 census population and the land area are not very strongly correlated at 0.3636 showing a weaker positive correlation, indicating that a greater land area does not necessarily result in greater population.\n",
        "\n",
        "\n"
      ],
      "metadata": {
        "id": "Ex7o2KzcdUUl"
      }
    },
    {
      "cell_type": "code",
      "source": [
        "from scipy.stats import pearsonr\n",
        "\n",
        "p = pearsonr(US_cities_df[\"2020 Census\"],US_cities_df[\"2020 land area in sq mi\"])\n",
        "print (p[0])"
      ],
      "metadata": {
        "colab": {
          "base_uri": "https://localhost:8080/"
        },
        "id": "NclGjzBUQyiE",
        "outputId": "f4774e09-71be-4a5b-cd8c-05cfe4bfd3a2"
      },
      "execution_count": null,
      "outputs": [
        {
          "output_type": "stream",
          "name": "stdout",
          "text": [
            "0.3636020585067414\n"
          ]
        }
      ]
    },
    {
      "cell_type": "markdown",
      "source": [
        "Create a scatterplot to compare 2020 Census population data and 2020 land area in square miles.\n",
        "*   Define both columns and their associated column in the dataframe\n",
        "*   Use the plt.scatter to compare both columns and define the marker\n",
        "*   Define the x and y-axis labels, along with their units, for the scatterplot graph, as well as the plot title\n"
      ],
      "metadata": {
        "id": "vgJLOeCAd6wJ"
      }
    },
    {
      "cell_type": "code",
      "source": [
        "population_column = US_cities_df[\"2020 Census\"]\n",
        "land_column = US_cities_df[\"2020 land area in sq mi\"]\n",
        "\n",
        "plt.scatter(population_column,land_column, marker=\"*\")\n",
        "\n",
        "plt.xlabel(\"2020 Population (millions)\")\n",
        "plt.ylabel(\"Land Area (in sq mi)\")\n",
        "\n",
        "# We can add a title too\n",
        "plt.title(\"population-vs-land area in 2020\")"
      ],
      "metadata": {
        "colab": {
          "base_uri": "https://localhost:8080/",
          "height": 489
        },
        "id": "g2iE0HydSFtB",
        "outputId": "a346958e-be37-455e-b507-85de33b54a50"
      },
      "execution_count": null,
      "outputs": [
        {
          "output_type": "execute_result",
          "data": {
            "text/plain": [
              "Text(0.5, 1.0, 'population-vs-land area in 2020')"
            ]
          },
          "metadata": {},
          "execution_count": 169
        },
        {
          "output_type": "display_data",
          "data": {
            "text/plain": [
              "<Figure size 640x480 with 1 Axes>"
            ],
            "image/png": "[encoded data removed]"
          },
          "metadata": {}
        }
      ]
    },
    {
      "cell_type": "markdown",
      "source": [
        "As predicted by our correlation coefficient above, there does not seem to be a strong correlation between population and land area as shown by the spread of the points on the plot. There are also a few outliers, either with a large land area and small population or vice versa. There is a visible concentration of smaller cities that have similar populations and land areas."
      ],
      "metadata": {
        "id": "XloH2de2foaZ"
      }
    },
    {
      "cell_type": "markdown",
      "source": [
        "Print the census population and obtain some basic descriptive statistics about a column from the dataframe that will then be used to help interpret a boxplot."
      ],
      "metadata": {
        "id": "4QHcgaUljJnh"
      }
    },
    {
      "cell_type": "code",
      "source": [
        "census_population = US_cities_df[\"2020 Census\"]\n",
        "print (census_population)\n",
        "census_population.describe()"
      ],
      "metadata": {
        "colab": {
          "base_uri": "https://localhost:8080/"
        },
        "id": "UonMOX1ah0Wc",
        "outputId": "0e810062-4345-486d-8c07-c4db85f5214a"
      },
      "execution_count": 30,
      "outputs": [
        {
          "output_type": "stream",
          "name": "stdout",
          "text": [
            "0      8804190.0\n",
            "1      3898747.0\n",
            "2      2746388.0\n",
            "3      2304580.0\n",
            "4      1608139.0\n",
            "         ...    \n",
            "328      99224.0\n",
            "329      99818.0\n",
            "330     101079.0\n",
            "331     101724.0\n",
            "332     104901.0\n",
            "Name: 2020 Census, Length: 333, dtype: float64\n"
          ]
        },
        {
          "output_type": "execute_result",
          "data": {
            "text/plain": [
              "count    3.330000e+02\n",
              "mean     2.933924e+05\n",
              "std      5.860932e+05\n",
              "min      8.995600e+04\n",
              "25%      1.163170e+05\n",
              "50%      1.559840e+05\n",
              "75%      2.625270e+05\n",
              "max      8.804190e+06\n",
              "Name: 2020 Census, dtype: float64"
            ]
          },
          "metadata": {},
          "execution_count": 30
        }
      ]
    },
    {
      "cell_type": "markdown",
      "source": [
        "Create a boxplot to find the summary of the dataset for a specific variable, in this case, 2020 census population data.\n",
        "*   Define the variable/column that you want the boxplot to plot\n",
        "*   Define the x and y-axis labels, along with their units, for the scatterplot graph, as well as the plot title\n"
      ],
      "metadata": {
        "id": "a-lIHKbAee_x"
      }
    },
    {
      "cell_type": "code",
      "source": [
        "population_column = US_cities_df[\"2020 Census\"]\n",
        "\n",
        "plt.boxplot(population_column)\n",
        "\n",
        "plt.xlabel(\"2020 Census\")\n",
        "plt.ylabel(\"Population in millions\")\n",
        "plt.title(\"2020 Census Population Data\")"
      ],
      "metadata": {
        "colab": {
          "base_uri": "https://localhost:8080/",
          "height": 489
        },
        "id": "jbOqGwUAR1YL",
        "outputId": "7ce6e47f-f8f3-42b3-b06b-0194d1bc2048"
      },
      "execution_count": null,
      "outputs": [
        {
          "output_type": "execute_result",
          "data": {
            "text/plain": [
              "Text(0.5, 1.0, '2020 Census Population Data')"
            ]
          },
          "metadata": {},
          "execution_count": 179
        },
        {
          "output_type": "display_data",
          "data": {
            "text/plain": [
              "<Figure size 640x480 with 1 Axes>"
            ],
            "image/png": "[encoded data removed]"
          },
          "metadata": {}
        }
      ]
    },
    {
      "cell_type": "markdown",
      "source": [
        "In the boxplot, we can see that first to third quartiles remain between 0 and 100,000 people in cities, and there are a few outliers above 200,000 people and only one outlying city, which is also the maximum, with a population over 800,000 people.Population generally skews towards the minimum compared to the maximum, making the maximum and larger values outliers."
      ],
      "metadata": {
        "id": "aqqPJ9OYgNq2"
      }
    }
  ]
}
